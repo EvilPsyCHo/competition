{
 "cells": [
  {
   "cell_type": "code",
   "execution_count": 202,
   "metadata": {
    "collapsed": true
   },
   "outputs": [],
   "source": [
    "import numpy as np\n",
    "import torch\n",
    "import torch.nn.functional as F\n",
    "from torch.autograd import Variable\n",
    "import matplotlib.pyplot as plt\n",
    "import seaborn as sns\n",
    "%matplotlib inline"
   ]
  },
  {
   "cell_type": "code",
   "execution_count": 195,
   "metadata": {
    "collapsed": true
   },
   "outputs": [],
   "source": [
    "x = np.linspace(-100, 100, 100).reshape(-1, 1)\n",
    "y = 2.5 * x ** 3 + np.random.normal(0, 1)"
   ]
  },
  {
   "cell_type": "code",
   "execution_count": 196,
   "metadata": {
    "collapsed": true
   },
   "outputs": [],
   "source": [
    "x_tensor = Variable(torch.Tensor(x))\n",
    "y_tensor = Variable(torch.Tensor(y))"
   ]
  },
  {
   "cell_type": "code",
   "execution_count": 197,
   "metadata": {},
   "outputs": [
    {
     "data": {
      "text/plain": [
       "<matplotlib.collections.PathCollection at 0x11cc77588>"
      ]
     },
     "execution_count": 197,
     "metadata": {},
     "output_type": "execute_result"
    },
    {
     "data": {
      "image/png": "[encoded data removed]",
      "text/plain": [
       "<matplotlib.figure.Figure at 0x11cbf6208>"
      ]
     },
     "metadata": {},
     "output_type": "display_data"
    }
   ],
   "source": [
    "plt.scatter(x, y )"
   ]
  },
  {
   "cell_type": "code",
   "execution_count": 198,
   "metadata": {},
   "outputs": [
    {
     "data": {
      "text/plain": [
       "Variable containing:\n",
       " 1.0000\n",
       " 2.1000\n",
       " 0.0000\n",
       "[torch.FloatTensor of size 3]"
      ]
     },
     "execution_count": 198,
     "metadata": {},
     "output_type": "execute_result"
    }
   ],
   "source": [
    "relu(Variable(torch.Tensor([1,2.1,-1])))"
   ]
  },
  {
   "cell_type": "code",
   "execution_count": 210,
   "metadata": {
    "collapsed": true
   },
   "outputs": [],
   "source": [
    "class Model(torch.nn.Module):\n",
    "    def __init__(self):\n",
    "        super(Model, self).__init__()\n",
    "        self.linear_1 = torch.nn.\n",
    "        self.linear_2 = torch.nn.Linear(8, 4)\n",
    "        self.linear_3 = torch.nn.Linear(4, 1)\n",
    "    \n",
    "    def forward(self, x):\n",
    "        x = self.linear_1(x)\n",
    "        x = F.dropout(x)\n",
    "        x = F.sigmoid(self.linear_2(x))\n",
    "        x = self.linear_3(x)\n",
    "        return x"
   ]
  },
  {
   "cell_type": "code",
   "execution_count": 211,
   "metadata": {},
   "outputs": [],
   "source": [
    "model = Model()\n",
    "loss_func = torch.nn.MSELoss()\n",
    "optimizer = torch.optim.Adam(model.parameters(), lr=0.01)"
   ]
  },
  {
   "cell_type": "code",
   "execution_count": 91,
   "metadata": {
    "collapsed": true
   },
   "outputs": [],
   "source": [
    "y_pre = model(x_tensor)"
   ]
  },
  {
   "cell_type": "code",
   "execution_count": 94,
   "metadata": {},
   "outputs": [
    {
     "data": {
      "text/plain": [
       "False"
      ]
     },
     "execution_count": 94,
     "metadata": {},
     "output_type": "execute_result"
    }
   ],
   "source": [
    "torch.cuda.is_available()"
   ]
  },
  {
   "cell_type": "code",
   "execution_count": 206,
   "metadata": {
    "scrolled": false
   },
   "outputs": [
    {
     "name": "stdout",
     "output_type": "stream",
     "text": [
      "0 947690733568.0\n",
      "10 947690602496.0\n",
      "20 947690471424.0\n",
      "30 947690078208.0\n",
      "40 947689553920.0\n",
      "50 947689226240.0\n",
      "60 947688636416.0\n",
      "70 947688308736.0\n",
      "80 947688046592.0\n",
      "90 947687522304.0\n",
      "100 947687194624.0\n",
      "110 947686998016.0\n",
      "120 947686539264.0\n",
      "130 947686211584.0\n",
      "140 947685949440.0\n",
      "150 947685556224.0\n",
      "160 947685097472.0\n",
      "170 947685097472.0\n",
      "180 947684507648.0\n",
      "190 947684179968.0\n",
      "200 947683917824.0\n",
      "210 947683721216.0\n",
      "220 947683524608.0\n",
      "230 947683000320.0\n",
      "240 947682541568.0\n",
      "250 947682213888.0\n",
      "260 947681951744.0\n",
      "270 947681755136.0\n",
      "280 947681689600.0\n",
      "290 947681492992.0\n",
      "300 947681361920.0\n",
      "310 947680903168.0\n",
      "320 947680575488.0\n",
      "330 947680116736.0\n",
      "340 947679920128.0\n",
      "350 947679723520.0\n",
      "360 947679395840.0\n",
      "370 947679002624.0\n",
      "380 947678937088.0\n",
      "390 947678740480.0\n",
      "400 947678412800.0\n",
      "410 947677888512.0\n",
      "420 947677560832.0\n",
      "430 947677429760.0\n",
      "440 947677167616.0\n",
      "450 947677036544.0\n",
      "460 947676643328.0\n",
      "470 947676315648.0\n",
      "480 947676053504.0\n",
      "490 947675922432.0\n",
      "500 947675463680.0\n",
      "510 947675201536.0\n",
      "520 947675070464.0\n",
      "530 947674742784.0\n",
      "540 947674480640.0\n",
      "550 947674152960.0\n",
      "560 947673825280.0\n",
      "570 947673432064.0\n",
      "580 947673366528.0\n",
      "590 947673104384.0\n",
      "600 947672973312.0\n",
      "610 947672711168.0\n",
      "620 947672514560.0\n",
      "630 947672121344.0\n",
      "640 947672121344.0\n",
      "650 947671597056.0\n",
      "660 947671334912.0\n",
      "670 947671138304.0\n",
      "680 947670941696.0\n",
      "690 947670614016.0\n",
      "700 947670417408.0\n",
      "710 947670286336.0\n",
      "720 947669958656.0\n",
      "730 947669696512.0\n",
      "740 947669237760.0\n",
      "750 947668910080.0\n",
      "760 947668647936.0\n",
      "770 947668320256.0\n",
      "780 947668123648.0\n",
      "790 947667927040.0\n",
      "800 947667599360.0\n",
      "810 947667533824.0\n",
      "820 947667337216.0\n",
      "830 947667009536.0\n",
      "840 947666485248.0\n",
      "850 947666157568.0\n",
      "860 947666157568.0\n",
      "870 947665764352.0\n",
      "880 947665502208.0\n",
      "890 947665305600.0\n",
      "900 947665043456.0\n",
      "910 947664846848.0\n",
      "920 947664584704.0\n",
      "930 947664125952.0\n",
      "940 947663929344.0\n",
      "950 947663667200.0\n",
      "960 947663470592.0\n",
      "970 947663142912.0\n",
      "980 947662880768.0\n",
      "990 947662553088.0\n"
     ]
    }
   ],
   "source": [
    "for epoch in range(1000):\n",
    "    # Forward pass: Compute predicted y by passing x to the model\n",
    "    y_pred = model(x_tensor)\n",
    "\n",
    "    # Compute and print loss\n",
    "    loss = loss_func(y_pred, y_tensor)\n",
    "    if epoch%10==0:\n",
    "        print(epoch, loss.data[0])\n",
    "\n",
    "    # Zero gradients, perform a backward pass, and update the weights.\n",
    "    optimizer.zero_grad()\n",
    "    loss.backward()\n",
    "    optimizer.step()"
   ]
  },
  {
   "cell_type": "code",
   "execution_count": 221,
   "metadata": {},
   "outputs": [
    {
     "data": {
      "text/plain": [
       "torch.Size([5, 3])"
      ]
     },
     "execution_count": 221,
     "metadata": {},
     "output_type": "execute_result"
    }
   ],
   "source": [
    "x = torch.Tensor(5, 3)  # 构造一个未初始化的5*3的矩阵\n",
    "x = torch.rand(5, 3)  # 构造一个随机初始化的矩阵\n",
    "x # 此处在notebook中输出x的值来查看具体的x内容\n",
    "x.size()\n"
   ]
  },
  {
   "cell_type": "code",
   "execution_count": 227,
   "metadata": {},
   "outputs": [
    {
     "data": {
      "text/plain": [
       "\n",
       " 0.0187  0.1665  0.1053\n",
       " 0.8952  0.0339  0.9629\n",
       " 0.9167  0.9625  0.8513\n",
       " 0.5755  0.9306  0.0865\n",
       " 0.6090  0.2446  0.3429\n",
       "[torch.FloatTensor of size 5x3]"
      ]
     },
     "execution_count": 227,
     "metadata": {},
     "output_type": "execute_result"
    }
   ],
   "source": [
    "x"
   ]
  },
  {
   "cell_type": "code",
   "execution_count": 225,
   "metadata": {},
   "outputs": [
    {
     "data": {
      "text/plain": [
       "\n",
       " 0.0924  0.1692  0.1023\n",
       " 0.8692  0.7454  0.2962\n",
       " 0.1418  0.4537  0.6061\n",
       " 0.1992  0.9793  0.1659\n",
       " 0.9054  0.3309  0.0814\n",
       "[torch.FloatTensor of size 5x3]"
      ]
     },
     "execution_count": 225,
     "metadata": {},
     "output_type": "execute_result"
    }
   ],
   "source": [
    "y"
   ]
  },
  {
   "cell_type": "code",
   "execution_count": 229,
   "metadata": {},
   "outputs": [
    {
     "data": {
      "text/plain": [
       "\n",
       " 0.1111  0.3357  0.2076\n",
       " 1.7644  0.7794  1.2590\n",
       " 1.0585  1.4162  1.4574\n",
       " 0.7748  1.9099  0.2525\n",
       " 1.5144  0.5755  0.4242\n",
       "[torch.FloatTensor of size 5x3]"
      ]
     },
     "execution_count": 229,
     "metadata": {},
     "output_type": "execute_result"
    }
   ],
   "source": [
    "y.add_(x) # 将y与x相加"
   ]
  },
  {
   "cell_type": "code",
   "execution_count": 234,
   "metadata": {},
   "outputs": [
    {
     "data": {
      "text/plain": [
       "\n",
       " 0.8952  0.0339  0.9629\n",
       " 0.5755  0.9306  0.0865\n",
       "[torch.FloatTensor of size 2x3]"
      ]
     },
     "execution_count": 234,
     "metadata": {},
     "output_type": "execute_result"
    }
   ],
   "source": [
    "x[[1,3],:]"
   ]
  },
  {
   "cell_type": "code",
   "execution_count": null,
   "metadata": {
    "collapsed": true
   },
   "outputs": [],
   "source": []
  }
 ],
 "metadata": {
  "kernelspec": {
   "display_name": "Python 3",
   "language": "python",
   "name": "python3"
  },
  "language_info": {
   "codemirror_mode": {
    "name": "ipython",
    "version": 3
   },
   "file_extension": ".py",
   "mimetype": "text/x-python",
   "name": "python",
   "nbconvert_exporter": "python",
   "pygments_lexer": "ipython3",
   "version": "3.6.1"
  }
 },
 "nbformat": 4,
 "nbformat_minor": 2
}
