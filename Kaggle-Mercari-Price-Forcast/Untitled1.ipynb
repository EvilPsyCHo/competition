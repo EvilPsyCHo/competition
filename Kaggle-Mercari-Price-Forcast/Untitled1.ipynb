{
 "cells": [
  {
   "cell_type": "code",
   "execution_count": 1,
   "metadata": {},
   "outputs": [
    {
     "name": "stderr",
     "output_type": "stream",
     "text": [
      "/Users/zhouzhirui/anaconda3/lib/python3.6/importlib/_bootstrap.py:205: RuntimeWarning: compiletime version 3.5 of module 'tensorflow.python.framework.fast_tensor_util' does not match runtime version 3.6\n",
      "  return f(*args, **kwds)\n",
      "Using TensorFlow backend.\n"
     ]
    }
   ],
   "source": [
    "from functools import wraps\n",
    "import collections\n",
    "import os\n",
    "import time\n",
    "\n",
    "import numpy as np\n",
    "import pandas as pd\n",
    "from sklearn.preprocessing import LabelEncoder, Binarizer, OneHotEncoder\n",
    "from sklearn.model_selection import train_test_split\n",
    "import tensorflow as tf\n",
    "from keras.preprocessing.text import Tokenizer\n",
    "from keras.preprocessing.sequence import pad_sequences\n",
    "import matplotlib.pyplot as plt\n",
    "import seaborn as sns\n",
    "%matplotlib inline"
   ]
  },
  {
   "cell_type": "code",
   "execution_count": 2,
   "metadata": {},
   "outputs": [
    {
     "name": "stdout",
     "output_type": "stream",
     "text": [
      "load data ..\n",
      "handle missing ..\n",
      "upper2lower ..\n"
     ]
    }
   ],
   "source": [
    "kaggle_path = '../input/'\n",
    "mac_path = '/Users/zhouzhirui/data/Mercari_Price_Forcast/'\n",
    "def handle_missing(dataset):\n",
    "        dataset.category.fillna(value=\"missing\", inplace=True)\n",
    "        dataset.brand.fillna(value=\"missing\", inplace=True)\n",
    "        dataset.description.fillna(value=\"missing\", inplace=True)\n",
    "        dataset.loc[dataset.description == 'No description yet', 'description'] = 'missing'\n",
    "        return dataset\n",
    "    \n",
    "def upper2lower(dataset):\n",
    "    for (col, dtype) in dataset.dtypes.iteritems():\n",
    "        if dtype == 'object':\n",
    "            dataset[col] = dataset[col].str.lower()\n",
    "    return dataset\n",
    "\n",
    "def load_data(path):\n",
    "    print('load data ..')\n",
    "    train = pd.read_table(path+'train.tsv')\n",
    "    test = pd.read_table(path+'test.tsv')\n",
    "    merge = pd.concat([train, test], axis=0).reset_index(drop=True)\n",
    "    merge.rename(columns={\n",
    "        'brand_name':'brand',\n",
    "        'category_name':'category',\n",
    "        'item_condition_id':'condition',\n",
    "        'item_description':'description'\n",
    "    }, inplace=True)\n",
    "    print('handle missing ..')\n",
    "    merge = handle_missing(merge)\n",
    "    print('upper2lower ..')\n",
    "    merge = upper2lower(merge)\n",
    "    train = merge[merge.train_id.notnull()].reset_index(drop=True)\n",
    "    test = merge[merge.train_id.isnull()].reset_index(drop=True)\n",
    "    return train, test\n",
    "\n",
    "train, test = load_data(mac_path)"
   ]
  },
  {
   "cell_type": "code",
   "execution_count": 19,
   "metadata": {},
   "outputs": [
    {
     "data": {
      "text/html": [
       "<div>\n",
       "<style>\n",
       "    .dataframe thead tr:only-child th {\n",
       "        text-align: right;\n",
       "    }\n",
       "\n",
       "    .dataframe thead th {\n",
       "        text-align: left;\n",
       "    }\n",
       "\n",
       "    .dataframe tbody tr th {\n",
       "        vertical-align: top;\n",
       "    }\n",
       "</style>\n",
       "<table border=\"1\" class=\"dataframe\">\n",
       "  <thead>\n",
       "    <tr style=\"text-align: right;\">\n",
       "      <th></th>\n",
       "      <th>brand</th>\n",
       "      <th>category</th>\n",
       "      <th>condition</th>\n",
       "      <th>description</th>\n",
       "      <th>name</th>\n",
       "      <th>price</th>\n",
       "      <th>shipping</th>\n",
       "      <th>test_id</th>\n",
       "      <th>train_id</th>\n",
       "    </tr>\n",
       "  </thead>\n",
       "  <tbody>\n",
       "    <tr>\n",
       "      <th>0</th>\n",
       "      <td>missing</td>\n",
       "      <td>men/tops/t-shirts</td>\n",
       "      <td>3</td>\n",
       "      <td>missing</td>\n",
       "      <td>mlb cincinnati reds t shirt size xl</td>\n",
       "      <td>10.0</td>\n",
       "      <td>1</td>\n",
       "      <td>NaN</td>\n",
       "      <td>0.0</td>\n",
       "    </tr>\n",
       "    <tr>\n",
       "      <th>1</th>\n",
       "      <td>razer</td>\n",
       "      <td>electronics/computers &amp; tablets/components &amp; p...</td>\n",
       "      <td>3</td>\n",
       "      <td>this keyboard is in great condition and works ...</td>\n",
       "      <td>razer blackwidow chroma keyboard</td>\n",
       "      <td>52.0</td>\n",
       "      <td>0</td>\n",
       "      <td>NaN</td>\n",
       "      <td>1.0</td>\n",
       "    </tr>\n",
       "    <tr>\n",
       "      <th>2</th>\n",
       "      <td>target</td>\n",
       "      <td>women/tops &amp; blouses/blouse</td>\n",
       "      <td>1</td>\n",
       "      <td>adorable top with a hint of lace and a key hol...</td>\n",
       "      <td>ava-viv blouse</td>\n",
       "      <td>10.0</td>\n",
       "      <td>1</td>\n",
       "      <td>NaN</td>\n",
       "      <td>2.0</td>\n",
       "    </tr>\n",
       "    <tr>\n",
       "      <th>3</th>\n",
       "      <td>missing</td>\n",
       "      <td>home/home décor/home décor accents</td>\n",
       "      <td>1</td>\n",
       "      <td>new with tags. leather horses. retail for [rm]...</td>\n",
       "      <td>leather horse statues</td>\n",
       "      <td>35.0</td>\n",
       "      <td>1</td>\n",
       "      <td>NaN</td>\n",
       "      <td>3.0</td>\n",
       "    </tr>\n",
       "    <tr>\n",
       "      <th>4</th>\n",
       "      <td>missing</td>\n",
       "      <td>women/jewelry/necklaces</td>\n",
       "      <td>1</td>\n",
       "      <td>complete with certificate of authenticity</td>\n",
       "      <td>24k gold plated rose</td>\n",
       "      <td>44.0</td>\n",
       "      <td>0</td>\n",
       "      <td>NaN</td>\n",
       "      <td>4.0</td>\n",
       "    </tr>\n",
       "  </tbody>\n",
       "</table>\n",
       "</div>"
      ],
      "text/plain": [
       "     brand                                           category  condition  \\\n",
       "0  missing                                  men/tops/t-shirts          3   \n",
       "1    razer  electronics/computers & tablets/components & p...          3   \n",
       "2   target                        women/tops & blouses/blouse          1   \n",
       "3  missing                 home/home décor/home décor accents          1   \n",
       "4  missing                            women/jewelry/necklaces          1   \n",
       "\n",
       "                                         description  \\\n",
       "0                                            missing   \n",
       "1  this keyboard is in great condition and works ...   \n",
       "2  adorable top with a hint of lace and a key hol...   \n",
       "3  new with tags. leather horses. retail for [rm]...   \n",
       "4          complete with certificate of authenticity   \n",
       "\n",
       "                                  name  price  shipping  test_id  train_id  \n",
       "0  mlb cincinnati reds t shirt size xl   10.0         1      NaN       0.0  \n",
       "1     razer blackwidow chroma keyboard   52.0         0      NaN       1.0  \n",
       "2                       ava-viv blouse   10.0         1      NaN       2.0  \n",
       "3                leather horse statues   35.0         1      NaN       3.0  \n",
       "4                 24k gold plated rose   44.0         0      NaN       4.0  "
      ]
     },
     "execution_count": 19,
     "metadata": {},
     "output_type": "execute_result"
    }
   ],
   "source": [
    "train.head()"
   ]
  },
  {
   "cell_type": "code",
   "execution_count": 21,
   "metadata": {},
   "outputs": [
    {
     "data": {
      "text/plain": [
       "description\n",
       "0    26.226363\n",
       "1    31.889807\n",
       "Name: price, dtype: float64"
      ]
     },
     "execution_count": 21,
     "metadata": {},
     "output_type": "execute_result"
    }
   ],
   "source": [
    "train.groupby(train['description'].apply(lambda x:1 if '[rm]' in x else 0))['price'].mean()"
   ]
  },
  {
   "cell_type": "code",
   "execution_count": 18,
   "metadata": {},
   "outputs": [
    {
     "data": {
      "text/plain": [
       "women/athletic apparel/pants, tights, leggings                 60177\n",
       "women/tops & blouses/t-shirts                                  46380\n",
       "beauty/makeup/face                                             34335\n",
       "beauty/makeup/lips                                             29910\n",
       "electronics/video games & consoles/games                       26557\n",
       "beauty/makeup/eyes                                             25215\n",
       "electronics/cell phones & accessories/cases, covers & skins    24676\n",
       "women/underwear/bras                                           21274\n",
       "women/tops & blouses/tank, cami                                20284\n",
       "women/tops & blouses/blouse                                    20284\n",
       "women/dresses/above knee, mini                                 20082\n",
       "women/jewelry/necklaces                                        19758\n",
       "women/athletic apparel/shorts                                  19528\n",
       "beauty/makeup/makeup palettes                                  19103\n",
       "women/shoes/boots                                              18864\n",
       "beauty/fragrance/women                                         18628\n",
       "beauty/skin care/face                                          15836\n",
       "women/women's handbags/shoulder bag                            15328\n",
       "men/tops/t-shirts                                              15108\n",
       "women/dresses/knee-length                                      14770\n",
       "women/athletic apparel/shirts & tops                           14738\n",
       "women/shoes/sandals                                            14662\n",
       "women/jewelry/bracelets                                        14497\n",
       "men/shoes/athletic                                             14257\n",
       "kids/toys/dolls & accessories                                  13957\n",
       "women/women's accessories/wallets                              13616\n",
       "women/jeans/slim, skinny                                       13392\n",
       "home/home décor/home décor accents                             13004\n",
       "women/swimwear/two-piece                                       12758\n",
       "women/shoes/athletic                                           12662\n",
       "                                                               ...  \n",
       "handmade/ceramics and pottery/jewelry                              1\n",
       "handmade/housewares/bathroom                                       1\n",
       "handmade/pets/tag                                                  1\n",
       "vintage & collectibles/furniture/entertainment                     1\n",
       "vintage & collectibles/antique/furniture                           1\n",
       "men/suits/one button                                               1\n",
       "handmade/accessories/cuff                                          1\n",
       "men/blazers & sport coats/double breasted                          1\n",
       "handmade/knitting/scarf                                            1\n",
       "other/magazines/international publications                         1\n",
       "handmade/ceramics and pottery/tiles                                1\n",
       "home/home appliances/dishwashers                                   1\n",
       "handmade/furniture/other                                           1\n",
       "handmade/woodworking/accessories                                   1\n",
       "home/home appliances/garbage disposals                             1\n",
       "vintage & collectibles/furniture/storage                           1\n",
       "vintage & collectibles/furniture/shelf                             1\n",
       "handmade/bags and purses/other                                     1\n",
       "vintage & collectibles/supplies/zipper                             1\n",
       "handmade/accessories/belt                                          1\n",
       "vintage & collectibles/furniture/other                             1\n",
       "vintage & collectibles/supplies/ephemera                           1\n",
       "home/bath/bathroom shelves                                         1\n",
       "handmade/furniture/shelf                                           1\n",
       "handmade/quilts/pillow                                             1\n",
       "handmade/bags and purses/diaper bag                                1\n",
       "handmade/woodworking/supplies                                      1\n",
       "vintage & collectibles/housewares/towel                            1\n",
       "handmade/holidays/thanksgiving                                     1\n",
       "handmade/quilts/bed                                                1\n",
       "Name: category, Length: 1288, dtype: int64"
      ]
     },
     "execution_count": 18,
     "metadata": {},
     "output_type": "execute_result"
    }
   ],
   "source": [
    "train.category.value_counts()"
   ]
  },
  {
   "cell_type": "code",
   "execution_count": null,
   "metadata": {
    "collapsed": true
   },
   "outputs": [],
   "source": []
  }
 ],
 "metadata": {
  "kernelspec": {
   "display_name": "Python 3",
   "language": "python",
   "name": "python3"
  },
  "language_info": {
   "codemirror_mode": {
    "name": "ipython",
    "version": 3
   },
   "file_extension": ".py",
   "mimetype": "text/x-python",
   "name": "python",
   "nbconvert_exporter": "python",
   "pygments_lexer": "ipython3",
   "version": "3.6.1"
  }
 },
 "nbformat": 4,
 "nbformat_minor": 2
}
