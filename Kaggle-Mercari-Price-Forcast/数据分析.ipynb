{
 "cells": [
  {
   "cell_type": "code",
   "execution_count": 1,
   "metadata": {},
   "outputs": [
    {
     "name": "stderr",
     "output_type": "stream",
     "text": [
      "Using TensorFlow backend.\n",
      "/Users/zhouzhirui/anaconda3/lib/python3.6/importlib/_bootstrap.py:205: RuntimeWarning: compiletime version 3.5 of module 'tensorflow.python.framework.fast_tensor_util' does not match runtime version 3.6\n",
      "  return f(*args, **kwds)\n"
     ]
    }
   ],
   "source": [
    "from collections import Counter\n",
    "import gc\n",
    "\n",
    "import pandas as pd\n",
    "import numpy as np\n",
    "import matplotlib.pyplot as plt\n",
    "import seaborn as sns\n",
    "from keras.preprocessing.text import Tokenizer\n",
    "from keras.preprocessing.sequence import pad_sequences\n",
    "%matplotlib inline"
   ]
  },
  {
   "cell_type": "code",
   "execution_count": 2,
   "metadata": {
    "collapsed": true
   },
   "outputs": [],
   "source": [
    "class Param:\n",
    "    def __setattr__(self, attr, value):\n",
    "        self.__dict__[attr] = value\n",
    "\n",
    "param = Param()\n",
    "param.brand_num = 2768 + 1         # 大于等于5个数2768\n",
    "param.category_num = 1127 + 1      # 大于等于5个数1127\n",
    "param.vocabulary_size = 150000\n",
    "param.seq_desc_len = 200\n",
    "param.seq_name_len = 50\n",
    "param.seq_cate_len = 50"
   ]
  },
  {
   "cell_type": "code",
   "execution_count": 3,
   "metadata": {},
   "outputs": [],
   "source": [
    "kaggle_path = '../input/'\n",
    "mac_path = '/Users/zhouzhirui/data/Mercari_Price_Forcast/'\n",
    "\n",
    "def load_data(path):\n",
    "    print('load data ..')\n",
    "    train = pd.read_table(path+'train.tsv')\n",
    "    test = pd.read_table(path+'test.tsv')\n",
    "    return train, test\n",
    "\n",
    "def columns_rename(dataset):\n",
    "    dataset.rename(columns={\n",
    "        'brand_name':'brand',\n",
    "        'category_name':'category',\n",
    "        'item_condition_id':'condition',\n",
    "        'item_description':'description'\n",
    "    }, \n",
    "                   inplace=True)\n",
    "    return dataset\n",
    "    \n",
    "def handle_missing(dataset):\n",
    "    dataset.category.fillna(value=\"missing\", inplace=True)\n",
    "    dataset.brand.fillna(value=\"missing\", inplace=True)\n",
    "    dataset.description.fillna(value=\"missing\", inplace=True)\n",
    "    dataset.loc[dataset.description == 'No description yet', 'description'] = 'missing'\n",
    "    return dataset\n",
    "\n",
    "def upper2lower(dataset):\n",
    "    for (col, dtype) in dataset.dtypes.iteritems():\n",
    "        if dtype == 'object':\n",
    "            dataset[col] = dataset[col].str.lower()\n",
    "    return dataset\n",
    "\n",
    "def category2id(dataset, column, most_common_n=None, start=1, ignore=0):\n",
    "    c = Counter(dataset.loc[dataset.test_id.isnull(), column].values)\n",
    "    category_dict = dict()\n",
    "    for idx, (cate, _) in enumerate(c.most_common(most_common_n)):\n",
    "        category_dict[cate] = idx + start\n",
    "    dataset[column] = dataset[column].apply(lambda x: category_dict.get(x, ignore))\n",
    "    return dataset"
   ]
  },
  {
   "cell_type": "code",
   "execution_count": 4,
   "metadata": {
    "scrolled": false
   },
   "outputs": [
    {
     "name": "stdout",
     "output_type": "stream",
     "text": [
      "load data ..\n"
     ]
    }
   ],
   "source": [
    "train, test = load_data(mac_path)\n",
    "merge = pd.concat([train, test], axis=0).reset_index(drop=True)\n",
    "del train, test\n",
    "gc.collect()\n",
    "merge = columns_rename(merge)\n",
    "merge = handle_missing(merge)\n",
    "merge = upper2lower(merge)\n",
    "\n",
    "tk = Tokenizer(param.vocabulary_size)\n",
    "tk.fit_on_texts(\n",
    "    np.hstack([\n",
    "        merge.loc[merge.test_id.isnull(), 'category'].values, \n",
    "        merge.loc[merge.test_id.isnull(), 'name'].values,\n",
    "        merge.loc[merge.test_id.isnull(), 'description'].values\n",
    "    ])\n",
    ")\n",
    "merge['seq_category'] = tk.texts_to_sequences(merge['category'])\n",
    "merge['seq_name'] = tk.texts_to_sequences(merge['name'])\n",
    "merge['seq_description'] = tk.texts_to_sequences(merge['description'])\n",
    "\n",
    "merge = category2id(merge, 'brand', param.brand_num)\n",
    "merge = category2id(merge, 'condition', start=0, ignore=-1)\n",
    "merge = category2id(merge, 'category', param.category_num)\n",
    "merge.drop(['description','name','train_id'], axis=1, inplace=True)\n",
    "merge.to_csv(mac_path + 'merge.csv', index=None)"
   ]
  },
  {
   "cell_type": "code",
   "execution_count": 11,
   "metadata": {},
   "outputs": [
    {
     "data": {
      "text/html": [
       "<div>\n",
       "<style>\n",
       "    .dataframe thead tr:only-child th {\n",
       "        text-align: right;\n",
       "    }\n",
       "\n",
       "    .dataframe thead th {\n",
       "        text-align: left;\n",
       "    }\n",
       "\n",
       "    .dataframe tbody tr th {\n",
       "        vertical-align: top;\n",
       "    }\n",
       "</style>\n",
       "<table border=\"1\" class=\"dataframe\">\n",
       "  <thead>\n",
       "    <tr style=\"text-align: right;\">\n",
       "      <th></th>\n",
       "      <th>brand</th>\n",
       "      <th>category</th>\n",
       "      <th>condition</th>\n",
       "      <th>price</th>\n",
       "      <th>shipping</th>\n",
       "      <th>test_id</th>\n",
       "      <th>seq_category</th>\n",
       "      <th>seq_name</th>\n",
       "      <th>seq_description</th>\n",
       "    </tr>\n",
       "  </thead>\n",
       "  <tbody>\n",
       "    <tr>\n",
       "      <th>0</th>\n",
       "      <td>1</td>\n",
       "      <td>19</td>\n",
       "      <td>1</td>\n",
       "      <td>10.0</td>\n",
       "      <td>1</td>\n",
       "      <td>NaN</td>\n",
       "      <td>[77, 41, 71, 72]</td>\n",
       "      <td>[2490, 8906, 6986, 71, 99, 7, 198]</td>\n",
       "      <td>[83]</td>\n",
       "    </tr>\n",
       "    <tr>\n",
       "      <th>1</th>\n",
       "      <td>585</td>\n",
       "      <td>242</td>\n",
       "      <td>1</td>\n",
       "      <td>52.0</td>\n",
       "      <td>0</td>\n",
       "      <td>NaN</td>\n",
       "      <td>[62, 921, 828, 3280, 1380]</td>\n",
       "      <td>[10846, 25263, 16315, 2749]</td>\n",
       "      <td>[33, 2749, 11, 8, 50, 17, 1, 256, 65, 21, 1218...</td>\n",
       "    </tr>\n",
       "    <tr>\n",
       "      <th>2</th>\n",
       "      <td>82</td>\n",
       "      <td>9</td>\n",
       "      <td>0</td>\n",
       "      <td>10.0</td>\n",
       "      <td>1</td>\n",
       "      <td>NaN</td>\n",
       "      <td>[2, 41, 75, 276]</td>\n",
       "      <td>[7717, 10621, 276]</td>\n",
       "      <td>[700, 74, 10, 5, 5472, 12, 243, 1, 5, 993, 140...</td>\n",
       "    </tr>\n",
       "    <tr>\n",
       "      <th>3</th>\n",
       "      <td>1</td>\n",
       "      <td>28</td>\n",
       "      <td>0</td>\n",
       "      <td>35.0</td>\n",
       "      <td>1</td>\n",
       "      <td>NaN</td>\n",
       "      <td>[37, 37, 196, 37, 196, 502]</td>\n",
       "      <td>[226, 2728, 620]</td>\n",
       "      <td>[6, 10, 80, 226, 6629, 285, 4, 22, 210, 1193, ...</td>\n",
       "    </tr>\n",
       "    <tr>\n",
       "      <th>4</th>\n",
       "      <td>1</td>\n",
       "      <td>12</td>\n",
       "      <td>0</td>\n",
       "      <td>44.0</td>\n",
       "      <td>0</td>\n",
       "      <td>NaN</td>\n",
       "      <td>[2, 105, 348]</td>\n",
       "      <td>[4995, 127, 1143, 340]</td>\n",
       "      <td>[913, 10, 6995, 12, 2104]</td>\n",
       "    </tr>\n",
       "  </tbody>\n",
       "</table>\n",
       "</div>"
      ],
      "text/plain": [
       "   brand  category  condition  price  shipping  test_id  \\\n",
       "0      1        19          1   10.0         1      NaN   \n",
       "1    585       242          1   52.0         0      NaN   \n",
       "2     82         9          0   10.0         1      NaN   \n",
       "3      1        28          0   35.0         1      NaN   \n",
       "4      1        12          0   44.0         0      NaN   \n",
       "\n",
       "                  seq_category                            seq_name  \\\n",
       "0             [77, 41, 71, 72]  [2490, 8906, 6986, 71, 99, 7, 198]   \n",
       "1   [62, 921, 828, 3280, 1380]         [10846, 25263, 16315, 2749]   \n",
       "2             [2, 41, 75, 276]                  [7717, 10621, 276]   \n",
       "3  [37, 37, 196, 37, 196, 502]                    [226, 2728, 620]   \n",
       "4                [2, 105, 348]              [4995, 127, 1143, 340]   \n",
       "\n",
       "                                     seq_description  \n",
       "0                                               [83]  \n",
       "1  [33, 2749, 11, 8, 50, 17, 1, 256, 65, 21, 1218...  \n",
       "2  [700, 74, 10, 5, 5472, 12, 243, 1, 5, 993, 140...  \n",
       "3  [6, 10, 80, 226, 6629, 285, 4, 22, 210, 1193, ...  \n",
       "4                          [913, 10, 6995, 12, 2104]  "
      ]
     },
     "execution_count": 11,
     "metadata": {},
     "output_type": "execute_result"
    }
   ],
   "source": [
    "merge.head()"
   ]
  },
  {
   "cell_type": "code",
   "execution_count": null,
   "metadata": {
    "collapsed": true
   },
   "outputs": [],
   "source": []
  }
 ],
 "metadata": {
  "kernelspec": {
   "display_name": "Python 3",
   "language": "python",
   "name": "python3"
  },
  "language_info": {
   "codemirror_mode": {
    "name": "ipython",
    "version": 3
   },
   "file_extension": ".py",
   "mimetype": "text/x-python",
   "name": "python",
   "nbconvert_exporter": "python",
   "pygments_lexer": "ipython3",
   "version": "3.6.1"
  }
 },
 "nbformat": 4,
 "nbformat_minor": 2
}
