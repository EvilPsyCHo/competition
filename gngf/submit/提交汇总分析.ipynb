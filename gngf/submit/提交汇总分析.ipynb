{
 "cells": [
  {
   "cell_type": "code",
   "execution_count": 7,
   "metadata": {
    "collapsed": true
   },
   "outputs": [],
   "source": [
    "import pandas as pd\n",
    "import numpy as np\n",
    "\n",
    "def load_dataset(plant):\n",
    "    print(f'loading plant {plant} data')\n",
    "    train = pd.read_csv(f'../data/train_{plant}.csv', parse_dates=[\"时间\"]).drop_duplicates().reset_index(drop=True)\n",
    "    test = pd.read_csv(f'../data/test_{plant}.csv', parse_dates=[\"时间\"])\n",
    "    train.columns = ['time', 'irr', 'ws', 'wd', 'temp', 'pr', 'hm', 'mirr', 'power']\n",
    "    test.columns = ['id', 'time', 'irr', 'ws', 'wd', 'temp', 'pr', 'hm']\n",
    "    data = pd.concat([train, test])\n",
    "    return data\n"
   ]
  },
  {
   "cell_type": "code",
   "execution_count": 27,
   "metadata": {
    "collapsed": true
   },
   "outputs": [],
   "source": [
    "plant2id = pd.read_csv(\"/home/zhouzr/桌面/plan2id.csv\")\n",
    "s1106 = pd.read_csv('/home/zhouzr/桌面/submit_20181106.csv')\n",
    "s1107 = pd.read_csv('/home/zhouzr/桌面/submit_20181107.csv')\n",
    "s1107v2 = pd.read_csv('/home/zhouzr/桌面/submit_20181107v2.csv')"
   ]
  },
  {
   "cell_type": "code",
   "execution_count": 28,
   "metadata": {
    "collapsed": true
   },
   "outputs": [],
   "source": [
    "s1106 = s1106.merge(plant2id, left_on=\"id\", right_on=\"id\", how=\"left\")\n",
    "s1107 = s1107.merge(plant2id, left_on=\"id\", right_on=\"id\", how=\"left\")\n",
    "s1107v2 = s1107v2.merge(plant2id, left_on=\"id\", right_on=\"id\", how=\"left\")"
   ]
  },
  {
   "cell_type": "code",
   "execution_count": 34,
   "metadata": {},
   "outputs": [
    {
     "data": {
      "text/plain": [
       "plant\n",
       "1     3.993926\n",
       "2     3.479934\n",
       "3    11.018803\n",
       "4    17.539959\n",
       "Name: predicition, dtype: float64"
      ]
     },
     "execution_count": 34,
     "metadata": {},
     "output_type": "execute_result"
    }
   ],
   "source": [
    "s1106[s1106.predicition>=0.3].groupby(\"plant\")[\"predicition\"].mean()"
   ]
  },
  {
   "cell_type": "code",
   "execution_count": 35,
   "metadata": {},
   "outputs": [
    {
     "data": {
      "text/plain": [
       "plant\n",
       "1     4.109229\n",
       "2     3.371725\n",
       "3    11.116600\n",
       "4    17.051167\n",
       "Name: predicition, dtype: float64"
      ]
     },
     "execution_count": 35,
     "metadata": {},
     "output_type": "execute_result"
    }
   ],
   "source": [
    "s1107[s1107.predicition>=0.3].groupby(\"plant\")[\"predicition\"].mean()"
   ]
  },
  {
   "cell_type": "code",
   "execution_count": 36,
   "metadata": {},
   "outputs": [
    {
     "data": {
      "text/plain": [
       "plant\n",
       "1     4.086830\n",
       "2     2.862332\n",
       "3    12.673199\n",
       "4    17.590213\n",
       "Name: predicition, dtype: float64"
      ]
     },
     "execution_count": 36,
     "metadata": {},
     "output_type": "execute_result"
    }
   ],
   "source": [
    "s1107v2[s1107v2.predicition>=0.3].groupby(\"plant\")[\"predicition\"].mean()"
   ]
  },
  {
   "cell_type": "code",
   "execution_count": null,
   "metadata": {
    "collapsed": true
   },
   "outputs": [],
   "source": []
  }
 ],
 "metadata": {
  "kernelspec": {
   "display_name": "Python 3",
   "language": "python",
   "name": "python3"
  },
  "language_info": {
   "codemirror_mode": {
    "name": "ipython",
    "version": 3
   },
   "file_extension": ".py",
   "mimetype": "text/x-python",
   "name": "python",
   "nbconvert_exporter": "python",
   "pygments_lexer": "ipython3",
   "version": "3.6.3"
  }
 },
 "nbformat": 4,
 "nbformat_minor": 2
}
