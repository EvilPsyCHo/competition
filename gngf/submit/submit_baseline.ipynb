{
 "cells": [
  {
   "cell_type": "markdown",
   "metadata": {},
   "source": [
    "# Baseline\n",
    "\n",
    "+ 20181106\n",
    "\n",
    "```\n",
    "loading plant 1 data\n",
    "plant 1  score_mean: 0.1199, score_std:0.0049\n",
    "------------------------------\n",
    "loading plant 2 data\n",
    "plant 2  score_mean: 0.1410, score_std:0.0183\n",
    "------------------------------\n",
    "loading plant 3 data\n",
    "plant 3  score_mean: 0.1285, score_std:0.0136\n",
    "------------------------------\n",
    "loading plant 4 data\n",
    "plant 4  score_mean: 0.1340, score_std:0.0072\n",
    "------------------------------\n",
    "\n",
    "online \n",
    "```"
   ]
  },
  {
   "cell_type": "code",
   "execution_count": 10,
   "metadata": {
    "collapsed": true
   },
   "outputs": [],
   "source": [
    "import pandas as pd\n",
    "import numpy as np\n",
    "import matplotlib.pyplot as plt\n",
    "%matplotlib inline\n",
    "import seaborn as sns\n",
    "import os\n",
    "from sklearn.metrics import mutual_info_score\n",
    "\n",
    "import warnings\n",
    "warnings.filterwarnings(\"ignore\")\n",
    "\n",
    "# import xgboost as xgb\n",
    "import lightgbm as lgb\n",
    "import logging"
   ]
  },
  {
   "cell_type": "code",
   "execution_count": 44,
   "metadata": {
    "collapsed": true
   },
   "outputs": [],
   "source": [
    "from sklearn.model_selection import KFold, ParameterGrid\n",
    "import lightgbm as lgb\n",
    "import numpy as np\n",
    "# coding: utf-8\n",
    "# Author: Zhirui Zhou\n",
    "# Mail  : evilpsycho42@gmail.com\n",
    "# Time  : 11/5/18\n",
    "import numpy as np\n",
    "\n",
    "\n",
    "plant_power = {\n",
    "    1: 10,\n",
    "    2: 10,\n",
    "    3: 40,\n",
    "    4: 50\n",
    "}\n",
    "\n",
    "\n",
    "def mae_d(df_groupby, plant):\n",
    "    pm = df_groupby['pm'].values\n",
    "    pp = df_groupby['pp'].values\n",
    "    threshold = plant_power[plant] * 0.03\n",
    "    index = pm >= threshold\n",
    "    return np.abs(pm[index] - pp[index]).sum() / (np.sum(index) * plant_power[plant])\n",
    "\n",
    "\n",
    "def mae_m(df, plant):\n",
    "    return df.groupby(df['datetime'].dt.day).apply(lambda x: mae_d(x, plant)).mean()\n",
    "\n",
    "\n",
    "def score(df, plant):\n",
    "    \"\"\"\n",
    "\n",
    "    :param df: datetime, pm, pp\n",
    "    :param plant:\n",
    "    :return:\n",
    "    \"\"\"\n",
    "    month = df['datetime'].dt.month.unique()\n",
    "    ret = []\n",
    "    for m in month:\n",
    "        ret.append(mae_m(df[df['datetime'].dt.month == m], plant))\n",
    "    return np.mean(ret)\n",
    "\n",
    "\n",
    "def score2(pm, pp, plant):\n",
    "    threshold = plant_power[plant] * 0.03\n",
    "    index = pm >= threshold\n",
    "    return np.abs(pm[index] - pp[index]).sum() / (np.sum(index) * plant_power[plant])\n",
    "\n",
    "\n",
    "\n",
    "def lgb_cv(params, x, y, metric, k=3, **kwargs):\n",
    "    kf = KFold(k, **kwargs)\n",
    "    weights = np.ones_like(y)\n",
    "    weights[y > 0.03] = 5\n",
    "    ret = []\n",
    "    for train, valid in kf.split(x):\n",
    "        train_set = lgb.Dataset(x[train], y[train], weight=weights[train], **kwargs)\n",
    "        valid_set = lgb.Dataset(x[valid], y[valid], weight=weights[valid], **kwargs)\n",
    "        mdl = lgb.train(params, train_set, valid_sets=[train_set, valid_set], verbose_eval=-1)\n",
    "        ret.append(metric(y[valid], mdl.predict(x[valid])))\n",
    "    return ret\n",
    "\n",
    "\n",
    "def lgb_grid_search_cv(paras_grid, x, y, k=3, **kwargs):\n",
    "    grid = list(ParameterGrid(paras_grid))\n",
    "    max_score = np.inf\n",
    "    best_param = None\n",
    "    n_step = len(grid)\n",
    "    for step, p in enumerate(grid):\n",
    "        score = np.mean(lgb_cv(p, x, y, k=k, **kwargs))\n",
    "        if score < max_score:\n",
    "            best_param = p\n",
    "            max_score = score\n",
    "            print(f'step {step / n_step * 100: .1f}%, best cv score: {max_score: .4f}')\n",
    "    return best_param, max_score\n"
   ]
  },
  {
   "cell_type": "code",
   "execution_count": 60,
   "metadata": {},
   "outputs": [],
   "source": [
    "def load_dataset(plant):\n",
    "    print(f'loading plant {plant} data')\n",
    "    train = pd.read_csv(f'../data/train_{plant}.csv', parse_dates=[\"时间\"]).drop_duplicates().reset_index(drop=True)\n",
    "    test = pd.read_csv(f'../data/test_{plant}.csv', parse_dates=[\"时间\"])\n",
    "    train.columns = ['time', 'irr', 'ws', 'wd', 'temp', 'pr', 'hm', 'mirr', 'power']\n",
    "    test.columns = ['id', 'time', 'irr', 'ws', 'wd', 'temp', 'pr', 'hm']\n",
    "#     print(f'train_set from {train.time.min().date()} to {train.time.max().date()}')\n",
    "#     print(f'test_set from {test.time.min().date()} to {test.time.max().date()}')\n",
    "    data = pd.concat([train, test])\n",
    "    return data\n"
   ]
  },
  {
   "cell_type": "code",
   "execution_count": 61,
   "metadata": {},
   "outputs": [],
   "source": [
    "param = {\n",
    "    'bagging_fraction': 0.7, \n",
    "    'boosting': 'gbdt', \n",
    "    'feature_fraction': 1.0, \n",
    "    'learning_rate': 0.05, \n",
    "    'n_iter': 125, \n",
    "    'num_leaves': 50, \n",
    "    'objective': \n",
    "    'regression_l1', \n",
    "    'task': 'train'\n",
    "}\n"
   ]
  },
  {
   "cell_type": "code",
   "execution_count": 65,
   "metadata": {},
   "outputs": [
    {
     "name": "stdout",
     "output_type": "stream",
     "text": [
      "loading plant 1 data\n",
      "plant 1  score_mean: 0.1199, score_std:0.0049\n",
      "------------------------------\n",
      "loading plant 2 data\n",
      "plant 2  score_mean: 0.1410, score_std:0.0183\n",
      "------------------------------\n",
      "loading plant 3 data\n",
      "plant 3  score_mean: 0.1285, score_std:0.0136\n",
      "------------------------------\n",
      "loading plant 4 data\n",
      "plant 4  score_mean: 0.1340, score_std:0.0072\n",
      "------------------------------\n"
     ]
    }
   ],
   "source": [
    "plants = [1, 2, 3, 4]\n",
    "ret = []\n",
    "for plant in plants:\n",
    "    data = load_dataset(plant=plant)\n",
    "    cv_score = lgb_cv(\n",
    "    param,\n",
    "    data[data.id.isnull()].loc[:, ['hm', 'pr', 'temp', 'wd', 'ws', 'irr']].values,\n",
    "    data[data.id.isnull()]['power'],\n",
    "    lambda x, y: score2(x, y, plant),\n",
    "    k=5\n",
    ")\n",
    "\n",
    "    print(f'plant {plant}  score_mean: {np.mean(cv_score):.4f}, score_std:{np.std(cv_score):.4f}')\n",
    "    print('-' * 30)\n",
    "    \n",
    "    train = data.id.isnull()\n",
    "    test = data.power.isnull()\n",
    "    trainset = lgb.Dataset(data.loc[train, ['hm', 'pr', 'temp', 'wd', 'ws', 'irr']], label=data[train]['power'])\n",
    "    model = lgb.train(param, trainset)\n",
    "    pred = model.predict(data.loc[test, ['hm', 'pr', 'temp', 'wd', 'ws', 'irr']])\n",
    "    pred = pd.DataFrame({\"id\": data[test]['id'], \"predicition\": pred})\n",
    "    ret.append(pred)"
   ]
  },
  {
   "cell_type": "code",
   "execution_count": 74,
   "metadata": {},
   "outputs": [],
   "source": [
    "ret = pd.concat(ret).reset_index(drop=True)"
   ]
  },
  {
   "cell_type": "code",
   "execution_count": 78,
   "metadata": {
    "collapsed": true
   },
   "outputs": [],
   "source": [
    "ret.to_csv(\"/home/zhouzr/桌面/submit_20181106.csv\", index=None)"
   ]
  },
  {
   "cell_type": "code",
   "execution_count": 79,
   "metadata": {},
   "outputs": [
    {
     "data": {
      "text/plain": [
       "(46571, 2)"
      ]
     },
     "execution_count": 79,
     "metadata": {},
     "output_type": "execute_result"
    }
   ],
   "source": [
    "ret.shape"
   ]
  },
  {
   "cell_type": "code",
   "execution_count": null,
   "metadata": {
    "collapsed": true
   },
   "outputs": [],
   "source": []
  }
 ],
 "metadata": {
  "kernelspec": {
   "display_name": "Python 3",
   "language": "python",
   "name": "python3"
  },
  "language_info": {
   "codemirror_mode": {
    "name": "ipython",
    "version": 3
   },
   "file_extension": ".py",
   "mimetype": "text/x-python",
   "name": "python",
   "nbconvert_exporter": "python",
   "pygments_lexer": "ipython3",
   "version": "3.6.3"
  }
 },
 "nbformat": 4,
 "nbformat_minor": 2
}
