{
 "cells": [
  {
   "cell_type": "code",
   "execution_count": 119,
   "metadata": {
    "collapsed": true
   },
   "outputs": [],
   "source": [
    "import torch\n",
    "from torch import nn, optim\n",
    "import torch.nn.functional as F\n",
    "\n",
    "import pandas as pd\n",
    "import numpy as np\n",
    "import matplotlib.pyplot as plt\n",
    "%matplotlib inline\n",
    "import seaborn as sns\n",
    "import os\n",
    "from sklearn.metrics import mutual_info_score\n",
    "from sklearn.preprocessing import MinMaxScaler, StandardScaler, LabelEncoder\n",
    "\n",
    "import warnings\n",
    "warnings.filterwarnings(\"ignore\")\n",
    "\n",
    "def score2(pm, pp, plant):\n",
    "    plant_power = {\n",
    "        1: 10,\n",
    "        2: 10,\n",
    "        3: 40,\n",
    "        4: 50\n",
    "    }\n",
    "    threshold = plant_power[plant] * 0.03\n",
    "    index = pm >= threshold\n",
    "    return np.abs(pm[index] - pp[index]).sum() / (np.sum(index) * plant_power[plant])\n",
    "\n",
    "\n",
    "class AttrProxy(object):\n",
    "    def __init__(self, module, prefix):\n",
    "        self.module = module\n",
    "        self.prefix = prefix\n",
    "\n",
    "    def __getitem__(self, i):\n",
    "        return getattr(self.module, self.prefix + str(i))\n",
    "\n",
    "\n",
    "class DNN(nn.Module):\n",
    "    def __init__(self, param=None):\n",
    "        super().__init__()\n",
    "        if param is None:\n",
    "            param = {\"month\": 4, \"hour\": 8, \"n_layers\": 3, \"n_numerical\": 6}\n",
    "        self.param = param\n",
    "        self.month_embed = nn.Embedding(12, param[\"month\"])\n",
    "        self.hour_embed = nn.Embedding(96, param[\"hour\"])\n",
    "        for i in range(param['n_layers']):\n",
    "            if i == 0:\n",
    "                self.add_module(\n",
    "                    f'fc_{i}',\n",
    "                    nn.Linear(param['hour']+param['month']+param['n_numerical'], 128)\n",
    "                )\n",
    "            else:\n",
    "                self.add_module(f'fc_{i}', nn.Linear(128, 128))\n",
    "        self.fc = AttrProxy(self, 'fc_')\n",
    "        self.output = nn.Linear(128, 1)\n",
    "\n",
    "    def forward(self, month, hour, numerical):\n",
    "        m = self.month_embed(torch.tensor(month).long()).squeeze()\n",
    "        h = self.hour_embed(torch.tensor(hour).long()).squeeze()\n",
    "        numerical = torch.tensor(numerical).float()\n",
    "        x = torch.cat((m, h, numerical), 1)\n",
    "        for i in range(self.param['n_layers']):\n",
    "            x = F.tanh(self.fc[i](x))\n",
    "        x = F.tanh(self.output(x))\n",
    "        return x"
   ]
  },
  {
   "cell_type": "code",
   "execution_count": 120,
   "metadata": {
    "collapsed": true
   },
   "outputs": [],
   "source": [
    "def load_dataset(plant):\n",
    "    import datetime as dt\n",
    "    train = pd.read_csv(f'../data/train_{plant}.csv', parse_dates=[\"时间\"]).drop_duplicates().reset_index(drop=True)\n",
    "    test = pd.read_csv(f'../data/test_{plant}.csv', parse_dates=[\"时间\"])\n",
    "    train.columns = ['time', 'irr', 'ws', 'wd', 'temp', 'pr', 'hm', 'mirr', 'power']\n",
    "    test.columns = ['id', 'time', 'irr', 'ws', 'wd', 'temp', 'pr', 'hm']\n",
    "    data = pd.concat([train, test])\n",
    "    data['time'] = data['time'] + dt.timedelta(seconds=1.)\n",
    "    return data"
   ]
  },
  {
   "cell_type": "code",
   "execution_count": 149,
   "metadata": {},
   "outputs": [],
   "source": [
    "data = load_dataset(1)"
   ]
  },
  {
   "cell_type": "code",
   "execution_count": 150,
   "metadata": {},
   "outputs": [],
   "source": [
    "data['month'] = LabelEncoder().fit_transform(data['time'].dt.month)\n",
    "data['hour'] = LabelEncoder().fit_transform(data['time'].dt.hour * 60 + data['time'].dt.minute)"
   ]
  },
  {
   "cell_type": "code",
   "execution_count": 151,
   "metadata": {},
   "outputs": [],
   "source": [
    "data['wd'] = (data['wd']-180) / 180"
   ]
  },
  {
   "cell_type": "code",
   "execution_count": 152,
   "metadata": {
    "collapsed": true
   },
   "outputs": [],
   "source": [
    "le = StandardScaler()"
   ]
  },
  {
   "cell_type": "code",
   "execution_count": 153,
   "metadata": {},
   "outputs": [],
   "source": [
    "data.loc[data.id.isnull(), 'power'] = le.fit_transform(data[data.id.isnull()]['power'].values.reshape(-1, 1))"
   ]
  },
  {
   "cell_type": "code",
   "execution_count": 154,
   "metadata": {
    "collapsed": true
   },
   "outputs": [],
   "source": [
    "def generator(data, batch, shuffle=True):\n",
    "#     data = data[data.power>0].copy()\n",
    "    n = data.shape[0] // batch\n",
    "    x = data[['hm', 'irr', 'pr', 'temp', 'wd', 'ws']].values\n",
    "    m = data['month'].values.reshape(-1, 1)\n",
    "    h = data['hour'].values.reshape(-1, 1)\n",
    "    y = data['power'].values\n",
    "    idx = np.array(range(data.shape[0]))\n",
    "    if shuffle:\n",
    "        np.random.shuffle(idx)\n",
    "    for i in range(n):\n",
    "        idx_i = idx[i*batch: (i+1)*batch]\n",
    "        yield x[idx_i, :], h[idx_i], m[idx_i], y[idx_i]"
   ]
  },
  {
   "cell_type": "code",
   "execution_count": 157,
   "metadata": {
    "scrolled": false
   },
   "outputs": [
    {
     "name": "stdout",
     "output_type": "stream",
     "text": [
      "epoch: 0, step: 5000, loss:  0.2368\n",
      "0.36306333541870117\n",
      "epoch: 0, step: 10000, loss:  0.2186\n",
      "0.9010601043701172\n",
      "epoch: 0, step: 15000, loss:  0.2158\n",
      "1.1862902641296387\n"
     ]
    }
   ],
   "source": [
    "param = {\"month\": 4, \"hour\": 12, \"n_layers\": 1, \"n_numerical\": 6}\n",
    "model = DNN(param)\n",
    "optimizer = optim.Adam(model.parameters(), 0.005)\n",
    "loss_func = nn.MSELoss()\n",
    "result = []\n",
    "\n",
    "for ep in range(1):\n",
    "    for idx, (x, h, m, y) in enumerate(generator(data[data.id.isnull()], 4, True)):\n",
    "        optimizer.zero_grad()\n",
    "        pred = model(m, h, x)\n",
    "        y = torch.tensor(y).float().unsqueeze(1)\n",
    "        loss = loss_func(pred, y)\n",
    "        loss.backward()\n",
    "        optimizer.step()\n",
    "        result.append(loss.item())\n",
    "        if idx % 5000 == 0 and idx > 0:\n",
    "            l = np.mean(result[-5000:])\n",
    "            print(f'epoch: {ep}, step: {idx}, loss: {l: .4f}')\n",
    "            print(model.output.weight.sum().item())"
   ]
  },
  {
   "cell_type": "code",
   "execution_count": 158,
   "metadata": {},
   "outputs": [
    {
     "data": {
      "text/plain": [
       "[<matplotlib.lines.Line2D at 0x7fae5fcb03c8>]"
      ]
     },
     "execution_count": 158,
     "metadata": {},
     "output_type": "execute_result"
    },
    {
     "data": {
      "image/png": "[encoded data removed]",
      "text/plain": [
       "<matplotlib.figure.Figure at 0x7fae6810c358>"
      ]
     },
     "metadata": {},
     "output_type": "display_data"
    }
   ],
   "source": [
    "plt.plot(result)"
   ]
  },
  {
   "cell_type": "code",
   "execution_count": 159,
   "metadata": {},
   "outputs": [],
   "source": [
    "pred = model(data['month'].values.reshape(-1, 1), data['hour'].values.reshape(-1, 1), data[['hm', 'irr', 'pr', 'temp', 'wd', 'ws']].values)"
   ]
  },
  {
   "cell_type": "code",
   "execution_count": 160,
   "metadata": {},
   "outputs": [],
   "source": [
    "data['pred'] = pred.detach().numpy().reshape(-1)"
   ]
  },
  {
   "cell_type": "code",
   "execution_count": 161,
   "metadata": {},
   "outputs": [
    {
     "data": {
      "text/plain": [
       "<matplotlib.axes._subplots.AxesSubplot at 0x7fae6810cbe0>"
      ]
     },
     "execution_count": 161,
     "metadata": {},
     "output_type": "execute_result"
    },
    {
     "data": {
      "image/png": "[encoded data removed]",
      "text/plain": [
       "<matplotlib.figure.Figure at 0x7fae6807b550>"
      ]
     },
     "metadata": {},
     "output_type": "display_data"
    }
   ],
   "source": [
    "data['pred'].plot()\n",
    "data['power'].plot()"
   ]
  },
  {
   "cell_type": "code",
   "execution_count": 162,
   "metadata": {},
   "outputs": [
    {
     "data": {
      "text/plain": [
       "<matplotlib.axes._subplots.AxesSubplot at 0x7fae680d23c8>"
      ]
     },
     "execution_count": 162,
     "metadata": {},
     "output_type": "execute_result"
    },
    {
     "data": {
      "image/png": "[encoded data removed]",
      "text/plain": [
       "<matplotlib.figure.Figure at 0x7fae5dadfbe0>"
      ]
     },
     "metadata": {},
     "output_type": "display_data"
    }
   ],
   "source": [
    "data['pred'].plot()"
   ]
  },
  {
   "cell_type": "code",
   "execution_count": 163,
   "metadata": {},
   "outputs": [
    {
     "data": {
      "text/plain": [
       "count    6.685800e+04\n",
       "mean     3.917205e-15\n",
       "std      1.000007e+00\n",
       "min     -7.290813e-01\n",
       "25%     -7.117960e-01\n",
       "50%     -7.044359e-01\n",
       "75%      6.837889e-01\n",
       "max      2.803443e+00\n",
       "Name: power, dtype: float64"
      ]
     },
     "execution_count": 163,
     "metadata": {},
     "output_type": "execute_result"
    }
   ],
   "source": [
    "data['power'].describe()"
   ]
  },
  {
   "cell_type": "code",
   "execution_count": 164,
   "metadata": {},
   "outputs": [
    {
     "data": {
      "text/plain": [
       "count    78666.000000\n",
       "mean        -0.140977\n",
       "std          0.752463\n",
       "min         -0.830193\n",
       "25%         -0.740625\n",
       "50%         -0.680286\n",
       "75%          0.870762\n",
       "max          0.999528\n",
       "Name: pred, dtype: float64"
      ]
     },
     "execution_count": 164,
     "metadata": {},
     "output_type": "execute_result"
    }
   ],
   "source": [
    "data['pred'].describe()"
   ]
  },
  {
   "cell_type": "code",
   "execution_count": 165,
   "metadata": {},
   "outputs": [
    {
     "data": {
      "text/plain": [
       "array([[-0.11348141],\n",
       "       [-0.12106574],\n",
       "       [-0.06538761],\n",
       "       ..., \n",
       "       [ 0.02160274],\n",
       "       [ 0.00994574],\n",
       "       [-0.05503166]], dtype=float32)"
      ]
     },
     "execution_count": 165,
     "metadata": {},
     "output_type": "execute_result"
    }
   ],
   "source": [
    "le.inverse_transform(data['pred'].reshape(-1, 1))"
   ]
  },
  {
   "cell_type": "code",
   "execution_count": 166,
   "metadata": {},
   "outputs": [
    {
     "data": {
      "text/plain": [
       "array([[-0.019333],\n",
       "       [-0.021   ],\n",
       "       [-0.022   ],\n",
       "       ..., \n",
       "       [-0.057667],\n",
       "       [-0.058333],\n",
       "       [-0.058667]])"
      ]
     },
     "execution_count": 166,
     "metadata": {},
     "output_type": "execute_result"
    }
   ],
   "source": [
    "le.inverse_transform(data[data.id.isnull()]['power'].reshape(-1, 1))"
   ]
  },
  {
   "cell_type": "code",
   "execution_count": 170,
   "metadata": {
    "collapsed": true
   },
   "outputs": [],
   "source": [
    "from sklearn.metrics import mean_squared_error"
   ]
  },
  {
   "cell_type": "code",
   "execution_count": 171,
   "metadata": {},
   "outputs": [
    {
     "data": {
      "text/plain": [
       "1.8677059054671643"
      ]
     },
     "execution_count": 171,
     "metadata": {},
     "output_type": "execute_result"
    }
   ],
   "source": [
    "mean_squared_error(y_pred=le.inverse_transform(data[data.id.isnull()]['pred'].reshape(-1, 1)), \n",
    "                    y_true=le.inverse_transform(data[data.id.isnull()]['power'].reshape(-1, 1)))"
   ]
  },
  {
   "cell_type": "code",
   "execution_count": 1,
   "metadata": {},
   "outputs": [
    {
     "name": "stderr",
     "output_type": "stream",
     "text": [
      "Using TensorFlow backend.\n"
     ]
    }
   ],
   "source": [
    "import keras"
   ]
  },
  {
   "cell_type": "code",
   "execution_count": null,
   "metadata": {
    "collapsed": true
   },
   "outputs": [],
   "source": []
  }
 ],
 "metadata": {
  "kernelspec": {
   "display_name": "Python 3",
   "language": "python",
   "name": "python3"
  },
  "language_info": {
   "codemirror_mode": {
    "name": "ipython",
    "version": 3
   },
   "file_extension": ".py",
   "mimetype": "text/x-python",
   "name": "python",
   "nbconvert_exporter": "python",
   "pygments_lexer": "ipython3",
   "version": "3.6.3"
  }
 },
 "nbformat": 4,
 "nbformat_minor": 2
}
