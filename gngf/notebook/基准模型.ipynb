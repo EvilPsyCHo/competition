{
 "cells": [
  {
   "cell_type": "code",
   "execution_count": 1,
   "metadata": {
    "collapsed": true
   },
   "outputs": [],
   "source": [
    "import pandas as pd\n",
    "import numpy as np\n",
    "import matplotlib.pyplot as plt\n",
    "%matplotlib inline\n",
    "import seaborn as sns\n",
    "import os\n",
    "from sklearn.metrics import mutual_info_score\n",
    "from sklearn.model_selection import KFold,TimeSeriesSplit\n",
    "\n",
    "import warnings\n",
    "warnings.filterwarnings(\"ignore\")\n",
    "\n",
    "import xgboost as xgb\n",
    "import lightgbm as lgb\n",
    "\n",
    "def load_dataset():\n",
    "    [t1, t2, t3, t4] = [pd.read_csv(f'../data/train_{i}.csv', parse_dates=[\"时间\"]) for i in range(1, 5)]\n",
    "    [p1, p2, p3, p4] = [pd.read_csv(f'../data/test_{i}.csv', parse_dates=[\"时间\"]) for i in range(1, 5)]\n",
    "    [t1, t2, t3, t4] = [t.drop_duplicates().reset_index(drop=True) for t in [t1, t2, t3, t4]]\n",
    "    return [t1, t2, t3, t4], [p1, p2, p3, p4]\n",
    "\n",
    "[t1, t2, t3, t4], [p1, p2, p3, p4] = load_dataset()"
   ]
  },
  {
   "cell_type": "code",
   "execution_count": 4,
   "metadata": {
    "collapsed": true
   },
   "outputs": [],
   "source": [
    "plant_power = {\n",
    "    1: 10,\n",
    "    2: 10,\n",
    "    3: 40,\n",
    "    4: 50\n",
    "}\n",
    "\n",
    "\n",
    "def mae_d(df_groupby, plant):\n",
    "    pm = df_groupby['pm'].values\n",
    "    pp = df_groupby['pp'].values\n",
    "    threshold = plant_power[plant] * 0.03\n",
    "    index = pm >= threshold\n",
    "    return np.abs(pm[index] - pp[index]).sum() / (np.sum(index) * plant_power[plant])\n",
    "\n",
    "\n",
    "def mae_m(df, plant):\n",
    "    return df.groupby(df['datetime'].dt.day).apply(lambda x: mae_d(x, plant)).mean()\n",
    "\n",
    "\n",
    "def score(df, plant):\n",
    "    \"\"\"\n",
    "\n",
    "    :param df: datetime, pm, pp\n",
    "    :param plant:\n",
    "    :return:\n",
    "    \"\"\"\n",
    "    month = df['datetime'].dt.month.unique()\n",
    "    ret = []\n",
    "    for m in month:\n",
    "        ret.append(mae_m(df[df['datetime'].dt.month == m], plant))\n",
    "    return np.mean(ret)\n",
    "\n",
    "\n",
    "def score2(pm, pp, plant):\n",
    "    threshold = plant_power[plant] * 0.03\n",
    "    index = pm >= threshold\n",
    "    return np.abs(pm[index] - pp[index]).sum() / (np.sum(index) * plant_power[plant])\n"
   ]
  },
  {
   "cell_type": "code",
   "execution_count": 6,
   "metadata": {},
   "outputs": [
    {
     "name": "stdout",
     "output_type": "stream",
     "text": [
      "score 0.11550962195409474\n",
      "score 0.12523116172011847\n",
      "score 0.12270395293794245\n",
      "score 0.12548133395741365\n",
      "score 0.12037888007214703\n",
      "0.121860990128\n"
     ]
    }
   ],
   "source": [
    "kf = KFold(5, shuffle=False)\n",
    "x, y = t1.iloc[:, [1,2,3,4,5,6]].values, t1[\"实际功率\"].values\n",
    "ret = []\n",
    "for train, valid in kf.split(x, y):\n",
    "    mdl = lgb.LGBMRegressor()\n",
    "    mdl.fit(x[train], y[train])\n",
    "    pred = mdl.predict(x[valid])\n",
    "    print(f'score {score2(y[valid], pred, 1)}')\n",
    "    ret.append(score2(y[valid], pred, 1))\n",
    "print(np.mean(ret))"
   ]
  },
  {
   "cell_type": "code",
   "execution_count": 42,
   "metadata": {},
   "outputs": [],
   "source": [
    "from sklearn.model_selection import KFold, ParameterGrid\n",
    "import lightgbm as lgb\n",
    "\n",
    "\n",
    "def lgb_cv(params, x, y, metric, k=3, **kwargs):\n",
    "    kf = KFold(k, **kwargs)\n",
    "    weights = np.ones_like(y)\n",
    "    weights[y>0.03] = 5\n",
    "    ret = []\n",
    "    for train, valid in kf.split(x):\n",
    "        train_set = lgb.Dataset(x[train], y[train], weight=weights[train], **kwargs)\n",
    "        valid_set = lgb.Dataset(x[valid], y[valid], weight=weights[valid], **kwargs)\n",
    "        mdl = lgb.train(params, train_set, valid_sets=[train_set, valid_set], verbose_eval=-1)\n",
    "        ret.append(metric(y[valid], mdl.predict(x[valid])))\n",
    "    return ret\n",
    "\n",
    "\n",
    "def lgb_grid_search_cv(paras_grid, x, y, k=3, **kwargs):\n",
    "    grid = list(ParameterGrid(paras_grid))\n",
    "    max_score = np.inf\n",
    "    best_param = None\n",
    "    for step, p in enumerate(grid):\n",
    "        score = np.mean(lgb_cv(p, x, y, k=k, **kwargs))\n",
    "        if score < max_score:\n",
    "            best_param = p\n",
    "            max_score = score\n",
    "            print(f'step {step}, best score: {max_score: .4f}')\n",
    "    return best_param, max_score"
   ]
  },
  {
   "cell_type": "code",
   "execution_count": 8,
   "metadata": {
    "scrolled": false
   },
   "outputs": [
    {
     "data": {
      "text/plain": [
       "0.1200158700697465"
      ]
     },
     "execution_count": 8,
     "metadata": {},
     "output_type": "execute_result"
    }
   ],
   "source": [
    "param ={\n",
    "    'objective': 'regression_l1',\n",
    "    'task': 'train',\n",
    "    'boosting': 'gbdt',\n",
    "    'n_iter': 75,\n",
    "    'learning_rate': 0.1,\n",
    "    'num_leaves': 31,\n",
    "    'bagging_fraction': 0.5,\n",
    "    'feature_fraction': 1.,\n",
    "#     'early_stopping_round': 50\n",
    "}\n",
    "\n",
    "x, y = t1.iloc[:, [1,2,3,4,5,6]].values, t1[\"实际功率\"].values\n",
    "np.mean(lgb_cv(param, x, y, k=5, metric=lambda x, y: score2(x, y, 1)))"
   ]
  },
  {
   "cell_type": "code",
   "execution_count": 41,
   "metadata": {},
   "outputs": [
    {
     "name": "stdout",
     "output_type": "stream",
     "text": [
      "step 0, best score: 0.11989611516358614\n",
      "step 22, best score: 0.11988685933944729\n",
      "step 24, best score: 0.11987231223650266\n",
      "step 26, best score: 0.11979942496935041\n",
      "step 30, best score: 0.11978035390259034\n"
     ]
    }
   ],
   "source": [
    "param_grid ={\n",
    "    'objective': ['regression_l1', 'regression'],\n",
    "    'task': ['train'],\n",
    "    'boosting': ['gbdt'],\n",
    "    'n_iter': range(50, 150, 25),\n",
    "    'learning_rate': [0.1, 0.05],\n",
    "    'num_leaves': [31, 50],\n",
    "    'bagging_fraction': [0.7, 0.5,],\n",
    "    'feature_fraction': [1.],\n",
    "#     'early_stopping_round': 50\n",
    "}\n",
    "\n",
    "x, y = t1.iloc[:, [1,2,3,4,5,6]].values, t1[\"实际功率\"].values\n",
    "best_p, best_score = lgb_grid_search_cv(param_grid, x, y, k=5, metric=lambda x, y: score2(x, y, 1))"
   ]
  },
  {
   "cell_type": "code",
   "execution_count": 43,
   "metadata": {},
   "outputs": [
    {
     "name": "stdout",
     "output_type": "stream",
     "text": [
      "{'bagging_fraction': 0.7, 'boosting': 'gbdt', 'feature_fraction': 1.0, 'learning_rate': 0.05, 'n_iter': 125, 'num_leaves': 50, 'objective': 'regression_l1', 'task': 'train'} 0.119780353903\n"
     ]
    }
   ],
   "source": [
    "print(best_p, best_score)"
   ]
  },
  {
   "cell_type": "code",
   "execution_count": null,
   "metadata": {
    "collapsed": true
   },
   "outputs": [],
   "source": []
  }
 ],
 "metadata": {
  "kernelspec": {
   "display_name": "Python 3",
   "language": "python",
   "name": "python3"
  },
  "language_info": {
   "codemirror_mode": {
    "name": "ipython",
    "version": 3
   },
   "file_extension": ".py",
   "mimetype": "text/x-python",
   "name": "python",
   "nbconvert_exporter": "python",
   "pygments_lexer": "ipython3",
   "version": "3.6.3"
  }
 },
 "nbformat": 4,
 "nbformat_minor": 2
}
