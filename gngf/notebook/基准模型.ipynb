{
 "cells": [
  {
   "cell_type": "code",
   "execution_count": 45,
   "metadata": {},
   "outputs": [],
   "source": [
    "import pandas as pd\n",
    "import numpy as np\n",
    "import matplotlib.pyplot as plt\n",
    "%matplotlib inline\n",
    "import seaborn as sns\n",
    "import os\n",
    "from sklearn.metrics import mutual_info_score\n",
    "from sklearn.model_selection import KFold,TimeSeriesSplit\n",
    "\n",
    "import warnings\n",
    "warnings.filterwarnings(\"ignore\")\n",
    "\n",
    "import xgboost as xgb\n",
    "import lightgbm as lgb\n",
    "\n",
    "def load_dataset():\n",
    "    [t1, t2, t3, t4] = [pd.read_csv(f'../data/train_{i}.csv', parse_dates=[\"时间\"]) for i in range(1, 5)]\n",
    "    [p1, p2, p3, p4] = [pd.read_csv(f'../data/test_{i}.csv', parse_dates=[\"时间\"]) for i in range(1, 5)]\n",
    "    [t1, t2, t3, t4] = [t.drop_duplicates().reset_index(drop=True) for t in [t1, t2, t3, t4]]\n",
    "    return [t1, t2, t3, t4], [p1, p2, p3, p4]\n",
    "\n",
    "[t1, t2, t3, t4], [p1, p2, p3, p4] = load_dataset()"
   ]
  },
  {
   "cell_type": "code",
   "execution_count": 24,
   "metadata": {},
   "outputs": [],
   "source": [
    "def score2(pm, pp, plant):\n",
    "    threshold = plant_power[plant] * 0.03\n",
    "    index = pm >= threshold\n",
    "    return np.abs(pm[index] - pp[index]).sum() / (np.sum(index) * plant_power[plant])"
   ]
  },
  {
   "cell_type": "code",
   "execution_count": 33,
   "metadata": {},
   "outputs": [
    {
     "name": "stdout",
     "output_type": "stream",
     "text": [
      "score 0.10361088170005413\n",
      "score 0.10335815372745352\n",
      "score 0.10440236137714709\n",
      "score 0.10249219573140987\n",
      "score 0.1048609828861999\n"
     ]
    }
   ],
   "source": [
    "kf = KFold(5, shuffle=True)\n",
    "x, y = t1.iloc[:, [1,2,3,4,5,6]].values, t1[\"实际功率\"].values\n",
    "\n",
    "for train, valid in kf.split(x, y):\n",
    "    mdl = lgb.LGBMRegressor()\n",
    "    mdl.fit(x[train], y[train])\n",
    "    pred = mdl.predict(x[valid])\n",
    "    print(f'score {score2(y[valid], pred, 1)}')"
   ]
  },
  {
   "cell_type": "code",
   "execution_count": 57,
   "metadata": {},
   "outputs": [
    {
     "name": "stdout",
     "output_type": "stream",
     "text": [
      "score 0.11550962195409474\n",
      "score 0.12523116172011847\n",
      "score 0.12270395293794245\n",
      "score 0.12548133395741365\n",
      "score 0.12037888007214703\n",
      "0.121860990128\n"
     ]
    }
   ],
   "source": [
    "kf = KFold(5, shuffle=False)\n",
    "x, y = t1.iloc[:, [1,2,3,4,5,6]].values, t1[\"实际功率\"].values\n",
    "ret = []\n",
    "for train, valid in kf.split(x, y):\n",
    "    mdl = lgb.LGBMRegressor()\n",
    "    mdl.fit(x[train], y[train])\n",
    "    pred = mdl.predict(x[valid])\n",
    "    print(f'score {score2(y[valid], pred, 1)}')\n",
    "    ret.append(score2(y[valid], pred, 1))\n",
    "print(np.mean(ret))"
   ]
  },
  {
   "cell_type": "code",
   "execution_count": 120,
   "metadata": {},
   "outputs": [],
   "source": [
    "from sklearn.model_selection import KFold, ParameterGrid\n",
    "import lightgbm as lgb\n",
    "\n",
    "\n",
    "def lgb_cv(params, x, y, metric, k=3, **kwargs):\n",
    "    kf = KFold(k, **kwargs)\n",
    "    weights = np.ones_like(y)\n",
    "    weights[y>0.03] = 5\n",
    "    ret = []\n",
    "    for train, valid in kf.split(x):\n",
    "        train_set = lgb.Dataset(x[train], y[train], weight=weights[train], **kwargs)\n",
    "        valid_set = lgb.Dataset(x[valid], y[valid], weight=weights[valid], **kwargs)\n",
    "        mdl = lgb.train(params, train_set, valid_sets=[train_set, valid_set], verbose_eval=-1)\n",
    "        ret.append(metric(y[valid], mdl.predict(x[valid])))\n",
    "    return ret"
   ]
  },
  {
   "cell_type": "code",
   "execution_count": 121,
   "metadata": {
    "scrolled": false
   },
   "outputs": [
    {
     "data": {
      "text/plain": [
       "0.1200158700697465"
      ]
     },
     "execution_count": 121,
     "metadata": {},
     "output_type": "execute_result"
    }
   ],
   "source": [
    "param ={\n",
    "    'objective': 'regression_l1',\n",
    "    'task': 'train',\n",
    "    'boosting': 'gbdt',\n",
    "    'n_iter': 75,\n",
    "    'learning_rate': 0.1,\n",
    "    'num_leaves': 31,\n",
    "    'bagging_fraction': 0.5,\n",
    "    'feature_fraction': 1.,\n",
    "#     'early_stopping_round': 50\n",
    "}\n",
    "\n",
    "x, y = t1.iloc[:, [1,2,3,4,5,6]].values, t1[\"实际功率\"].values\n",
    "np.mean(lgb_cv(param, x, y, k=5, metric=lambda x, y: score2(x, y, 1)))"
   ]
  },
  {
   "cell_type": "code",
   "execution_count": 124,
   "metadata": {},
   "outputs": [
    {
     "data": {
      "text/plain": [
       "[{'a': 1, 'b': 2},\n",
       " {'a': 1, 'b': 3},\n",
       " {'a': 2, 'b': 2},\n",
       " {'a': 2, 'b': 3},\n",
       " {'a': 3, 'b': 2},\n",
       " {'a': 3, 'b': 3}]"
      ]
     },
     "execution_count": 124,
     "metadata": {},
     "output_type": "execute_result"
    }
   ],
   "source": [
    "list(ParameterGrid({\"a\": [1,2,3], \"b\":[2,3]}))"
   ]
  },
  {
   "cell_type": "code",
   "execution_count": null,
   "metadata": {
    "collapsed": true
   },
   "outputs": [],
   "source": []
  }
 ],
 "metadata": {
  "kernelspec": {
   "display_name": "Python 3",
   "language": "python",
   "name": "python3"
  },
  "language_info": {
   "codemirror_mode": {
    "name": "ipython",
    "version": 3
   },
   "file_extension": ".py",
   "mimetype": "text/x-python",
   "name": "python",
   "nbconvert_exporter": "python",
   "pygments_lexer": "ipython3",
   "version": "3.6.3"
  }
 },
 "nbformat": 4,
 "nbformat_minor": 2
}
