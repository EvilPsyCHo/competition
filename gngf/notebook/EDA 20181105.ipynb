{
 "cells": [
  {
   "cell_type": "code",
   "execution_count": 1,
   "metadata": {
    "collapsed": true
   },
   "outputs": [],
   "source": [
    "import pandas as pd\n",
    "import numpy as np\n",
    "import matplotlib.pyplot as plt\n",
    "%matplotlib inline\n",
    "import seaborn as sns\n",
    "import os\n",
    "from sklearn.metrics import mutual_info_score\n",
    "\n",
    "import warnings\n",
    "warnings.filterwarnings(\"ignore\")"
   ]
  },
  {
   "cell_type": "code",
   "execution_count": 2,
   "metadata": {
    "collapsed": true
   },
   "outputs": [],
   "source": [
    "[t1, t2, t3, t4] = [pd.read_csv(f'../data/train_{i}.csv', parse_dates=[\"时间\"]) for i in range(1, 5)]"
   ]
  },
  {
   "cell_type": "code",
   "execution_count": 3,
   "metadata": {
    "collapsed": true
   },
   "outputs": [],
   "source": [
    "[p1, p2, p3, p4] = [pd.read_csv(f'../data/test_{i}.csv', parse_dates=[\"时间\"]) for i in range(1, 5)]"
   ]
  },
  {
   "cell_type": "code",
   "execution_count": 4,
   "metadata": {},
   "outputs": [
    {
     "name": "stdout",
     "output_type": "stream",
     "text": [
      "train data 1, shape (66859, 9) from 2016-04-01 to 2018-04-30.           NaN data: 0\n",
      "train data 2, shape (43755, 9) from 2017-01-01 to 2018-04-30.           NaN data: 0\n",
      "train data 3, shape (29792, 9) from 2017-08-01 to 2018-07-31.           NaN data: 0\n",
      "train data 4, shape (42687, 9) from 2017-01-01 to 2018-04-29.           NaN data: 0\n"
     ]
    }
   ],
   "source": [
    "for i, data in enumerate([t1, t2, t3, t4]):\n",
    "    print(f'train data {i+1}, shape {data.shape} from {data[\"时间\"].min().date()} to {data[\"时间\"].max().date()}. \\\n",
    "          NaN data: {data.isnull().sum().sum()}')"
   ]
  },
  {
   "cell_type": "code",
   "execution_count": 5,
   "metadata": {},
   "outputs": [
    {
     "name": "stdout",
     "output_type": "stream",
     "text": [
      "test data 1, shape (11808, 8) from 2018-04-30 to 2018-08-31.           NaN data: 0\n",
      "test data 2, shape (14688, 8) from 2018-04-30 to 2018-09-30.           NaN data: 0\n",
      "test data 3, shape (6181, 8) from 2018-07-31 to 2018-10-08.           NaN data: 0\n",
      "test data 4, shape (13894, 8) from 2018-05-01 to 2018-09-28.           NaN data: 0\n"
     ]
    }
   ],
   "source": [
    "for i, data in enumerate([p1, p2, p3, p4]):\n",
    "    print(f'test data {i+1}, shape {data.shape} from {data[\"时间\"].min().date()} to {data[\"时间\"].max().date()}. \\\n",
    "          NaN data: {data.isnull().sum().sum()}')"
   ]
  },
  {
   "cell_type": "code",
   "execution_count": 6,
   "metadata": {
    "collapsed": true
   },
   "outputs": [],
   "source": [
    "t1 = t1.drop_duplicates().reset_index(drop=True)"
   ]
  },
  {
   "cell_type": "code",
   "execution_count": 8,
   "metadata": {},
   "outputs": [
    {
     "data": {
      "text/html": [
       "<div>\n",
       "<style>\n",
       "    .dataframe thead tr:only-child th {\n",
       "        text-align: right;\n",
       "    }\n",
       "\n",
       "    .dataframe thead th {\n",
       "        text-align: left;\n",
       "    }\n",
       "\n",
       "    .dataframe tbody tr th {\n",
       "        vertical-align: top;\n",
       "    }\n",
       "</style>\n",
       "<table border=\"1\" class=\"dataframe\">\n",
       "  <thead>\n",
       "    <tr style=\"text-align: right;\">\n",
       "      <th></th>\n",
       "      <th>辐照度</th>\n",
       "      <th>风速</th>\n",
       "      <th>风向</th>\n",
       "      <th>温度</th>\n",
       "      <th>压强</th>\n",
       "      <th>湿度</th>\n",
       "      <th>实发辐照度</th>\n",
       "      <th>实际功率</th>\n",
       "    </tr>\n",
       "  </thead>\n",
       "  <tbody>\n",
       "    <tr>\n",
       "      <th>count</th>\n",
       "      <td>66858.000000</td>\n",
       "      <td>66858.000000</td>\n",
       "      <td>66858.000000</td>\n",
       "      <td>66858.000000</td>\n",
       "      <td>66858.000000</td>\n",
       "      <td>66858.000000</td>\n",
       "      <td>66858.000000</td>\n",
       "      <td>66858.000000</td>\n",
       "    </tr>\n",
       "    <tr>\n",
       "      <th>mean</th>\n",
       "      <td>-0.576609</td>\n",
       "      <td>-0.664325</td>\n",
       "      <td>163.364893</td>\n",
       "      <td>-0.006276</td>\n",
       "      <td>0.110206</td>\n",
       "      <td>-0.088533</td>\n",
       "      <td>236.341804</td>\n",
       "      <td>2.105609</td>\n",
       "    </tr>\n",
       "    <tr>\n",
       "      <th>std</th>\n",
       "      <td>0.559381</td>\n",
       "      <td>0.267507</td>\n",
       "      <td>95.693066</td>\n",
       "      <td>0.380029</td>\n",
       "      <td>0.284216</td>\n",
       "      <td>0.442732</td>\n",
       "      <td>342.082201</td>\n",
       "      <td>2.989093</td>\n",
       "    </tr>\n",
       "    <tr>\n",
       "      <th>min</th>\n",
       "      <td>-1.000000</td>\n",
       "      <td>-1.000000</td>\n",
       "      <td>0.000000</td>\n",
       "      <td>-1.000000</td>\n",
       "      <td>-1.000000</td>\n",
       "      <td>-1.000000</td>\n",
       "      <td>-0.020000</td>\n",
       "      <td>-0.073667</td>\n",
       "    </tr>\n",
       "    <tr>\n",
       "      <th>25%</th>\n",
       "      <td>-1.000000</td>\n",
       "      <td>-0.858491</td>\n",
       "      <td>92.000000</td>\n",
       "      <td>-0.317172</td>\n",
       "      <td>-0.090909</td>\n",
       "      <td>-0.452632</td>\n",
       "      <td>0.000000</td>\n",
       "      <td>-0.022000</td>\n",
       "    </tr>\n",
       "    <tr>\n",
       "      <th>50%</th>\n",
       "      <td>-0.954760</td>\n",
       "      <td>-0.735849</td>\n",
       "      <td>117.000000</td>\n",
       "      <td>-0.014141</td>\n",
       "      <td>0.090909</td>\n",
       "      <td>-0.157895</td>\n",
       "      <td>2.844670</td>\n",
       "      <td>0.000000</td>\n",
       "    </tr>\n",
       "    <tr>\n",
       "      <th>75%</th>\n",
       "      <td>-0.176249</td>\n",
       "      <td>-0.547170</td>\n",
       "      <td>270.000000</td>\n",
       "      <td>0.292929</td>\n",
       "      <td>0.272727</td>\n",
       "      <td>0.263158</td>\n",
       "      <td>424.249000</td>\n",
       "      <td>4.149502</td>\n",
       "    </tr>\n",
       "    <tr>\n",
       "      <th>max</th>\n",
       "      <td>1.000000</td>\n",
       "      <td>1.000000</td>\n",
       "      <td>359.000000</td>\n",
       "      <td>1.000000</td>\n",
       "      <td>1.000000</td>\n",
       "      <td>0.978947</td>\n",
       "      <td>1303.110000</td>\n",
       "      <td>10.485300</td>\n",
       "    </tr>\n",
       "  </tbody>\n",
       "</table>\n",
       "</div>"
      ],
      "text/plain": [
       "                辐照度            风速            风向            温度            压强  \\\n",
       "count  66858.000000  66858.000000  66858.000000  66858.000000  66858.000000   \n",
       "mean      -0.576609     -0.664325    163.364893     -0.006276      0.110206   \n",
       "std        0.559381      0.267507     95.693066      0.380029      0.284216   \n",
       "min       -1.000000     -1.000000      0.000000     -1.000000     -1.000000   \n",
       "25%       -1.000000     -0.858491     92.000000     -0.317172     -0.090909   \n",
       "50%       -0.954760     -0.735849    117.000000     -0.014141      0.090909   \n",
       "75%       -0.176249     -0.547170    270.000000      0.292929      0.272727   \n",
       "max        1.000000      1.000000    359.000000      1.000000      1.000000   \n",
       "\n",
       "                 湿度         实发辐照度          实际功率  \n",
       "count  66858.000000  66858.000000  66858.000000  \n",
       "mean      -0.088533    236.341804      2.105609  \n",
       "std        0.442732    342.082201      2.989093  \n",
       "min       -1.000000     -0.020000     -0.073667  \n",
       "25%       -0.452632      0.000000     -0.022000  \n",
       "50%       -0.157895      2.844670      0.000000  \n",
       "75%        0.263158    424.249000      4.149502  \n",
       "max        0.978947   1303.110000     10.485300  "
      ]
     },
     "execution_count": 8,
     "metadata": {},
     "output_type": "execute_result"
    }
   ],
   "source": [
    "t1.describe()"
   ]
  },
  {
   "cell_type": "code",
   "execution_count": 9,
   "metadata": {},
   "outputs": [
    {
     "name": "stdout",
     "output_type": "stream",
     "text": [
      "互信息（时间, 实际功率）： 6.92\n",
      "互信息（辐照度, 实际功率）： 3.69\n",
      "互信息（风速, 实际功率）： 1.91\n",
      "互信息（风向, 实际功率）： 2.47\n",
      "互信息（温度, 实际功率）： 2.84\n",
      "互信息（压强, 实际功率）： 1.16\n",
      "互信息（湿度, 实际功率）： 1.90\n",
      "互信息（实发辐照度, 实际功率）： 4.81\n"
     ]
    }
   ],
   "source": [
    "for col in t1.columns[:-1]:\n",
    "    print(f'互信息（{col}, 实际功率）：{mutual_info_score(t1[col], t1[\"实际功率\"]): .2f}')"
   ]
  },
  {
   "cell_type": "code",
   "execution_count": 10,
   "metadata": {},
   "outputs": [
    {
     "data": {
      "text/html": [
       "<div>\n",
       "<style>\n",
       "    .dataframe thead tr:only-child th {\n",
       "        text-align: right;\n",
       "    }\n",
       "\n",
       "    .dataframe thead th {\n",
       "        text-align: left;\n",
       "    }\n",
       "\n",
       "    .dataframe tbody tr th {\n",
       "        vertical-align: top;\n",
       "    }\n",
       "</style>\n",
       "<table border=\"1\" class=\"dataframe\">\n",
       "  <thead>\n",
       "    <tr style=\"text-align: right;\">\n",
       "      <th></th>\n",
       "      <th>辐照度</th>\n",
       "      <th>风速</th>\n",
       "      <th>风向</th>\n",
       "      <th>温度</th>\n",
       "      <th>压强</th>\n",
       "      <th>湿度</th>\n",
       "      <th>实发辐照度</th>\n",
       "      <th>实际功率</th>\n",
       "    </tr>\n",
       "  </thead>\n",
       "  <tbody>\n",
       "    <tr>\n",
       "      <th>辐照度</th>\n",
       "      <td>1.000000</td>\n",
       "      <td>-0.141627</td>\n",
       "      <td>-0.025754</td>\n",
       "      <td>0.400988</td>\n",
       "      <td>-0.105926</td>\n",
       "      <td>-0.407298</td>\n",
       "      <td>0.888917</td>\n",
       "      <td>0.898904</td>\n",
       "    </tr>\n",
       "    <tr>\n",
       "      <th>风速</th>\n",
       "      <td>-0.141627</td>\n",
       "      <td>1.000000</td>\n",
       "      <td>0.232877</td>\n",
       "      <td>0.050437</td>\n",
       "      <td>-0.037915</td>\n",
       "      <td>-0.124268</td>\n",
       "      <td>-0.156142</td>\n",
       "      <td>-0.173595</td>\n",
       "    </tr>\n",
       "    <tr>\n",
       "      <th>风向</th>\n",
       "      <td>-0.025754</td>\n",
       "      <td>0.232877</td>\n",
       "      <td>1.000000</td>\n",
       "      <td>-0.332824</td>\n",
       "      <td>0.223073</td>\n",
       "      <td>-0.215144</td>\n",
       "      <td>0.000581</td>\n",
       "      <td>0.016333</td>\n",
       "    </tr>\n",
       "    <tr>\n",
       "      <th>温度</th>\n",
       "      <td>0.400988</td>\n",
       "      <td>0.050437</td>\n",
       "      <td>-0.332824</td>\n",
       "      <td>1.000000</td>\n",
       "      <td>-0.325550</td>\n",
       "      <td>0.110023</td>\n",
       "      <td>0.262052</td>\n",
       "      <td>0.234637</td>\n",
       "    </tr>\n",
       "    <tr>\n",
       "      <th>压强</th>\n",
       "      <td>-0.105926</td>\n",
       "      <td>-0.037915</td>\n",
       "      <td>0.223073</td>\n",
       "      <td>-0.325550</td>\n",
       "      <td>1.000000</td>\n",
       "      <td>0.180172</td>\n",
       "      <td>-0.052342</td>\n",
       "      <td>-0.028451</td>\n",
       "    </tr>\n",
       "    <tr>\n",
       "      <th>湿度</th>\n",
       "      <td>-0.407298</td>\n",
       "      <td>-0.124268</td>\n",
       "      <td>-0.215144</td>\n",
       "      <td>0.110023</td>\n",
       "      <td>0.180172</td>\n",
       "      <td>1.000000</td>\n",
       "      <td>-0.436354</td>\n",
       "      <td>-0.419725</td>\n",
       "    </tr>\n",
       "    <tr>\n",
       "      <th>实发辐照度</th>\n",
       "      <td>0.888917</td>\n",
       "      <td>-0.156142</td>\n",
       "      <td>0.000581</td>\n",
       "      <td>0.262052</td>\n",
       "      <td>-0.052342</td>\n",
       "      <td>-0.436354</td>\n",
       "      <td>1.000000</td>\n",
       "      <td>0.961298</td>\n",
       "    </tr>\n",
       "    <tr>\n",
       "      <th>实际功率</th>\n",
       "      <td>0.898904</td>\n",
       "      <td>-0.173595</td>\n",
       "      <td>0.016333</td>\n",
       "      <td>0.234637</td>\n",
       "      <td>-0.028451</td>\n",
       "      <td>-0.419725</td>\n",
       "      <td>0.961298</td>\n",
       "      <td>1.000000</td>\n",
       "    </tr>\n",
       "  </tbody>\n",
       "</table>\n",
       "</div>"
      ],
      "text/plain": [
       "            辐照度        风速        风向        温度        压强        湿度     实发辐照度  \\\n",
       "辐照度    1.000000 -0.141627 -0.025754  0.400988 -0.105926 -0.407298  0.888917   \n",
       "风速    -0.141627  1.000000  0.232877  0.050437 -0.037915 -0.124268 -0.156142   \n",
       "风向    -0.025754  0.232877  1.000000 -0.332824  0.223073 -0.215144  0.000581   \n",
       "温度     0.400988  0.050437 -0.332824  1.000000 -0.325550  0.110023  0.262052   \n",
       "压强    -0.105926 -0.037915  0.223073 -0.325550  1.000000  0.180172 -0.052342   \n",
       "湿度    -0.407298 -0.124268 -0.215144  0.110023  0.180172  1.000000 -0.436354   \n",
       "实发辐照度  0.888917 -0.156142  0.000581  0.262052 -0.052342 -0.436354  1.000000   \n",
       "实际功率   0.898904 -0.173595  0.016333  0.234637 -0.028451 -0.419725  0.961298   \n",
       "\n",
       "           实际功率  \n",
       "辐照度    0.898904  \n",
       "风速    -0.173595  \n",
       "风向     0.016333  \n",
       "温度     0.234637  \n",
       "压强    -0.028451  \n",
       "湿度    -0.419725  \n",
       "实发辐照度  0.961298  \n",
       "实际功率   1.000000  "
      ]
     },
     "execution_count": 10,
     "metadata": {},
     "output_type": "execute_result"
    }
   ],
   "source": [
    "t1.corr()"
   ]
  },
  {
   "cell_type": "code",
   "execution_count": 12,
   "metadata": {},
   "outputs": [
    {
     "data": {
      "text/html": [
       "<div>\n",
       "<style>\n",
       "    .dataframe thead tr:only-child th {\n",
       "        text-align: right;\n",
       "    }\n",
       "\n",
       "    .dataframe thead th {\n",
       "        text-align: left;\n",
       "    }\n",
       "\n",
       "    .dataframe tbody tr th {\n",
       "        vertical-align: top;\n",
       "    }\n",
       "</style>\n",
       "<table border=\"1\" class=\"dataframe\">\n",
       "  <thead>\n",
       "    <tr style=\"text-align: right;\">\n",
       "      <th></th>\n",
       "      <th>min</th>\n",
       "      <th>max</th>\n",
       "      <th>mean</th>\n",
       "      <th>std</th>\n",
       "    </tr>\n",
       "    <tr>\n",
       "      <th>时间</th>\n",
       "      <th></th>\n",
       "      <th></th>\n",
       "      <th></th>\n",
       "      <th></th>\n",
       "    </tr>\n",
       "  </thead>\n",
       "  <tbody>\n",
       "    <tr>\n",
       "      <th>1</th>\n",
       "      <td>-0.035000</td>\n",
       "      <td>9.63133</td>\n",
       "      <td>2.027105</td>\n",
       "      <td>3.090347</td>\n",
       "    </tr>\n",
       "    <tr>\n",
       "      <th>2</th>\n",
       "      <td>-0.025333</td>\n",
       "      <td>9.98267</td>\n",
       "      <td>2.138745</td>\n",
       "      <td>3.156874</td>\n",
       "    </tr>\n",
       "    <tr>\n",
       "      <th>3</th>\n",
       "      <td>-0.072333</td>\n",
       "      <td>9.98533</td>\n",
       "      <td>2.364644</td>\n",
       "      <td>3.288478</td>\n",
       "    </tr>\n",
       "    <tr>\n",
       "      <th>4</th>\n",
       "      <td>-0.073667</td>\n",
       "      <td>10.04730</td>\n",
       "      <td>2.310633</td>\n",
       "      <td>3.145029</td>\n",
       "    </tr>\n",
       "    <tr>\n",
       "      <th>5</th>\n",
       "      <td>-0.028333</td>\n",
       "      <td>9.88700</td>\n",
       "      <td>2.160962</td>\n",
       "      <td>2.921320</td>\n",
       "    </tr>\n",
       "    <tr>\n",
       "      <th>6</th>\n",
       "      <td>-0.058000</td>\n",
       "      <td>9.83333</td>\n",
       "      <td>2.202657</td>\n",
       "      <td>2.881560</td>\n",
       "    </tr>\n",
       "    <tr>\n",
       "      <th>7</th>\n",
       "      <td>-0.058000</td>\n",
       "      <td>9.52533</td>\n",
       "      <td>2.116429</td>\n",
       "      <td>2.841129</td>\n",
       "    </tr>\n",
       "    <tr>\n",
       "      <th>8</th>\n",
       "      <td>-0.059333</td>\n",
       "      <td>9.58667</td>\n",
       "      <td>1.998528</td>\n",
       "      <td>2.756599</td>\n",
       "    </tr>\n",
       "    <tr>\n",
       "      <th>9</th>\n",
       "      <td>-0.045000</td>\n",
       "      <td>8.79567</td>\n",
       "      <td>1.625868</td>\n",
       "      <td>2.236459</td>\n",
       "    </tr>\n",
       "    <tr>\n",
       "      <th>10</th>\n",
       "      <td>-0.045000</td>\n",
       "      <td>9.73033</td>\n",
       "      <td>1.868730</td>\n",
       "      <td>2.798507</td>\n",
       "    </tr>\n",
       "    <tr>\n",
       "      <th>11</th>\n",
       "      <td>-0.027000</td>\n",
       "      <td>10.48530</td>\n",
       "      <td>2.086416</td>\n",
       "      <td>3.106669</td>\n",
       "    </tr>\n",
       "    <tr>\n",
       "      <th>12</th>\n",
       "      <td>-0.042333</td>\n",
       "      <td>9.27700</td>\n",
       "      <td>1.953182</td>\n",
       "      <td>3.034467</td>\n",
       "    </tr>\n",
       "  </tbody>\n",
       "</table>\n",
       "</div>"
      ],
      "text/plain": [
       "         min       max      mean       std\n",
       "时间                                        \n",
       "1  -0.035000   9.63133  2.027105  3.090347\n",
       "2  -0.025333   9.98267  2.138745  3.156874\n",
       "3  -0.072333   9.98533  2.364644  3.288478\n",
       "4  -0.073667  10.04730  2.310633  3.145029\n",
       "5  -0.028333   9.88700  2.160962  2.921320\n",
       "6  -0.058000   9.83333  2.202657  2.881560\n",
       "7  -0.058000   9.52533  2.116429  2.841129\n",
       "8  -0.059333   9.58667  1.998528  2.756599\n",
       "9  -0.045000   8.79567  1.625868  2.236459\n",
       "10 -0.045000   9.73033  1.868730  2.798507\n",
       "11 -0.027000  10.48530  2.086416  3.106669\n",
       "12 -0.042333   9.27700  1.953182  3.034467"
      ]
     },
     "execution_count": 12,
     "metadata": {},
     "output_type": "execute_result"
    }
   ],
   "source": [
    "t1.groupby(t1[\"时间\"].dt.month)[\"实际功率\"].agg(['min', 'max', 'mean', 'std'])"
   ]
  },
  {
   "cell_type": "code",
   "execution_count": 15,
   "metadata": {},
   "outputs": [
    {
     "data": {
      "text/plain": [
       "风向\n",
       "(0, 30]       1.307218\n",
       "(30, 60]      1.255221\n",
       "(60, 90]      1.451164\n",
       "(90, 120]     2.228904\n",
       "(120, 150]    3.646205\n",
       "(150, 180]    3.342589\n",
       "(180, 210]    2.699296\n",
       "(210, 240]    2.534362\n",
       "(240, 270]    2.396824\n",
       "(270, 300]    1.736440\n",
       "(300, 330]    1.862912\n",
       "Name: 实际功率, dtype: float64"
      ]
     },
     "execution_count": 15,
     "metadata": {},
     "output_type": "execute_result"
    }
   ],
   "source": [
    "t1.groupby(pd.cut(t1[\"风向\"], bins=list(range(0, 360, 30))))[\"实际功率\"].mean()"
   ]
  },
  {
   "cell_type": "code",
   "execution_count": 31,
   "metadata": {},
   "outputs": [
    {
     "data": {
      "text/plain": [
       "2.2254134026536456"
      ]
     },
     "execution_count": 31,
     "metadata": {},
     "output_type": "execute_result"
    }
   ],
   "source": [
    "mutual_info_score(t1['时间'].dt.time, t1['实际功率'])"
   ]
  },
  {
   "cell_type": "code",
   "execution_count": 35,
   "metadata": {},
   "outputs": [
    {
     "data": {
      "text/plain": [
       "6.9242617749970465"
      ]
     },
     "execution_count": 35,
     "metadata": {},
     "output_type": "execute_result"
    }
   ],
   "source": [
    "mutual_info_score(t1['时间'], t1['实际功率'])"
   ]
  },
  {
   "cell_type": "code",
   "execution_count": 37,
   "metadata": {},
   "outputs": [
    {
     "data": {
      "text/html": [
       "<div>\n",
       "<style>\n",
       "    .dataframe thead tr:only-child th {\n",
       "        text-align: right;\n",
       "    }\n",
       "\n",
       "    .dataframe thead th {\n",
       "        text-align: left;\n",
       "    }\n",
       "\n",
       "    .dataframe tbody tr th {\n",
       "        vertical-align: top;\n",
       "    }\n",
       "</style>\n",
       "<table border=\"1\" class=\"dataframe\">\n",
       "  <thead>\n",
       "    <tr style=\"text-align: right;\">\n",
       "      <th></th>\n",
       "      <th>min</th>\n",
       "      <th>max</th>\n",
       "      <th>mean</th>\n",
       "    </tr>\n",
       "    <tr>\n",
       "      <th>时间</th>\n",
       "      <th></th>\n",
       "      <th></th>\n",
       "      <th></th>\n",
       "    </tr>\n",
       "  </thead>\n",
       "  <tbody>\n",
       "    <tr>\n",
       "      <th>1</th>\n",
       "      <td>-0.035000</td>\n",
       "      <td>9.63133</td>\n",
       "      <td>2.027105</td>\n",
       "    </tr>\n",
       "    <tr>\n",
       "      <th>2</th>\n",
       "      <td>-0.025333</td>\n",
       "      <td>9.98267</td>\n",
       "      <td>2.138745</td>\n",
       "    </tr>\n",
       "    <tr>\n",
       "      <th>3</th>\n",
       "      <td>-0.072333</td>\n",
       "      <td>9.98533</td>\n",
       "      <td>2.364644</td>\n",
       "    </tr>\n",
       "    <tr>\n",
       "      <th>4</th>\n",
       "      <td>-0.073667</td>\n",
       "      <td>10.04730</td>\n",
       "      <td>2.310633</td>\n",
       "    </tr>\n",
       "    <tr>\n",
       "      <th>5</th>\n",
       "      <td>-0.028333</td>\n",
       "      <td>9.88700</td>\n",
       "      <td>2.160962</td>\n",
       "    </tr>\n",
       "    <tr>\n",
       "      <th>6</th>\n",
       "      <td>-0.058000</td>\n",
       "      <td>9.83333</td>\n",
       "      <td>2.202657</td>\n",
       "    </tr>\n",
       "    <tr>\n",
       "      <th>7</th>\n",
       "      <td>-0.058000</td>\n",
       "      <td>9.52533</td>\n",
       "      <td>2.116429</td>\n",
       "    </tr>\n",
       "    <tr>\n",
       "      <th>8</th>\n",
       "      <td>-0.059333</td>\n",
       "      <td>9.58667</td>\n",
       "      <td>1.998528</td>\n",
       "    </tr>\n",
       "    <tr>\n",
       "      <th>9</th>\n",
       "      <td>-0.045000</td>\n",
       "      <td>8.79567</td>\n",
       "      <td>1.625868</td>\n",
       "    </tr>\n",
       "    <tr>\n",
       "      <th>10</th>\n",
       "      <td>-0.045000</td>\n",
       "      <td>9.73033</td>\n",
       "      <td>1.868730</td>\n",
       "    </tr>\n",
       "    <tr>\n",
       "      <th>11</th>\n",
       "      <td>-0.027000</td>\n",
       "      <td>10.48530</td>\n",
       "      <td>2.086416</td>\n",
       "    </tr>\n",
       "    <tr>\n",
       "      <th>12</th>\n",
       "      <td>-0.042333</td>\n",
       "      <td>9.27700</td>\n",
       "      <td>1.953182</td>\n",
       "    </tr>\n",
       "  </tbody>\n",
       "</table>\n",
       "</div>"
      ],
      "text/plain": [
       "         min       max      mean\n",
       "时间                              \n",
       "1  -0.035000   9.63133  2.027105\n",
       "2  -0.025333   9.98267  2.138745\n",
       "3  -0.072333   9.98533  2.364644\n",
       "4  -0.073667  10.04730  2.310633\n",
       "5  -0.028333   9.88700  2.160962\n",
       "6  -0.058000   9.83333  2.202657\n",
       "7  -0.058000   9.52533  2.116429\n",
       "8  -0.059333   9.58667  1.998528\n",
       "9  -0.045000   8.79567  1.625868\n",
       "10 -0.045000   9.73033  1.868730\n",
       "11 -0.027000  10.48530  2.086416\n",
       "12 -0.042333   9.27700  1.953182"
      ]
     },
     "execution_count": 37,
     "metadata": {},
     "output_type": "execute_result"
    }
   ],
   "source": [
    "t1.groupby(t1['时间'].dt.month)['实际功率'].agg(['min','max','mean'])"
   ]
  },
  {
   "cell_type": "code",
   "execution_count": 38,
   "metadata": {
    "collapsed": true
   },
   "outputs": [],
   "source": [
    "t1['month'] = t1['时间'].dt.month\n",
    "t1['hour'] = t1['时间'].dt.hour"
   ]
  },
  {
   "cell_type": "code",
   "execution_count": 41,
   "metadata": {},
   "outputs": [
    {
     "data": {
      "text/plain": [
       "<matplotlib.axes._subplots.AxesSubplot at 0x7f03e9a5b240>"
      ]
     },
     "execution_count": 41,
     "metadata": {},
     "output_type": "execute_result"
    },
    {
     "data": {
      "image/png": "[encoded data removed]",
      "text/plain": [
       "<matplotlib.figure.Figure at 0x7f03e98569e8>"
      ]
     },
     "metadata": {},
     "output_type": "display_data"
    }
   ],
   "source": [
    "sns.boxplot(x='hour', y='实际功率', data=t1)"
   ]
  },
  {
   "cell_type": "code",
   "execution_count": 42,
   "metadata": {},
   "outputs": [
    {
     "data": {
      "text/plain": [
       "<matplotlib.axes._subplots.AxesSubplot at 0x7f03e8e7f9e8>"
      ]
     },
     "execution_count": 42,
     "metadata": {},
     "output_type": "execute_result"
    },
    {
     "data": {
      "image/png": "[encoded data removed]",
      "text/plain": [
       "<matplotlib.figure.Figure at 0x7f03e9906748>"
      ]
     },
     "metadata": {},
     "output_type": "display_data"
    }
   ],
   "source": [
    "sns.boxplot(x='month', y='实际功率', data=t1)"
   ]
  },
  {
   "cell_type": "code",
   "execution_count": null,
   "metadata": {
    "collapsed": true
   },
   "outputs": [],
   "source": []
  }
 ],
 "metadata": {
  "kernelspec": {
   "display_name": "Python 3",
   "language": "python",
   "name": "python3"
  },
  "language_info": {
   "codemirror_mode": {
    "name": "ipython",
    "version": 3
   },
   "file_extension": ".py",
   "mimetype": "text/x-python",
   "name": "python",
   "nbconvert_exporter": "python",
   "pygments_lexer": "ipython3",
   "version": "3.6.3"
  }
 },
 "nbformat": 4,
 "nbformat_minor": 2
}
