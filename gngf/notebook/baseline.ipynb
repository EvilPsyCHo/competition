{
 "cells": [
  {
   "cell_type": "code",
   "execution_count": 1,
   "metadata": {},
   "outputs": [],
   "source": [
    "import pandas as pd\n",
    "import numpy as np\n",
    "import matplotlib.pyplot as plt\n",
    "%matplotlib inline\n",
    "import seaborn as sns\n",
    "import os\n",
    "from sklearn.metrics import mutual_info_score\n",
    "\n",
    "import warnings\n",
    "warnings.filterwarnings(\"ignore\")\n",
    "\n",
    "# import xgboost as xgb\n",
    "import lightgbm as lgb\n",
    "\n",
    "def load_dataset():\n",
    "    [t1, t2, t3, t4] = [pd.read_csv(f'../data/train_{i}.csv', parse_dates=[\"时间\"]) for i in range(1, 5)]\n",
    "    [p1, p2, p3, p4] = [pd.read_csv(f'../data/test_{i}.csv', parse_dates=[\"时间\"]) for i in range(1, 5)]\n",
    "    [t1, t2, t3, t4] = [t.drop_duplicates().reset_index(drop=True) for t in [t1, t2, t3, t4]]\n",
    "    return [t1, t2, t3, t4], [p1, p2, p3, p4]\n",
    "\n",
    "[t1, t2, t3, t4], [p1, p2, p3, p4] = load_dataset()"
   ]
  },
  {
   "cell_type": "code",
   "execution_count": 2,
   "metadata": {
    "collapsed": true
   },
   "outputs": [],
   "source": [
    "def get_x(t):\n",
    "    t['month_cat'] = t[\"时间\"].dt.month\n",
    "    t['hour_cat'] = t[\"时间\"].dt.month\n",
    "    t['irr'] = t[\"辐照度\"]\n",
    "    t['ws'] = t[\"风速\"]\n",
    "    t['wd_cat'] = pd.cut(t1[\"风向\"], bins=list(range(0, 360, 30)))\n",
    "    t['pr'] = t[\"压强\"]\n",
    "    t['hm'] = t[\"湿度\"]\n",
    "    return t.loc[:, ['month_cat', 'hour_cat', 'irr', 'ws', 'wd_cat', 'pr', 'hm']]\n",
    "\n",
    "x = get_x(t1)\n",
    "y = t1[\"实际功率\"].values"
   ]
  },
  {
   "cell_type": "code",
   "execution_count": 3,
   "metadata": {
    "scrolled": false
   },
   "outputs": [
    {
     "name": "stdout",
     "output_type": "stream",
     "text": [
      "{'bagging_fraction': 0.95, 'feature_fraction': 1.0, 'learning_rate': 0.01, 'num_boost_round': 400, 'num_leaves': 31, 'reg_alpha': 0.1} 0.86709308607\n"
     ]
    }
   ],
   "source": [
    "from sklearn.model_selection import GridSearchCV, RandomizedSearchCV, GroupKFold, KFold\n",
    "\n",
    "np.random.seed(42)\n",
    "kf = KFold(n_splits=4).split(X=x, y=y)\n",
    "\n",
    "param_grid = {\n",
    "    'num_leaves': [31, 127],\n",
    "    'feature_fraction': [0.5, 1.0],\n",
    "    'bagging_fraction': [0.75, 0.95], \n",
    "    'reg_alpha': [0.1, 0.5],\n",
    "    'num_boost_round': [50, 200, 400],\n",
    "    'learning_rate': [0.01, 0.005]\n",
    "}\n",
    "\n",
    "lgb_estimator = lgb.LGBMRegressor(boosting_type='gbdt',\n",
    "                                  objective='regression',\n",
    "                                  bagging_freq=5,\n",
    "                                  categorical_feature=[0, 1, 4])#,\n",
    "#                                   early_stopping_rounds=5) # REMOVING THIS ARGUMENT MAKES THE CODE RUN OKAY\n",
    "\n",
    "gsearch = GridSearchCV(estimator=lgb_estimator, \n",
    "                       param_grid=param_grid, \n",
    "                       cv=kf) \n",
    "\n",
    "lgb_model = gsearch.fit(X=x, y=y)\n",
    "\n",
    "print(lgb_model.best_params_, lgb_model.best_score_)"
   ]
  },
  {
   "cell_type": "code",
   "execution_count": 7,
   "metadata": {},
   "outputs": [
    {
     "name": "stdout",
     "output_type": "stream",
     "text": [
      "{'bagging_fraction': 0.95, 'feature_fraction': 1.0, 'learning_rate': 0.01, 'num_boost_round': 400, 'num_leaves': 31, 'reg_alpha': 0.1} 0.86709308607\n"
     ]
    }
   ],
   "source": [
    "from sklearn.model_selection import GridSearchCV, RandomizedSearchCV, GroupKFold, KFold\n",
    "\n",
    "np.random.seed(42)\n",
    "kf = KFold(n_splits=4).split(X=x, y=y)\n",
    "\n",
    "param_grid = {\n",
    "    'num_leaves': [31, 60],\n",
    "    'feature_fraction': [0.9, 1.0],\n",
    "    'bagging_fraction': [0.95], \n",
    "    'reg_alpha': [0.1],\n",
    "    'num_boost_round': [350, 400, 500],\n",
    "    'learning_rate': [0.01, 0.005]\n",
    "}\n",
    "\n",
    "lgb_estimator = lgb.LGBMRegressor(boosting_type='gbdt',\n",
    "                                  objective='regression',\n",
    "                                  bagging_freq=5,\n",
    "                                  categorical_feature=[0, 1, 4])#,\n",
    "#                                   early_stopping_rounds=5) # REMOVING THIS ARGUMENT MAKES THE CODE RUN OKAY\n",
    "\n",
    "gsearch = GridSearchCV(estimator=lgb_estimator, \n",
    "                       param_grid=param_grid, \n",
    "                       cv=kf) \n",
    "\n",
    "lgb_model = gsearch.fit(X=x, y=y)\n",
    "\n",
    "print(lgb_model.best_params_, lgb_model.best_score_)"
   ]
  },
  {
   "cell_type": "code",
   "execution_count": 14,
   "metadata": {},
   "outputs": [
    {
     "data": {
      "text/plain": [
       "LGBMRegressor(bagging_fraction=0.95, bagging_freq=5, boosting_type='gbdt',\n",
       "       categorical_feature=[0, 1, 4], class_weight=None,\n",
       "       colsample_bytree=1.0, feature_fraction=1.0, importance_type='split',\n",
       "       learning_rate=0.01, max_depth=-1, min_child_samples=20,\n",
       "       min_child_weight=0.001, min_split_gain=0.0, n_estimators=100,\n",
       "       n_jobs=-1, num_boost_round=400, num_leaves=31, objective=None,\n",
       "       random_state=None, reg_alpha=0.1, reg_lambda=0.0, silent=True,\n",
       "       subsample=1.0, subsample_for_bin=200000, subsample_freq=0)"
      ]
     },
     "execution_count": 14,
     "metadata": {},
     "output_type": "execute_result"
    }
   ],
   "source": [
    "param = {\n",
    "    'bagging_fraction': 0.95, \n",
    "    'feature_fraction': 1.0, \n",
    "    'learning_rate': 0.01, \n",
    "    'num_boost_round': 400, \n",
    "    'num_leaves': 31, \n",
    "    'reg_alpha': 0.1\n",
    "}\n",
    "\n",
    "model = lgb.LGBMRegressor(boosting_type='gbdt' ,bagging_freq=5, categorical_feature=[0,1,4], **param)\n",
    "model.fit(x, y)"
   ]
  },
  {
   "cell_type": "code",
   "execution_count": 17,
   "metadata": {},
   "outputs": [
    {
     "data": {
      "text/plain": [
       "0.89892748482181362"
      ]
     },
     "execution_count": 17,
     "metadata": {},
     "output_type": "execute_result"
    }
   ],
   "source": [
    "model.score(x, y)"
   ]
  },
  {
   "cell_type": "code",
   "execution_count": 22,
   "metadata": {},
   "outputs": [],
   "source": [
    "pred  = model.predict(get_x(p1))"
   ]
  },
  {
   "cell_type": "code",
   "execution_count": 26,
   "metadata": {
    "collapsed": true
   },
   "outputs": [],
   "source": [
    "def predict(x, y, pred_x, idx):\n",
    "    np.random.seed(42)\n",
    "    kf = KFold(n_splits=4).split(X=x, y=y)\n",
    "\n",
    "    param_grid = {\n",
    "        'num_leaves': [31, 60],\n",
    "        'feature_fraction': [0.9, 1.0],\n",
    "        'bagging_fraction': [0.95], \n",
    "        'reg_alpha': [0.1],\n",
    "        'num_boost_round': [350, 400, 500],\n",
    "        'learning_rate': [0.01, 0.005]\n",
    "    }\n",
    "\n",
    "    lgb_estimator = lgb.LGBMRegressor(boosting_type='gbdt',\n",
    "                                      objective='regression',\n",
    "                                      bagging_freq=5,\n",
    "                                      categorical_feature=[0, 1, 4])#,\n",
    "    #                                   early_stopping_rounds=5) # REMOVING THIS ARGUMENT MAKES THE CODE RUN OKAY\n",
    "\n",
    "    gsearch = GridSearchCV(estimator=lgb_estimator, \n",
    "                           param_grid=param_grid, \n",
    "                           cv=kf) \n",
    "\n",
    "    lgb_model = gsearch.fit(X=x, y=y)\n",
    "\n",
    "    print(lgb_model.best_params_, lgb_model.best_score_)\n",
    "    model = lgb.LGBMRegressor(boosting_type='gbdt' ,bagging_freq=5, categorical_feature=[0,1,4], **lgb_model.best_params_)\n",
    "    model.fit(x, y)\n",
    "    return pd.DataFrame({'id': idx, 'predicition': model.predict(pred_x)})"
   ]
  },
  {
   "cell_type": "code",
   "execution_count": 27,
   "metadata": {
    "scrolled": true
   },
   "outputs": [
    {
     "name": "stdout",
     "output_type": "stream",
     "text": [
      "{'bagging_fraction': 0.95, 'feature_fraction': 1.0, 'learning_rate': 0.01, 'num_boost_round': 400, 'num_leaves': 31, 'reg_alpha': 0.1} 0.86709308607\n",
      "{'bagging_fraction': 0.95, 'feature_fraction': 1.0, 'learning_rate': 0.01, 'num_boost_round': 350, 'num_leaves': 31, 'reg_alpha': 0.1} 0.648159547875\n",
      "{'bagging_fraction': 0.95, 'feature_fraction': 1.0, 'learning_rate': 0.01, 'num_boost_round': 350, 'num_leaves': 31, 'reg_alpha': 0.1} 0.789878741422\n",
      "{'bagging_fraction': 0.95, 'feature_fraction': 0.9, 'learning_rate': 0.01, 'num_boost_round': 500, 'num_leaves': 31, 'reg_alpha': 0.1} 0.808947884092\n"
     ]
    }
   ],
   "source": [
    "res = []\n",
    "t = [t1, t2, t3, t4]\n",
    "p = [p1, p2, p3, p4]\n",
    "for i in range(4):\n",
    "    x = get_x(t[i])\n",
    "    y = t[i][\"实际功率\"]\n",
    "    pred_x = get_x(p[i])\n",
    "    idx = p[i]['id']\n",
    "    res.append(predict(x, y, pred_x, idx))"
   ]
  },
  {
   "cell_type": "code",
   "execution_count": 29,
   "metadata": {},
   "outputs": [],
   "source": [
    "res = pd.concat(res)"
   ]
  },
  {
   "cell_type": "code",
   "execution_count": 33,
   "metadata": {
    "collapsed": true
   },
   "outputs": [],
   "source": [
    "res.to_csv(\"/home/zhouzr/桌面/submit_20181105.csv\", index=None)"
   ]
  },
  {
   "cell_type": "code",
   "execution_count": null,
   "metadata": {
    "collapsed": true
   },
   "outputs": [],
   "source": []
  }
 ],
 "metadata": {
  "kernelspec": {
   "display_name": "Python 3",
   "language": "python",
   "name": "python3"
  },
  "language_info": {
   "codemirror_mode": {
    "name": "ipython",
    "version": 3
   },
   "file_extension": ".py",
   "mimetype": "text/x-python",
   "name": "python",
   "nbconvert_exporter": "python",
   "pygments_lexer": "ipython3",
   "version": "3.6.3"
  }
 },
 "nbformat": 4,
 "nbformat_minor": 2
}
