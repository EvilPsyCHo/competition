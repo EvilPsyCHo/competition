{
 "cells": [
  {
   "cell_type": "code",
   "execution_count": 1,
   "metadata": {
    "collapsed": true
   },
   "outputs": [],
   "source": [
    "import pandas as pd\n",
    "import numpy as np\n",
    "import matplotlib.pyplot as plt\n",
    "%matplotlib inline\n",
    "import seaborn as sns\n",
    "import os\n",
    "from sklearn.metrics import mutual_info_score\n",
    "\n",
    "import warnings\n",
    "warnings.filterwarnings(\"ignore\")\n",
    "\n",
    "import xgboost as xgb\n",
    "import lightgbm as lgb\n",
    "\n",
    "plant_power = {\n",
    "    1: 10,\n",
    "    2: 10,\n",
    "    3: 40,\n",
    "    4: 50\n",
    "}\n",
    "\n",
    "\n",
    "def mae_d(df_groupby, plant):\n",
    "    pm = df_groupby['pm'].values\n",
    "    pp = df_groupby['pp'].values\n",
    "    threshold = plant_power[plant] * 0.03\n",
    "    index = pm >= threshold\n",
    "    return np.abs(pm[index] - pp[index]).sum() / (np.sum(index) * plant_power[plant])\n",
    "\n",
    "\n",
    "def mae_m(df, plant):\n",
    "    return df.groupby(df['datetime'].dt.day).apply(lambda x: mae_d(x, plant)).mean()\n",
    "\n",
    "\n",
    "def score(df, plant):\n",
    "    \"\"\"\n",
    "\n",
    "    :param df: datetime, pm, pp\n",
    "    :param plant:\n",
    "    :return:\n",
    "    \"\"\"\n",
    "    month = df['datetime'].dt.month.unique()\n",
    "    ret = []\n",
    "    for m in month:\n",
    "        ret.append(mae_m(df[df['datetime'].dt.month == m], plant))\n",
    "    return np.mean(ret)"
   ]
  },
  {
   "cell_type": "code",
   "execution_count": 3,
   "metadata": {
    "collapsed": true
   },
   "outputs": [],
   "source": [
    "def load_dataset():\n",
    "    [t1, t2, t3, t4] = [pd.read_csv(f'../data/train_{i}.csv', parse_dates=[\"时间\"]) for i in range(1, 5)]\n",
    "    [p1, p2, p3, p4] = [pd.read_csv(f'../data/test_{i}.csv', parse_dates=[\"时间\"]) for i in range(1, 5)]\n",
    "    [t1, t2, t3, t4] = [t.drop_duplicates().reset_index(drop=True) for t in [t1, t2, t3, t4]]\n",
    "    return [t1, t2, t3, t4], [p1, p2, p3, p4]\n",
    "\n",
    "[t1, t2, t3, t4], [p1, p2, p3, p4] = load_dataset()"
   ]
  },
  {
   "cell_type": "code",
   "execution_count": 22,
   "metadata": {},
   "outputs": [],
   "source": [
    "def get_x(t):\n",
    "    t['month_cat'] = t[\"时间\"].dt.month\n",
    "    t['hour_cat'] = t[\"时间\"].dt.month\n",
    "    t['irr'] = t[\"辐照度\"]\n",
    "    t['ws'] = t[\"风速\"]\n",
    "    t['wd_cat'] = pd.cut(t1[\"风向\"], bins=list(range(0, 360, 30)))\n",
    "    t['pr'] = t[\"压强\"]\n",
    "    t['hm'] = t[\"湿度\"]\n",
    "    return t.loc[:, ['month_cat', 'hour_cat', 'irr', 'ws', 'wd_cat', 'pr', 'hm']]\n",
    "\n",
    "train_x = get_x(t1)\n",
    "train_y = t1[\"实际功率\"].values\n",
    "\n",
    "from sklearn.cross_validation import train_test_split\n",
    "\n",
    "x1, x2, y1, y2 = train_x[:60000], train_x[60000:], train_y[:60000], train_y[60000:]"
   ]
  },
  {
   "cell_type": "code",
   "execution_count": 47,
   "metadata": {
    "collapsed": true
   },
   "outputs": [],
   "source": [
    "train_x = get_x(t4)\n",
    "train_y = t4[\"实际功率\"].values\n",
    "k = int(train_x.shape[0] * 0.8)\n",
    "x1, x2, y1, y2 = train_x[:k], train_x[k:], train_y[:k], train_y[k:]"
   ]
  },
  {
   "cell_type": "code",
   "execution_count": 48,
   "metadata": {
    "scrolled": true
   },
   "outputs": [],
   "source": [
    "param = {\n",
    "    'bagging_fraction': 0.95, \n",
    "    'feature_fraction': 1.0, \n",
    "    'learning_rate': 0.01, \n",
    "    'num_boost_round': 400, \n",
    "    'num_leaves': 31, \n",
    "    'reg_alpha': 0.1\n",
    "}\n",
    "\n",
    "model = lgb.LGBMRegressor(boosting_type='gbdt' ,bagging_freq=5, categorical_feature=[0,1,4], **param)\n"
   ]
  },
  {
   "cell_type": "code",
   "execution_count": 58,
   "metadata": {
    "scrolled": false
   },
   "outputs": [
    {
     "data": {
      "text/plain": [
       "0.13702701146535712"
      ]
     },
     "execution_count": 58,
     "metadata": {},
     "output_type": "execute_result"
    }
   ],
   "source": [
    "model.fit(x1, y1)\n",
    "pred_y = model.predict(x2)\n",
    "df = pd.DataFrame({'datetime': t4['时间'][k:], 'pm': y2, 'pp': pred_y})\n",
    "score(df, 4)"
   ]
  },
  {
   "cell_type": "code",
   "execution_count": 57,
   "metadata": {},
   "outputs": [
    {
     "data": {
      "text/plain": [
       "0.1461389218028768"
      ]
     },
     "execution_count": 57,
     "metadata": {},
     "output_type": "execute_result"
    }
   ],
   "source": [
    "score2(y2, pred_y, plant=4)"
   ]
  },
  {
   "cell_type": "code",
   "execution_count": 54,
   "metadata": {
    "collapsed": true
   },
   "outputs": [],
   "source": [
    "def score2(pm, pp, plant):\n",
    "    threshold = plant_power[plant] * 0.03\n",
    "    index = pm >= threshold\n",
    "    return np.abs(pm[index] - pp[index]).sum() / (np.sum(index) * plant_power[plant])"
   ]
  },
  {
   "cell_type": "code",
   "execution_count": 62,
   "metadata": {
    "collapsed": true
   },
   "outputs": [],
   "source": [
    "def score3(pm, pp):\n",
    "#     threshold = plant_power[plant] * 0.03\n",
    "#     index = pm >= threshold\n",
    "    return np.abs(pm - pp).mean()"
   ]
  },
  {
   "cell_type": "code",
   "execution_count": 63,
   "metadata": {},
   "outputs": [
    {
     "data": {
      "text/plain": [
       "3.4947231919566994"
      ]
     },
     "execution_count": 63,
     "metadata": {},
     "output_type": "execute_result"
    }
   ],
   "source": [
    "score3(y2, pred_y)"
   ]
  },
  {
   "cell_type": "code",
   "execution_count": null,
   "metadata": {
    "collapsed": true
   },
   "outputs": [],
   "source": []
  }
 ],
 "metadata": {
  "kernelspec": {
   "display_name": "Python 3",
   "language": "python",
   "name": "python3"
  },
  "language_info": {
   "codemirror_mode": {
    "name": "ipython",
    "version": 3
   },
   "file_extension": ".py",
   "mimetype": "text/x-python",
   "name": "python",
   "nbconvert_exporter": "python",
   "pygments_lexer": "ipython3",
   "version": "3.6.1"
  }
 },
 "nbformat": 4,
 "nbformat_minor": 2
}
