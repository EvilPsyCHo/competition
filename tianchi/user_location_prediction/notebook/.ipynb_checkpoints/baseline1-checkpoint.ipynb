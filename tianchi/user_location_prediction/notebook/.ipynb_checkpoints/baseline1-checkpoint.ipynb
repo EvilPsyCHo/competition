{
 "cells": [
  {
   "cell_type": "code",
   "execution_count": 11,
   "metadata": {
    "collapsed": true
   },
   "outputs": [],
   "source": [
    "import warnings\n",
    "import os\n",
    "import sys\n",
    "\n",
    "import numpy as np\n",
    "import pandas as pd\n",
    "\n",
    "from sklearn.metrics import accuracy_score\n",
    "import xgboost as xgb\n",
    "from sklearn.linear_model import LogisticRegression\n",
    "\n",
    "\n",
    "from tianchi.user_location_prediction.pycode.load_data import *"
   ]
  },
  {
   "cell_type": "code",
   "execution_count": 2,
   "metadata": {
    "collapsed": true
   },
   "outputs": [],
   "source": [
    "def load_preprosessing_data():\n",
    "    shop = pd.read_csv('./pre_processing_data/shop.csv')\n",
    "    user = pd.read_csv('./pre_processing_data/user.csv')\n",
    "    wifi = pd.read_csv('./pre_processing_data/wifi.csv')\n",
    "\n",
    "    shop = shop[shop.mall_id=='m_1409'].copy().reset_index(drop=True)\n",
    "    user = user[user.mall_id=='m_1409'].copy().reset_index(drop=True)\n",
    "    wifi = wifi[wifi.mall_id=='m_1409'].copy().reset_index(drop=True)\n",
    "\n",
    "    return shop, user, wifi"
   ]
  },
  {
   "cell_type": "code",
   "execution_count": 14,
   "metadata": {
    "collapsed": true
   },
   "outputs": [],
   "source": [
    "abtest = load_original_abtest()"
   ]
  },
  {
   "cell_type": "code",
   "execution_count": 16,
   "metadata": {
    "collapsed": true
   },
   "outputs": [],
   "source": [
    "user = load_original_user()"
   ]
  },
  {
   "cell_type": "code",
   "execution_count": 4,
   "metadata": {
    "collapsed": true
   },
   "outputs": [],
   "source": [
    "shop, user, wifi = load_preprosessing_data()"
   ]
  },
  {
   "cell_type": "code",
   "execution_count": 5,
   "metadata": {},
   "outputs": [
    {
     "data": {
      "text/html": [
       "<div>\n",
       "<style>\n",
       "    .dataframe thead tr:only-child th {\n",
       "        text-align: right;\n",
       "    }\n",
       "\n",
       "    .dataframe thead th {\n",
       "        text-align: left;\n",
       "    }\n",
       "\n",
       "    .dataframe tbody tr th {\n",
       "        vertical-align: top;\n",
       "    }\n",
       "</style>\n",
       "<table border=\"1\" class=\"dataframe\">\n",
       "  <thead>\n",
       "    <tr style=\"text-align: right;\">\n",
       "      <th></th>\n",
       "      <th>row_id</th>\n",
       "      <th>user_id</th>\n",
       "      <th>mall_id</th>\n",
       "      <th>time_stamp</th>\n",
       "      <th>lgt</th>\n",
       "      <th>ltt</th>\n",
       "      <th>wifi_infos</th>\n",
       "    </tr>\n",
       "  </thead>\n",
       "  <tbody>\n",
       "    <tr>\n",
       "      <th>0</th>\n",
       "      <td>118742</td>\n",
       "      <td>u_30097142</td>\n",
       "      <td>m_3916</td>\n",
       "      <td>2017-09-05 13:00</td>\n",
       "      <td>122.141011</td>\n",
       "      <td>39.818847</td>\n",
       "      <td>b_34366982|-82|false;b_37756289|-53|false;b_41...</td>\n",
       "    </tr>\n",
       "    <tr>\n",
       "      <th>1</th>\n",
       "      <td>118743</td>\n",
       "      <td>u_30097803</td>\n",
       "      <td>m_5085</td>\n",
       "      <td>2017-09-06 13:10</td>\n",
       "      <td>118.191907</td>\n",
       "      <td>32.855858</td>\n",
       "      <td>b_36722251|-81|false;b_10537579|-75|false;b_43...</td>\n",
       "    </tr>\n",
       "    <tr>\n",
       "      <th>2</th>\n",
       "      <td>118744</td>\n",
       "      <td>u_30097889</td>\n",
       "      <td>m_4033</td>\n",
       "      <td>2017-09-06 17:40</td>\n",
       "      <td>119.192110</td>\n",
       "      <td>32.424667</td>\n",
       "      <td>b_30026291|-74|false;b_30026290|-74|false;b_36...</td>\n",
       "    </tr>\n",
       "  </tbody>\n",
       "</table>\n",
       "</div>"
      ],
      "text/plain": [
       "   row_id     user_id mall_id        time_stamp         lgt        ltt  \\\n",
       "0  118742  u_30097142  m_3916  2017-09-05 13:00  122.141011  39.818847   \n",
       "1  118743  u_30097803  m_5085  2017-09-06 13:10  118.191907  32.855858   \n",
       "2  118744  u_30097889  m_4033  2017-09-06 17:40  119.192110  32.424667   \n",
       "\n",
       "                                          wifi_infos  \n",
       "0  b_34366982|-82|false;b_37756289|-53|false;b_41...  \n",
       "1  b_36722251|-81|false;b_10537579|-75|false;b_43...  \n",
       "2  b_30026291|-74|false;b_30026290|-74|false;b_36...  "
      ]
     },
     "execution_count": 5,
     "metadata": {},
     "output_type": "execute_result"
    }
   ],
   "source": [
    "abtest.head(3)"
   ]
  },
  {
   "cell_type": "code",
   "execution_count": 17,
   "metadata": {},
   "outputs": [
    {
     "data": {
      "text/html": [
       "<div>\n",
       "<style>\n",
       "    .dataframe thead tr:only-child th {\n",
       "        text-align: right;\n",
       "    }\n",
       "\n",
       "    .dataframe thead th {\n",
       "        text-align: left;\n",
       "    }\n",
       "\n",
       "    .dataframe tbody tr th {\n",
       "        vertical-align: top;\n",
       "    }\n",
       "</style>\n",
       "<table border=\"1\" class=\"dataframe\">\n",
       "  <thead>\n",
       "    <tr style=\"text-align: right;\">\n",
       "      <th></th>\n",
       "      <th>user_id</th>\n",
       "      <th>shop_id</th>\n",
       "      <th>time_stamp</th>\n",
       "      <th>longitude</th>\n",
       "      <th>latitude</th>\n",
       "      <th>wifi_infos</th>\n",
       "    </tr>\n",
       "  </thead>\n",
       "  <tbody>\n",
       "    <tr>\n",
       "      <th>0</th>\n",
       "      <td>u_376</td>\n",
       "      <td>s_2871718</td>\n",
       "      <td>2017-08-06 21:20</td>\n",
       "      <td>122.308291</td>\n",
       "      <td>32.088040</td>\n",
       "      <td>b_6396480|-67|false;b_41124514|-86|false;b_287...</td>\n",
       "    </tr>\n",
       "    <tr>\n",
       "      <th>1</th>\n",
       "      <td>u_376</td>\n",
       "      <td>s_2871718</td>\n",
       "      <td>2017-08-06 21:20</td>\n",
       "      <td>122.308162</td>\n",
       "      <td>32.087970</td>\n",
       "      <td>b_6396480|-67|false;b_56328155|-73|false;b_411...</td>\n",
       "    </tr>\n",
       "    <tr>\n",
       "      <th>2</th>\n",
       "      <td>u_1041</td>\n",
       "      <td>s_181637</td>\n",
       "      <td>2017-08-02 13:10</td>\n",
       "      <td>117.365255</td>\n",
       "      <td>40.638214</td>\n",
       "      <td>b_8006367|-78|false;b_2485110|-52|false;b_3005...</td>\n",
       "    </tr>\n",
       "  </tbody>\n",
       "</table>\n",
       "</div>"
      ],
      "text/plain": [
       "  user_id    shop_id        time_stamp   longitude   latitude  \\\n",
       "0   u_376  s_2871718  2017-08-06 21:20  122.308291  32.088040   \n",
       "1   u_376  s_2871718  2017-08-06 21:20  122.308162  32.087970   \n",
       "2  u_1041   s_181637  2017-08-02 13:10  117.365255  40.638214   \n",
       "\n",
       "                                          wifi_infos  \n",
       "0  b_6396480|-67|false;b_41124514|-86|false;b_287...  \n",
       "1  b_6396480|-67|false;b_56328155|-73|false;b_411...  \n",
       "2  b_8006367|-78|false;b_2485110|-52|false;b_3005...  "
      ]
     },
     "execution_count": 17,
     "metadata": {},
     "output_type": "execute_result"
    }
   ],
   "source": [
    "user.head(3)"
   ]
  },
  {
   "cell_type": "markdown",
   "metadata": {},
   "source": [
    "### 空间距离最近"
   ]
  },
  {
   "cell_type": "code",
   "execution_count": 6,
   "metadata": {
    "collapsed": true
   },
   "outputs": [],
   "source": [
    "def space_distance_calc(lgt, ltt):\n",
    "    idx = np.argmin((shop.lgt-lgt)**2 + (shop.ltt-ltt)**2)\n",
    "    return shop.iloc[idx, 0]\n",
    "\n",
    "pre = [space_distance_calc(i[0], i[1]) for i in zip(user.lgt, user.ltt)]\n",
    "\n",
    "accuracy_score(user.shop_id, pre)"
   ]
  }
 ],
 "metadata": {
  "kernelspec": {
   "display_name": "Python 3",
   "language": "python",
   "name": "python3"
  },
  "language_info": {
   "codemirror_mode": {
    "name": "ipython",
    "version": 3
   },
   "file_extension": ".py",
   "mimetype": "text/x-python",
   "name": "python",
   "nbconvert_exporter": "python",
   "pygments_lexer": "ipython3",
   "version": "3.6.1"
  }
 },
 "nbformat": 4,
 "nbformat_minor": 2
}
