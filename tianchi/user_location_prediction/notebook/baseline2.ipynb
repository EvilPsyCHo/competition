{
 "cells": [
  {
   "cell_type": "code",
   "execution_count": 1,
   "metadata": {
    "collapsed": true
   },
   "outputs": [],
   "source": [
    "import warnings\n",
    "import os\n",
    "import sys\n",
    "import numpy as np\n",
    "import pandas as pd\n",
    "from sklearn.linear_model import LogisticRegression\n",
    "from sklearn.preprocessing import MinMaxScaler"
   ]
  },
  {
   "cell_type": "code",
   "execution_count": 2,
   "metadata": {
    "collapsed": true
   },
   "outputs": [],
   "source": [
    "path = '/home/zhouzr/data/tianchi/user_location_predict'\n",
    "os.chdir(path)"
   ]
  },
  {
   "cell_type": "code",
   "execution_count": 8,
   "metadata": {
    "collapsed": true
   },
   "outputs": [],
   "source": [
    "train_sample = pd.read_csv('./original_data/训练数据-ccf_first_round_user_shop_behavior.csv')\n",
    "shop = pd.read_csv('./original_data/训练数据-ccf_first_round_shop_info.csv')\n",
    "test_sample = pd.read_csv('./original_data/AB榜测试集-evaluation_public.csv')"
   ]
  },
  {
   "cell_type": "code",
   "execution_count": 13,
   "metadata": {
    "collapsed": true
   },
   "outputs": [],
   "source": [
    "shop.rename(columns={'longitude': 'lgt', 'latitude': 'ltt', 'time_stamp': 'time'}, inplace=True)\n",
    "train_sample.rename(columns={'longitude': 'lgt', 'latitude': 'ltt', 'time_stamp': 'time'}, inplace=True)\n",
    "test_sample.rename(columns={'longitude': 'lgt', 'latitude': 'ltt', 'time_stamp': 'time'}, inplace=True)\n",
    "train_sample = train_sample.merge(shop[['shop_id','mall_id']], on='shop_id', how='left')"
   ]
  },
  {
   "cell_type": "code",
   "execution_count": 16,
   "metadata": {},
   "outputs": [],
   "source": [
    "sample = pd.concat([train_sample, test_sample])\n",
    "sample['sample_id'] = range(sample.shape[0])\n",
    "sample = sample.loc[:, ['sample_id','row_id','mall_id','user_id','lgt','ltt','time','wifi_infos','shop_id']]\n",
    "sample['time'] = pd.to_datetime(sample['time'])"
   ]
  },
  {
   "cell_type": "code",
   "execution_count": 26,
   "metadata": {},
   "outputs": [],
   "source": [
    "sample.to_csv('./preprocessing_data/sample.csv', index=None)\n",
    "shop.to_csv('./preprocessing_data/shop.csv', index=None)"
   ]
  },
  {
   "cell_type": "code",
   "execution_count": 3,
   "metadata": {
    "scrolled": true
   },
   "outputs": [
    {
     "name": "stderr",
     "output_type": "stream",
     "text": [
      "/home/zhouzr/anaconda3/lib/python3.6/site-packages/IPython/core/interactiveshell.py:2717: DtypeWarning: Columns (8) have mixed types. Specify dtype option on import or set low_memory=False.\n",
      "  interactivity=interactivity, compiler=compiler, result=result)\n"
     ]
    }
   ],
   "source": [
    "sample = pd.read_csv('./preprocessing_data/sample.csv')"
   ]
  },
  {
   "cell_type": "code",
   "execution_count": 8,
   "metadata": {},
   "outputs": [],
   "source": [
    "sample['time'] = pd.to_datetime(sample['time'])"
   ]
  },
  {
   "cell_type": "code",
   "execution_count": 9,
   "metadata": {
    "collapsed": true
   },
   "outputs": [],
   "source": [
    "sample_m1409 = sample[sample.mall_id=='m_1409'].copy().reset_index(drop=True)"
   ]
  },
  {
   "cell_type": "code",
   "execution_count": 10,
   "metadata": {
    "collapsed": true
   },
   "outputs": [],
   "source": [
    "def extract_space_feat(df):\n",
    "    scaler = MinMaxScaler()\n",
    "    feat = scaler.fit_transform(df[['lgt','ltt']])\n",
    "    return feat\n",
    "\n",
    "def extract_time_feat(df):\n",
    "    df['weekday'] = df.time.dt.weekday\n",
    "    df['hour'] = df.time.dt.hour\n",
    "    scaler = MinMaxScaler()\n",
    "    feat = scaler.fit_transform(df[['weekday','hour']])\n",
    "    return feat\n",
    "\n",
    "def extract_wifi_feat(df):\n",
    "    scaler = MinMaxScaler()\n",
    "    sample_id_list = []\n",
    "    wifi_id_list = []\n",
    "    signal_power_list = []\n",
    "    signal_flag_list = []\n",
    "\n",
    "    df = df.reset_index(drop=True)\n",
    "    sample_size = df.shape[0]\n",
    "\n",
    "    for i in range(sample_size):\n",
    "        wifi_info = df.wifi_infos[i].split(';')\n",
    "        sample_id = df.sample_id[i]\n",
    "        for w in wifi_info:\n",
    "            w_values = w.split('|')\n",
    "            wifi_id_list.append(w_values[0])\n",
    "            signal_power_list.append(float(w_values[1]))\n",
    "            signal_flag_list.append(w_values[2])\n",
    "            sample_id_list.append(sample_id)\n",
    "\n",
    "    feat = pd.DataFrame({'sample_id': sample_id_list,\n",
    "                         'signal_power': signal_power_list,\n",
    "                         'signal_flag': signal_flag_list,\n",
    "                         'wifi_id': wifi_id_list},\n",
    "                        columns=['sample_id', 'wifi_id', 'signal_power', 'signal_flag'])\n",
    "    min_power = feat.signal_power.min() - 1\n",
    "    max_power = feat.signal_power.max()\n",
    "\n",
    "    feat['signal_flag'] = feat.signal_flag.apply(lambda x: 1 if x == 'true' else 0)\n",
    "    feat['signal_power'] = (feat['signal_power'] - min_power) / max_power\n",
    "\n",
    "    wifi_power = pd.pivot_table(feat, index='sample_id', columns='wifi_id', values='signal_power')\n",
    "    wifi_flag = pd.pivot_table(feat, index='sample_id', columns='wifi_id', values='signal_flag')\n",
    "    wifi_feat = pd.concat([wifi_power, wifi_flag], axis=1).reset_index().fillna(0).drop('sample_id', axis=1).values\n",
    "    wifi_feat = scaler.fit_transform(wifi_feat)\n",
    "    return wifi_feat"
   ]
  },
  {
   "cell_type": "code",
   "execution_count": 31,
   "metadata": {},
   "outputs": [
    {
     "name": "stdout",
     "output_type": "stream",
     "text": [
      "extract feature cost time 8.36\n",
      "train model cost time 1421.71\n"
     ]
    }
   ],
   "source": [
    "import time\n",
    "t1 = time.time()\n",
    "f2 = extract_space_feat(sample_m1409)\n",
    "f1 = extract_time_feat(sample_m1409)\n",
    "f3 = extract_wifi_feat(sample_m1409)\n",
    "t2 = time.time()\n",
    "feat = np.concatenate([f1,f2,f3], axis=1)\n",
    "\n",
    "train_idx = sample_m1409[sample_m1409.row_id.isnull()].index.tolist()\n",
    "\n",
    "train_x = feat[train_idx]\n",
    "train_y = sample_m1409[sample_m1409.row_id.isnull()]['shop_id'].values\n",
    "\n",
    "model = LogisticRegression()\n",
    "model.fit(train_x, train_y)\n",
    "print('extract feature cost time %.2f'%(t2-t1))\n",
    "print('train model cost time %.2f'%(time.time()-t2))"
   ]
  },
  {
   "cell_type": "code",
   "execution_count": 32,
   "metadata": {
    "scrolled": false
   },
   "outputs": [
    {
     "data": {
      "text/plain": [
       "0.96890726096333568"
      ]
     },
     "execution_count": 32,
     "metadata": {},
     "output_type": "execute_result"
    }
   ],
   "source": [
    "model.score(train_x, train_y)"
   ]
  }
 ],
 "metadata": {
  "kernelspec": {
   "display_name": "Python 3",
   "language": "python",
   "name": "python3"
  },
  "language_info": {
   "codemirror_mode": {
    "name": "ipython",
    "version": 3
   },
   "file_extension": ".py",
   "mimetype": "text/x-python",
   "name": "python",
   "nbconvert_exporter": "python",
   "pygments_lexer": "ipython3",
   "version": "3.6.1"
  }
 },
 "nbformat": 4,
 "nbformat_minor": 2
}
