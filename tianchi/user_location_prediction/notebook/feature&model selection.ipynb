{
 "cells": [
  {
   "cell_type": "code",
   "execution_count": 1,
   "metadata": {},
   "outputs": [
    {
     "name": "stderr",
     "output_type": "stream",
     "text": [
      "/home/zhouzr/anaconda3/lib/python3.6/site-packages/sklearn/cross_validation.py:44: DeprecationWarning: This module was deprecated in version 0.18 in favor of the model_selection module into which all the refactored classes and functions are moved. Also note that the interface of the new CV iterators are different from that of this module. This module will be removed in 0.20.\n",
      "  \"This module will be removed in 0.20.\", DeprecationWarning)\n"
     ]
    }
   ],
   "source": [
    "import time\n",
    "import numpy as np\n",
    "import pandas as pd\n",
    "\n",
    "from sklearn.naive_bayes import MultinomialNB\n",
    "from sklearn.linear_model import LogisticRegression\n",
    "from sklearn.svm import SVC\n",
    "from sklearn.model_selection import cross_val_score\n",
    "from xgboost.sklearn import XGBClassifier\n",
    "\n",
    "from tianchi.user_location_prediction.pysrc.construct_train_test_data import DataGenerator"
   ]
  },
  {
   "cell_type": "code",
   "execution_count": 2,
   "metadata": {
    "collapsed": true
   },
   "outputs": [],
   "source": [
    "def cv_test(x, y, cv, model):\n",
    "    t = time.time()\n",
    "    result = np.array(cross_val_score(model, x, y, cv=cv, scoring='accuracy', n_jobs=-1))\n",
    "    t_use = (time.time()-t) / 60 / cv\n",
    "    print('per cv cost:%.2f min'%(t_use))\n",
    "    return result"
   ]
  },
  {
   "cell_type": "code",
   "execution_count": 3,
   "metadata": {
    "scrolled": true
   },
   "outputs": [
    {
     "name": "stderr",
     "output_type": "stream",
     "text": [
      "/home/zhouzr/anaconda3/lib/python3.6/site-packages/IPython/core/interactiveshell.py:2881: DtypeWarning: Columns (8) have mixed types. Specify dtype option on import or set low_memory=False.\n",
      "  exec(code_obj, self.user_global_ns, self.user_ns)\n"
     ]
    }
   ],
   "source": [
    "data_generator = DataGenerator()"
   ]
  },
  {
   "cell_type": "code",
   "execution_count": 7,
   "metadata": {
    "collapsed": true
   },
   "outputs": [],
   "source": [
    "feat_all = ['weekday' ,'hour' ,'holiday', 'space_loc','space_dist','wifi_power','wifi_power_dist',\n",
    "            'wifi_flag','wifi_flag_dist','user_cate','user_price']\n",
    "feat_submission_1 = ['weekday' ,'hour' , 'space_loc','wifi_power','wifi_flag']\n",
    "feat_submission_2 = ['weekday' ,'hour' , 'space_loc','space_dist','wifi_power','wifi_power_dist',\n",
    "            'wifi_flag','wifi_flag_dist']\n",
    "feat_submission_3 = ['weekday' ,'hour','holiday' , 'space_loc','wifi_power','wifi_flag','user_cate','user_price']"
   ]
  },
  {
   "cell_type": "code",
   "execution_count": 8,
   "metadata": {
    "collapsed": true
   },
   "outputs": [],
   "source": [
    "mall_id = 'm_7800'"
   ]
  },
  {
   "cell_type": "markdown",
   "metadata": {},
   "source": [
    "### all feat"
   ]
  },
  {
   "cell_type": "code",
   "execution_count": 9,
   "metadata": {
    "scrolled": true
   },
   "outputs": [
    {
     "name": "stderr",
     "output_type": "stream",
     "text": [
      "/home/zhouzr/anaconda3/lib/python3.6/site-packages/sklearn/model_selection/_split.py:581: Warning: The least populated class in y has only 1 members, which is too few. The minimum number of groups for any class cannot be less than n_splits=5.\n",
      "  % (min_groups, self.n_splits)), Warning)\n"
     ]
    },
    {
     "name": "stdout",
     "output_type": "stream",
     "text": [
      "per cv cost:0.86 min\n",
      "[ 0.79824341  0.78971256  0.79158215  0.78665988  0.7943208 ]\n",
      "0.792103759118\n"
     ]
    }
   ],
   "source": [
    "train_x, train_y, test_x, test_row_id = data_generator.gen_sub_train_test_data(feat_all, mall_id)\n",
    "feat1_lr_score = cv_test(train_x, train_y, 5, LogisticRegression())\n",
    "print(feat1_lr_score)\n",
    "print(feat1_lr_score.mean())"
   ]
  },
  {
   "cell_type": "markdown",
   "metadata": {},
   "source": [
    "### submission 1 LB score 0.84"
   ]
  },
  {
   "cell_type": "code",
   "execution_count": 10,
   "metadata": {},
   "outputs": [
    {
     "name": "stderr",
     "output_type": "stream",
     "text": [
      "/home/zhouzr/anaconda3/lib/python3.6/site-packages/sklearn/model_selection/_split.py:581: Warning: The least populated class in y has only 1 members, which is too few. The minimum number of groups for any class cannot be less than n_splits=5.\n",
      "  % (min_groups, self.n_splits)), Warning)\n"
     ]
    },
    {
     "name": "stdout",
     "output_type": "stream",
     "text": [
      "per cv cost:0.19 min\n",
      "[ 0.63086575  0.62581947  0.6214503   0.62194501  0.62420056]\n",
      "0.624856217851\n"
     ]
    }
   ],
   "source": [
    "train_x, train_y, test_x, test_row_id = data_generator.gen_sub_train_test_data(feat_submission_1, mall_id)\n",
    "feat1_lr_score = cv_test(train_x, train_y, 5, LogisticRegression())\n",
    "print(feat1_lr_score)\n",
    "print(feat1_lr_score.mean())"
   ]
  },
  {
   "cell_type": "markdown",
   "metadata": {},
   "source": [
    "#### submission 2  LB score 0.85"
   ]
  },
  {
   "cell_type": "code",
   "execution_count": 11,
   "metadata": {},
   "outputs": [
    {
     "name": "stderr",
     "output_type": "stream",
     "text": [
      "/home/zhouzr/anaconda3/lib/python3.6/site-packages/sklearn/model_selection/_split.py:581: Warning: The least populated class in y has only 1 members, which is too few. The minimum number of groups for any class cannot be less than n_splits=5.\n",
      "  % (min_groups, self.n_splits)), Warning)\n"
     ]
    },
    {
     "name": "stdout",
     "output_type": "stream",
     "text": [
      "per cv cost:0.62 min\n",
      "[ 0.63563363  0.63161876  0.6234787   0.62372709  0.62906114]\n",
      "0.628703863182\n"
     ]
    }
   ],
   "source": [
    "train_x, train_y, test_x, test_row_id = data_generator.gen_sub_train_test_data(feat_submission_2, mall_id)\n",
    "feat1_lr_score = cv_test(train_x, train_y, 5, LogisticRegression())\n",
    "print(feat1_lr_score)\n",
    "print(feat1_lr_score.mean())"
   ]
  },
  {
   "cell_type": "markdown",
   "metadata": {},
   "source": [
    "### submission 3"
   ]
  },
  {
   "cell_type": "code",
   "execution_count": 12,
   "metadata": {},
   "outputs": [
    {
     "name": "stderr",
     "output_type": "stream",
     "text": [
      "/home/zhouzr/anaconda3/lib/python3.6/site-packages/sklearn/model_selection/_split.py:581: Warning: The least populated class in y has only 1 members, which is too few. The minimum number of groups for any class cannot be less than n_splits=5.\n",
      "  % (min_groups, self.n_splits)), Warning)\n"
     ]
    },
    {
     "name": "stdout",
     "output_type": "stream",
     "text": [
      "per cv cost:0.35 min\n",
      "[ 0.795734    0.78593041  0.78727181  0.78233198  0.79150678]\n",
      "0.788554994209\n"
     ]
    }
   ],
   "source": [
    "train_x, train_y, test_x, test_row_id = data_generator.gen_sub_train_test_data(feat_submission_3, mall_id)\n",
    "feat1_lr_score = cv_test(train_x, train_y, 5, LogisticRegression())\n",
    "print(feat1_lr_score)\n",
    "print(feat1_lr_score.mean())"
   ]
  },
  {
   "cell_type": "code",
   "execution_count": null,
   "metadata": {
    "collapsed": true
   },
   "outputs": [],
   "source": []
  }
 ],
 "metadata": {
  "kernelspec": {
   "display_name": "Python 3",
   "language": "python",
   "name": "python3"
  },
  "language_info": {
   "codemirror_mode": {
    "name": "ipython",
    "version": 3
   },
   "file_extension": ".py",
   "mimetype": "text/x-python",
   "name": "python",
   "nbconvert_exporter": "python",
   "pygments_lexer": "ipython3",
   "version": "3.6.1"
  }
 },
 "nbformat": 4,
 "nbformat_minor": 2
}
