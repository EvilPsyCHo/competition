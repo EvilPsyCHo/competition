{
 "cells": [
  {
   "cell_type": "code",
   "execution_count": 1,
   "metadata": {},
   "outputs": [
    {
     "name": "stderr",
     "output_type": "stream",
     "text": [
      "/home/zhouzr/anaconda3/lib/python3.6/site-packages/sklearn/cross_validation.py:44: DeprecationWarning: This module was deprecated in version 0.18 in favor of the model_selection module into which all the refactored classes and functions are moved. Also note that the interface of the new CV iterators are different from that of this module. This module will be removed in 0.20.\n",
      "  \"This module will be removed in 0.20.\", DeprecationWarning)\n"
     ]
    }
   ],
   "source": [
    "import time\n",
    "import numpy as np\n",
    "import pandas as pd\n",
    "\n",
    "from sklearn.naive_bayes import MultinomialNB\n",
    "from sklearn.linear_model import LogisticRegression\n",
    "from sklearn.svm import SVC\n",
    "from sklearn.model_selection import cross_val_score\n",
    "from xgboost.sklearn import XGBClassifier\n",
    "\n",
    "from tianchi.user_location_prediction.pysrc.feature import *\n",
    "from tianchi.user_location_prediction.pysrc.load import *"
   ]
  },
  {
   "cell_type": "code",
   "execution_count": 2,
   "metadata": {
    "scrolled": true
   },
   "outputs": [
    {
     "name": "stderr",
     "output_type": "stream",
     "text": [
      "/home/zhouzr/anaconda3/lib/python3.6/site-packages/IPython/core/interactiveshell.py:2821: DtypeWarning: Columns (8) have mixed types. Specify dtype option on import or set low_memory=False.\n",
      "  if self.run_code(code, result):\n"
     ]
    }
   ],
   "source": [
    "sample = load_sample()\n",
    "shop = load_shop()\n",
    "sample_wifi = load_sample_wifi()"
   ]
  },
  {
   "cell_type": "code",
   "execution_count": 3,
   "metadata": {
    "collapsed": true
   },
   "outputs": [],
   "source": [
    "def construct_batch(sample_df, sample_wifi_df, shop_df):\n",
    "    feat_list = []\n",
    "\n",
    "    weekday_feat = weekday_featext(sample_df, sample_wifi_df, shop_df)\n",
    "    feat_list.append(weekday_feat)\n",
    "\n",
    "    hour_feat = hour_featext(sample_df, sample_wifi_df, shop_df)\n",
    "    feat_list.append(hour_feat)\n",
    "\n",
    "    spaceloc_feat = spaceloc_featext(sample_df, sample_wifi_df, shop_df)\n",
    "    feat_list.append(spaceloc_feat)\n",
    "\n",
    "    spaceloc_dist_feat = spaceloc_dist_featext(sample_df, sample_wifi_df, shop_df)\n",
    "    feat_list.append(spaceloc_dist_feat)\n",
    "\n",
    "    wifi_power_feat = wifi_power_featext(sample_df, sample_wifi_df, shop_df)\n",
    "    feat_list.append(wifi_power_feat)\n",
    "\n",
    "    wifi_powerloc_dist_feat = wifi_powerloc_dist_featext(sample_df, sample_wifi_df, shop_df, wifi_power_feat)\n",
    "    feat_list.append(wifi_powerloc_dist_feat)\n",
    "\n",
    "    wifi_flag_feat = wifi_flag_featext(sample_df, sample_wifi_df, shop_df)\n",
    "    feat_list.append(wifi_flag_feat)\n",
    "\n",
    "    wifi_flagloc_dist_feat = wifi_flagloc_dist_featext(sample_df, sample_wifi_df, shop_df, wifi_flag_feat)\n",
    "    feat_list.append(wifi_flagloc_dist_feat)\n",
    "\n",
    "    feat = np.concatenate(feat_list, axis=1)\n",
    "    train_idx = sample_df[sample_df.row_id.isnull()].index.tolist()[-1] + 1\n",
    "\n",
    "    train_x = feat[:train_idx]\n",
    "    train_y = sample_df[sample_df.row_id.isnull()]['shop_id'].values\n",
    "    test_x = feat[train_idx:]\n",
    "    test_row_id = list(sample_df[-sample_df.row_id.isnull()]['row_id'].values)\n",
    "\n",
    "    return train_x, train_y, test_x, test_row_id"
   ]
  },
  {
   "cell_type": "code",
   "execution_count": 23,
   "metadata": {},
   "outputs": [
    {
     "name": "stdout",
     "output_type": "stream",
     "text": [
      "0.960879463216\n",
      "0.770260439401\n",
      "0.927787128316\n",
      "0.919704366075\n",
      "0.84002999162\n",
      "0.787987713221\n",
      "0.858692493947\n",
      "0.900395286396\n",
      "0.962273857498\n",
      "0.728931891482\n",
      "0.901712822155\n",
      "0.962219598583\n",
      "0.804472242662\n",
      "0.966216698807\n",
      "0.960797397614\n",
      "0.841556487155\n",
      "0.968502451905\n",
      "0.841202872531\n",
      "0.947966852958\n",
      "0.861816175311\n",
      "0.802233266637\n",
      "0.908436886854\n",
      "0.910732617825\n",
      "0.700689235759\n",
      "0.966236955187\n",
      "0.979636237055\n",
      "0.965564029383\n",
      "0.934032983508\n",
      "0.952572420726\n",
      "0.979309435952\n",
      "0.932010953049\n",
      "0.928238527725\n",
      "0.97557280818\n",
      "0.924155695478\n",
      "0.969344141489\n",
      "0.842630346144\n",
      "0.866880513232\n",
      "0.956352636128\n",
      "0.953641576186\n",
      "0.961255656109\n",
      "0.960143841774\n",
      "0.951461831806\n",
      "0.914800389484\n",
      "0.808098045299\n",
      "0.752278096524\n",
      "0.963106796117\n",
      "0.809703766915\n",
      "0.970686007857\n",
      "0.978177150193\n",
      "0.959144542773\n",
      "0.953746085281\n",
      "0.928549599658\n",
      "0.911251015435\n",
      "0.908277404922\n",
      "0.977483844911\n",
      "0.936798803291\n",
      "0.956712986104\n",
      "0.979861111111\n",
      "0.957969579696\n",
      "0.927162906378\n",
      "0.755777310924\n",
      "0.949586556415\n",
      "0.957881873727\n",
      "0.960690316395\n",
      "0.936826568266\n",
      "0.897448936351\n",
      "0.943467898108\n",
      "0.965931253047\n",
      "0.961754780652\n",
      "0.930463391513\n",
      "0.977396726422\n",
      "0.913421673035\n",
      "0.942122186495\n",
      "0.935975609756\n",
      "0.965511265165\n",
      "0.975809628871\n",
      "0.980452173913\n",
      "0.971871315479\n",
      "0.97037793667\n",
      "0.956431865161\n",
      "0.973961878829\n",
      "0.917824074074\n",
      "0.97879899152\n",
      "0.960874922982\n",
      "0.94346109767\n",
      "0.953580194216\n",
      "0.948287704838\n",
      "0.936283185841\n",
      "0.927396186994\n",
      "0.799178798059\n",
      "0.953353658537\n",
      "0.949749940462\n",
      "0.943505954029\n",
      "0.929549902153\n",
      "0.876238585584\n",
      "0.984816196058\n",
      "0.967914438503\n",
      "cost 74.33 min\n"
     ]
    }
   ],
   "source": [
    "import time\n",
    "t = time.time()\n",
    "mall_list = sample.mall_id.unique()\n",
    "submission_row_id = []\n",
    "submission_shop = []\n",
    "acc_list = []\n",
    "for mall_i in mall_list:\n",
    "    model = LogisticRegression()\n",
    "    \n",
    "    sample_i = sample[sample.mall_id==mall_i].copy().reset_index(drop=True)\n",
    "    sample_wifi_i = sample_wifi[sample_wifi.sample_id.isin(sample_i.sample_id.values)].copy().reset_index(drop=True)\n",
    "    shop_i = shop[shop.mall_id==mall_i].copy().reset_index(drop=True)\n",
    "    \n",
    "    train_x, train_y, test_x, test_row_id = construct_batch(sample_i, sample_wifi_i, shop_i)\n",
    "    model.fit(train_x, train_y)\n",
    "    \n",
    "    acc = model.score(train_x, train_y)\n",
    "    print(acc)\n",
    "    shop_pre = model.predict(test_x)\n",
    "    \n",
    "    submission_row_id.extend(test_row_id)\n",
    "    submission_shop.extend(shop_pre)\n",
    "    acc_list.append(acc)\n",
    "print('cost %.2f min'%((time.time()-t)/60))  "
   ]
  },
  {
   "cell_type": "code",
   "execution_count": 24,
   "metadata": {},
   "outputs": [
    {
     "name": "stdout",
     "output_type": "stream",
     "text": [
      "0.921879607585\n"
     ]
    }
   ],
   "source": [
    "print(np.array(acc_list).mean())"
   ]
  },
  {
   "cell_type": "code",
   "execution_count": 25,
   "metadata": {
    "collapsed": true
   },
   "outputs": [],
   "source": [
    "import os\n",
    "path = '/home/zhouzr/data/tianchi/user_location_predict'\n",
    "os.chdir(path)\n",
    "submission = pd.DataFrame({'row_id':submission_row_id, 'shop_id':submission_shop}, \n",
    "                          columns=['row_id','shop_id'])\n",
    "submission['row_id'] = submission['row_id'].astype('int').astype('str')\n",
    "submission.to_csv('./submission/result_2.csv', index=None, sep=',')"
   ]
  },
  {
   "cell_type": "code",
   "execution_count": 26,
   "metadata": {},
   "outputs": [
    {
     "name": "stdout",
     "output_type": "stream",
     "text": [
      "0.700689235759\n",
      "0.984816196058\n"
     ]
    }
   ],
   "source": [
    "print(np.array(acc_list).min())\n",
    "print(np.array(acc_list).max())"
   ]
  },
  {
   "cell_type": "code",
   "execution_count": 27,
   "metadata": {},
   "outputs": [
    {
     "data": {
      "text/plain": [
       "(483931, 2)"
      ]
     },
     "execution_count": 27,
     "metadata": {},
     "output_type": "execute_result"
    }
   ],
   "source": [
    "submission.shape"
   ]
  },
  {
   "cell_type": "code",
   "execution_count": null,
   "metadata": {
    "collapsed": true
   },
   "outputs": [],
   "source": []
  }
 ],
 "metadata": {
  "kernelspec": {
   "display_name": "Python 3",
   "language": "python",
   "name": "python3"
  },
  "language_info": {
   "codemirror_mode": {
    "name": "ipython",
    "version": 3
   },
   "file_extension": ".py",
   "mimetype": "text/x-python",
   "name": "python",
   "nbconvert_exporter": "python",
   "pygments_lexer": "ipython3",
   "version": "3.6.1"
  }
 },
 "nbformat": 4,
 "nbformat_minor": 2
}
