{
 "cells": [
  {
   "cell_type": "code",
   "execution_count": 4,
   "metadata": {
    "collapsed": true
   },
   "outputs": [],
   "source": [
    "import time\n",
    "import warnings\n",
    "warnings.simplefilter(\"ignore\")\n",
    "\n",
    "import numpy as np\n",
    "import pandas as pd\n",
    "\n",
    "from sklearn.naive_bayes import MultinomialNB\n",
    "from sklearn.linear_model import LogisticRegression\n",
    "from sklearn.svm import SVC\n",
    "from sklearn.model_selection import cross_val_score\n",
    "from xgboost.sklearn import XGBClassifier\n",
    "from tianchi.user_location_prediction.pysrc.load import *"
   ]
  },
  {
   "cell_type": "code",
   "execution_count": 5,
   "metadata": {
    "collapsed": true,
    "scrolled": true
   },
   "outputs": [],
   "source": [
    "sample = load_sample()\n",
    "sample_wifi = load_sample_wifi()\n",
    "shop = load_shop()"
   ]
  },
  {
   "cell_type": "code",
   "execution_count": 19,
   "metadata": {},
   "outputs": [
    {
     "data": {
      "text/html": [
       "<div>\n",
       "<style>\n",
       "    .dataframe thead tr:only-child th {\n",
       "        text-align: right;\n",
       "    }\n",
       "\n",
       "    .dataframe thead th {\n",
       "        text-align: left;\n",
       "    }\n",
       "\n",
       "    .dataframe tbody tr th {\n",
       "        vertical-align: top;\n",
       "    }\n",
       "</style>\n",
       "<table border=\"1\" class=\"dataframe\">\n",
       "  <thead>\n",
       "    <tr style=\"text-align: right;\">\n",
       "      <th></th>\n",
       "      <th>sample_id</th>\n",
       "      <th>mall_id</th>\n",
       "      <th>user_id</th>\n",
       "      <th>lgt</th>\n",
       "      <th>ltt</th>\n",
       "      <th>time</th>\n",
       "      <th>wifi_infos</th>\n",
       "      <th>shop_id</th>\n",
       "      <th>wifi_connect</th>\n",
       "    </tr>\n",
       "  </thead>\n",
       "  <tbody>\n",
       "    <tr>\n",
       "      <th>0</th>\n",
       "      <td>2</td>\n",
       "      <td>m_4079</td>\n",
       "      <td>u_1041</td>\n",
       "      <td>117.365255</td>\n",
       "      <td>40.638214</td>\n",
       "      <td>2017-08-02 13:10:00</td>\n",
       "      <td>b_8006367|-78|false;b_2485110|-52|false;b_3005...</td>\n",
       "      <td>s_181637</td>\n",
       "      <td>None</td>\n",
       "    </tr>\n",
       "    <tr>\n",
       "      <th>1</th>\n",
       "      <td>104</td>\n",
       "      <td>m_4079</td>\n",
       "      <td>u_21341</td>\n",
       "      <td>117.364162</td>\n",
       "      <td>40.638323</td>\n",
       "      <td>2017-08-03 17:20:00</td>\n",
       "      <td>b_1137072|-66|false;b_751753|-73|false;b_11352...</td>\n",
       "      <td>s_10413</td>\n",
       "      <td>None</td>\n",
       "    </tr>\n",
       "    <tr>\n",
       "      <th>2</th>\n",
       "      <td>228</td>\n",
       "      <td>m_4079</td>\n",
       "      <td>u_42456</td>\n",
       "      <td>117.362909</td>\n",
       "      <td>40.638480</td>\n",
       "      <td>2017-08-21 19:30:00</td>\n",
       "      <td>b_45611096|-85|false;b_28653535|-69|false;b_30...</td>\n",
       "      <td>s_8203</td>\n",
       "      <td>None</td>\n",
       "    </tr>\n",
       "  </tbody>\n",
       "</table>\n",
       "</div>"
      ],
      "text/plain": [
       "   sample_id mall_id  user_id         lgt        ltt                time  \\\n",
       "0          2  m_4079   u_1041  117.365255  40.638214 2017-08-02 13:10:00   \n",
       "1        104  m_4079  u_21341  117.364162  40.638323 2017-08-03 17:20:00   \n",
       "2        228  m_4079  u_42456  117.362909  40.638480 2017-08-21 19:30:00   \n",
       "\n",
       "                                          wifi_infos   shop_id wifi_connect  \n",
       "0  b_8006367|-78|false;b_2485110|-52|false;b_3005...  s_181637         None  \n",
       "1  b_1137072|-66|false;b_751753|-73|false;b_11352...   s_10413         None  \n",
       "2  b_45611096|-85|false;b_28653535|-69|false;b_30...    s_8203         None  "
      ]
     },
     "execution_count": 19,
     "metadata": {},
     "output_type": "execute_result"
    }
   ],
   "source": [
    "sample_i.head(3)"
   ]
  },
  {
   "cell_type": "code",
   "execution_count": 7,
   "metadata": {},
   "outputs": [
    {
     "data": {
      "text/html": [
       "<div>\n",
       "<style>\n",
       "    .dataframe thead tr:only-child th {\n",
       "        text-align: right;\n",
       "    }\n",
       "\n",
       "    .dataframe thead th {\n",
       "        text-align: left;\n",
       "    }\n",
       "\n",
       "    .dataframe tbody tr th {\n",
       "        vertical-align: top;\n",
       "    }\n",
       "</style>\n",
       "<table border=\"1\" class=\"dataframe\">\n",
       "  <thead>\n",
       "    <tr style=\"text-align: right;\">\n",
       "      <th></th>\n",
       "      <th>sample_id</th>\n",
       "      <th>wifi_id</th>\n",
       "      <th>signal_power</th>\n",
       "      <th>signal_flag</th>\n",
       "    </tr>\n",
       "  </thead>\n",
       "  <tbody>\n",
       "    <tr>\n",
       "      <th>0</th>\n",
       "      <td>0</td>\n",
       "      <td>b_6396480</td>\n",
       "      <td>0.410714</td>\n",
       "      <td>0.0</td>\n",
       "    </tr>\n",
       "    <tr>\n",
       "      <th>1</th>\n",
       "      <td>0</td>\n",
       "      <td>b_41124514</td>\n",
       "      <td>0.241071</td>\n",
       "      <td>0.0</td>\n",
       "    </tr>\n",
       "    <tr>\n",
       "      <th>2</th>\n",
       "      <td>0</td>\n",
       "      <td>b_28723327</td>\n",
       "      <td>0.205357</td>\n",
       "      <td>0.0</td>\n",
       "    </tr>\n",
       "  </tbody>\n",
       "</table>\n",
       "</div>"
      ],
      "text/plain": [
       "   sample_id     wifi_id  signal_power  signal_flag\n",
       "0          0   b_6396480      0.410714          0.0\n",
       "1          0  b_41124514      0.241071          0.0\n",
       "2          0  b_28723327      0.205357          0.0"
      ]
     },
     "execution_count": 7,
     "metadata": {},
     "output_type": "execute_result"
    }
   ],
   "source": [
    "sample_wifi.head(3)"
   ]
  },
  {
   "cell_type": "code",
   "execution_count": 9,
   "metadata": {},
   "outputs": [
    {
     "data": {
      "text/html": [
       "<div>\n",
       "<style>\n",
       "    .dataframe thead tr:only-child th {\n",
       "        text-align: right;\n",
       "    }\n",
       "\n",
       "    .dataframe thead th {\n",
       "        text-align: left;\n",
       "    }\n",
       "\n",
       "    .dataframe tbody tr th {\n",
       "        vertical-align: top;\n",
       "    }\n",
       "</style>\n",
       "<table border=\"1\" class=\"dataframe\">\n",
       "  <thead>\n",
       "    <tr style=\"text-align: right;\">\n",
       "      <th></th>\n",
       "      <th>shop_id</th>\n",
       "      <th>category_id</th>\n",
       "      <th>lgt</th>\n",
       "      <th>ltt</th>\n",
       "      <th>price</th>\n",
       "      <th>mall_id</th>\n",
       "    </tr>\n",
       "  </thead>\n",
       "  <tbody>\n",
       "    <tr>\n",
       "      <th>0</th>\n",
       "      <td>s_26</td>\n",
       "      <td>c_4</td>\n",
       "      <td>122.346736</td>\n",
       "      <td>31.833507</td>\n",
       "      <td>57</td>\n",
       "      <td>m_690</td>\n",
       "    </tr>\n",
       "    <tr>\n",
       "      <th>1</th>\n",
       "      <td>s_133</td>\n",
       "      <td>c_6</td>\n",
       "      <td>121.134362</td>\n",
       "      <td>31.197511</td>\n",
       "      <td>58</td>\n",
       "      <td>m_6587</td>\n",
       "    </tr>\n",
       "    <tr>\n",
       "      <th>2</th>\n",
       "      <td>s_251</td>\n",
       "      <td>c_38</td>\n",
       "      <td>121.000505</td>\n",
       "      <td>30.907667</td>\n",
       "      <td>34</td>\n",
       "      <td>m_5892</td>\n",
       "    </tr>\n",
       "  </tbody>\n",
       "</table>\n",
       "</div>"
      ],
      "text/plain": [
       "  shop_id category_id         lgt        ltt  price mall_id\n",
       "0    s_26         c_4  122.346736  31.833507     57   m_690\n",
       "1   s_133         c_6  121.134362  31.197511     58  m_6587\n",
       "2   s_251        c_38  121.000505  30.907667     34  m_5892"
      ]
     },
     "execution_count": 9,
     "metadata": {},
     "output_type": "execute_result"
    }
   ],
   "source": [
    "shop.head(3)"
   ]
  },
  {
   "cell_type": "code",
   "execution_count": 16,
   "metadata": {
    "collapsed": true
   },
   "outputs": [],
   "source": [
    "mall = 'm_4079'\n",
    "sample_i = sample[(sample.mall_id==mall)&(sample.row_id.isnull())].drop('row_id',axis=1).reset_index(drop=True)\n",
    "sample_wifi_i = sample_wifi[sample_wifi.sample_id.isin(sample_i.sample_id)].reset_index(drop=True)\n",
    "shop_i = shop[shop.mall_id==mall].reset_index(drop=True)"
   ]
  },
  {
   "cell_type": "code",
   "execution_count": 26,
   "metadata": {},
   "outputs": [
    {
     "data": {
      "text/plain": [
       "array([['u_1041', 117.365255, 40.63821400000001,\n",
       "        Timestamp('2017-08-02 13:10:00'), 's_181637', 'None'],\n",
       "       ['u_21341', 117.36416200000001, 40.638323,\n",
       "        Timestamp('2017-08-03 17:20:00'), 's_10413', 'None'],\n",
       "       ['u_42456', 117.362909, 40.63848, Timestamp('2017-08-21 19:30:00'),\n",
       "        's_8203', 'None'],\n",
       "       ..., \n",
       "       ['u_63886087', 117.362959, 40.638348,\n",
       "        Timestamp('2017-08-24 14:30:00'), 's_309881', 'None'],\n",
       "       ['u_63886087', 117.363827, 40.638346999999996,\n",
       "        Timestamp('2017-08-24 11:50:00'), 's_536574', 'None'],\n",
       "       ['u_63886087', 117.361203, 40.638244,\n",
       "        Timestamp('2017-08-24 10:50:00'), 's_21058', 'None']], dtype=object)"
      ]
     },
     "execution_count": 26,
     "metadata": {},
     "output_type": "execute_result"
    }
   ],
   "source": [
    "sample_i.drop(['sample_id','mall_id','wifi_infos'],axis=1).values"
   ]
  },
  {
   "cell_type": "code",
   "execution_count": 28,
   "metadata": {
    "collapsed": true
   },
   "outputs": [],
   "source": [
    "from sklearn.preprocessing import LabelEncoder"
   ]
  },
  {
   "cell_type": "code",
   "execution_count": 30,
   "metadata": {
    "collapsed": true
   },
   "outputs": [],
   "source": [
    "label_encoder = LabelEncoder()"
   ]
  },
  {
   "cell_type": "code",
   "execution_count": null,
   "metadata": {
    "collapsed": true
   },
   "outputs": [],
   "source": []
  }
 ],
 "metadata": {
  "kernelspec": {
   "display_name": "Python 3",
   "language": "python",
   "name": "python3"
  },
  "language_info": {
   "codemirror_mode": {
    "name": "ipython",
    "version": 3
   },
   "file_extension": ".py",
   "mimetype": "text/x-python",
   "name": "python",
   "nbconvert_exporter": "python",
   "pygments_lexer": "ipython3",
   "version": "3.6.1"
  }
 },
 "nbformat": 4,
 "nbformat_minor": 2
}
