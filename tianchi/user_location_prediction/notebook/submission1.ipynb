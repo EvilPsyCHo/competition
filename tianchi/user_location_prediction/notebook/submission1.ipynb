{
 "cells": [
  {
   "cell_type": "code",
   "execution_count": 1,
   "metadata": {
    "collapsed": true
   },
   "outputs": [],
   "source": [
    "import warnings\n",
    "import os\n",
    "import sys\n",
    "import numpy as np\n",
    "import pandas as pd\n",
    "import matplotlib.pyplot as plt\n",
    "from mpl_toolkits.mplot3d import axes3d\n",
    "import seaborn as sns\n",
    "%matplotlib inline\n",
    "warnings.filterwarnings('ignore')\n",
    "#plt.style.use('seaborn-talk')\n",
    "plt.style.use('seaborn-white')\n",
    "sns.set_style('white')\n",
    "path = '/home/zhouzr/data/tianchi/user_location_predict'\n",
    "os.chdir(path)"
   ]
  },
  {
   "cell_type": "code",
   "execution_count": 2,
   "metadata": {
    "collapsed": true
   },
   "outputs": [],
   "source": [
    "shop = pd.read_csv('./preprocessing_data/shop.csv')\n",
    "sample = pd.read_csv('./preprocessing_data/sample.csv')\n",
    "sample_wifi = pd.read_csv('./preprocessing_data/sample_wifi.csv')\n",
    "\n",
    "sample['time'] = pd.to_datetime(sample.time)"
   ]
  },
  {
   "cell_type": "code",
   "execution_count": 3,
   "metadata": {
    "collapsed": true
   },
   "outputs": [],
   "source": [
    "from tianchi.user_location_prediction.pysrc.construct_train_test_data import construct_batch\n",
    "from sklearn.linear_model import LogisticRegression\n",
    "import time"
   ]
  },
  {
   "cell_type": "code",
   "execution_count": 4,
   "metadata": {
    "collapsed": true
   },
   "outputs": [],
   "source": [
    "mall_list = shop.mall_id.unique()\n",
    "submission_row_id = []\n",
    "submission_shop = []"
   ]
  },
  {
   "cell_type": "code",
   "execution_count": 14,
   "metadata": {
    "collapsed": true
   },
   "outputs": [],
   "source": [
    "def train(sample, sample_wifi, mall):\n",
    "    train_x, train_y, test_x, test_row_id = construct_batch(sample, sample_wifi, mall)\n",
    "    test_row_id = list(test_row_id)\n",
    "    model = LogisticRegression()\n",
    "    model.fit(train_x, train_y)\n",
    "    preshop = model.predict(test_x)\n",
    "    print(model.score(train_x, train_y))\n",
    "    return test_row_id, preshop"
   ]
  },
  {
   "cell_type": "code",
   "execution_count": null,
   "metadata": {},
   "outputs": [],
   "source": [
    "t1 = time.time()\n",
    "for mall in mall_list:\n",
    "    test_row_id, preshop = train(sample, sample_wifi, mall)\n",
    "    submission_row_id.extend(test_row_id)\n",
    "    submission_shop.exteand(preshop)\n",
    "print('cost %.2f min'%((time.time()-t1)/60))"
   ]
  },
  {
   "cell_type": "code",
   "execution_count": null,
   "metadata": {
    "collapsed": true
   },
   "outputs": [],
   "source": []
  }
 ],
 "metadata": {
  "kernelspec": {
   "display_name": "Python 3",
   "language": "python",
   "name": "python3"
  },
  "language_info": {
   "codemirror_mode": {
    "name": "ipython",
    "version": 3
   },
   "file_extension": ".py",
   "mimetype": "text/x-python",
   "name": "python",
   "nbconvert_exporter": "python",
   "pygments_lexer": "ipython3",
   "version": "3.6.1"
  }
 },
 "nbformat": 4,
 "nbformat_minor": 2
}
