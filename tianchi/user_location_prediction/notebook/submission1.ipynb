{
 "cells": [
  {
   "cell_type": "code",
   "execution_count": 1,
   "metadata": {},
   "outputs": [],
   "source": [
    "import warnings\n",
    "import os\n",
    "import sys\n",
    "import time\n",
    "\n",
    "import numpy as np\n",
    "import pandas as pd\n",
    "from sklearn.linear_model import LogisticRegression\n",
    "from sklearn.naive_bayes import MultinomialNB\n",
    "\n",
    "from tianchi.user_location_prediction.pysrc.construct_train_test_data import construct_batch\n",
    "\n",
    "warnings.filterwarnings('ignore')\n",
    "path = '/home/zhouzr/data/tianchi/user_location_predict'\n",
    "os.chdir(path)"
   ]
  },
  {
   "cell_type": "code",
   "execution_count": 2,
   "metadata": {
    "collapsed": true
   },
   "outputs": [],
   "source": [
    "shop = pd.read_csv('./preprocessing_data/shop.csv')\n",
    "sample = pd.read_csv('./preprocessing_data/sample.csv')\n",
    "sample_wifi = pd.read_csv('./preprocessing_data/sample_wifi.csv')\n",
    "sample['time'] = pd.to_datetime(sample.time)"
   ]
  },
  {
   "cell_type": "code",
   "execution_count": 3,
   "metadata": {
    "collapsed": true
   },
   "outputs": [],
   "source": [
    "mall_list = shop.mall_id.unique()\n",
    "submission_row_id = []\n",
    "submission_shop = []"
   ]
  },
  {
   "cell_type": "code",
   "execution_count": 4,
   "metadata": {
    "collapsed": true
   },
   "outputs": [],
   "source": [
    "def train(sample, sample_wifi, mall, model):\n",
    "    train_x, train_y, test_x, test_row_id = construct_batch(sample, sample_wifi, mall)\n",
    "    print(train_x.shape)\n",
    "    test_row_id = list(test_row_id)\n",
    "    model.fit(train_x, train_y)\n",
    "    preshop = model.predict(test_x)\n",
    "    print(model.score(train_x, train_y))\n",
    "    return test_row_id, preshop"
   ]
  },
  {
   "cell_type": "code",
   "execution_count": 9,
   "metadata": {},
   "outputs": [
    {
     "name": "stdout",
     "output_type": "stream",
     "text": [
      "(16483, 12606)\n",
      "0.938300066735\n",
      "cost 0.21 min\n"
     ]
    }
   ],
   "source": [
    "# lr\n",
    "t1 = time.time()\n",
    "for mall in mall_list:\n",
    "    test_row_id, preshop = train(sample, sample_wifi, mall, LogisticRegression())\n",
    "    submission_row_id.extend(test_row_id)\n",
    "    submission_shop.extend(preshop)\n",
    "print('cost %.2f min'%((time.time()-t1)/60))"
   ]
  },
  {
   "cell_type": "code",
   "execution_count": null,
   "metadata": {
    "collapsed": true
   },
   "outputs": [],
   "source": []
  },
  {
   "cell_type": "code",
   "execution_count": null,
   "metadata": {
    "collapsed": true
   },
   "outputs": [],
   "source": []
  },
  {
   "cell_type": "code",
   "execution_count": 10,
   "metadata": {},
   "outputs": [
    {
     "name": "stdout",
     "output_type": "stream",
     "text": [
      "(16483, 12606)\n",
      "0.774980282716\n",
      "cost 0.13 min\n"
     ]
    }
   ],
   "source": [
    "# bayes\n",
    "t1 = time.time()\n",
    "for mall in [mall_list[-2]]:\n",
    "    test_row_id, preshop = train(sample, sample_wifi, mall, model=MultinomialNB())\n",
    "    submission_row_id.extend(test_row_id)\n",
    "    submission_shop.extend(preshop)\n",
    "print('cost %.2f min'%((time.time()-t1)/60))"
   ]
  },
  {
   "cell_type": "code",
   "execution_count": null,
   "metadata": {
    "collapsed": true
   },
   "outputs": [],
   "source": []
  }
 ],
 "metadata": {
  "kernelspec": {
   "display_name": "Python 3",
   "language": "python",
   "name": "python3"
  },
  "language_info": {
   "codemirror_mode": {
    "name": "ipython",
    "version": 3
   },
   "file_extension": ".py",
   "mimetype": "text/x-python",
   "name": "python",
   "nbconvert_exporter": "python",
   "pygments_lexer": "ipython3",
   "version": "3.6.1"
  }
 },
 "nbformat": 4,
 "nbformat_minor": 2
}
