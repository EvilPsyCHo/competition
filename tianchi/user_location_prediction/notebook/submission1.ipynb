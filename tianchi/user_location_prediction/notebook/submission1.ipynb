{
 "cells": [
  {
   "cell_type": "code",
   "execution_count": 1,
   "metadata": {},
   "outputs": [],
   "source": [
    "import warnings\n",
    "import os\n",
    "import sys\n",
    "import time\n",
    "\n",
    "import numpy as np\n",
    "import pandas as pd\n",
    "from sklearn.linear_model import LogisticRegression\n",
    "from sklearn.naive_bayes import MultinomialNB\n",
    "\n",
    "from tianchi.user_location_prediction.pysrc.construct_train_test_data import construct_batch\n",
    "\n",
    "warnings.filterwarnings('ignore')\n",
    "path = '/home/zhouzr/data/tianchi/user_location_predict'\n",
    "os.chdir(path)"
   ]
  },
  {
   "cell_type": "code",
   "execution_count": 2,
   "metadata": {
    "collapsed": true
   },
   "outputs": [],
   "source": [
    "shop = pd.read_csv('./preprocessing_data/shop.csv')\n",
    "sample = pd.read_csv('./preprocessing_data/sample.csv')\n",
    "sample_wifi = pd.read_csv('./preprocessing_data/sample_wifi.csv')\n",
    "sample['time'] = pd.to_datetime(sample.time)"
   ]
  },
  {
   "cell_type": "code",
   "execution_count": 3,
   "metadata": {
    "collapsed": true
   },
   "outputs": [],
   "source": [
    "mall_list = shop.mall_id.unique()\n",
    "submission_row_id = []\n",
    "submission_shop = []"
   ]
  },
  {
   "cell_type": "code",
   "execution_count": 5,
   "metadata": {
    "collapsed": true
   },
   "outputs": [],
   "source": [
    "def train(sample, sample_wifi, mall, model):\n",
    "    train_x, train_y, test_x, test_row_id = construct_batch(sample, sample_wifi, mall)\n",
    "    test_row_id = list(test_row_id)\n",
    "    model.fit(train_x, train_y)\n",
    "    preshop = model.predict(test_x)\n",
    "    print(model.score(train_x, train_y))\n",
    "    return test_row_id, preshop"
   ]
  },
  {
   "cell_type": "code",
   "execution_count": 6,
   "metadata": {},
   "outputs": [
    {
     "name": "stdout",
     "output_type": "stream",
     "text": [
      "0.890886038186\n",
      "0.918570169111\n",
      "0.922991133664\n",
      "0.953624155476\n",
      "0.828915450095\n",
      "0.897947098302\n",
      "0.832136445242\n",
      "0.944938783702\n",
      "0.948350305499\n",
      "0.942682926829\n",
      "0.959531935641\n",
      "0.911446690086\n",
      "0.936094145687\n",
      "0.9024265049\n",
      "0.943081686116\n",
      "0.921546367113\n",
      "0.954419410745\n",
      "0.787710578971\n",
      "0.942062153698\n",
      "0.762646103109\n",
      "0.955712669683\n",
      "0.957643830918\n",
      "0.953051643192\n",
      "0.720394612028\n",
      "0.970601851852\n",
      "0.942802262299\n",
      "0.922994723836\n",
      "0.972296217368\n",
      "0.968005445882\n",
      "0.957105200096\n",
      "0.943160010966\n",
      "0.85072746019\n",
      "0.955220104571\n",
      "0.949938385705\n",
      "0.969608239095\n",
      "0.973641989457\n",
      "0.927443921351\n",
      "0.922374429224\n",
      "0.925883095038\n",
      "0.947817631806\n",
      "0.920114907402\n",
      "0.76913027249\n",
      "0.952142345843\n",
      "0.907196969697\n",
      "0.960769520935\n",
      "0.741622872571\n",
      "0.955097087379\n",
      "0.974588808633\n",
      "0.965965185763\n",
      "0.943759912163\n",
      "0.94616519174\n",
      "0.956261510129\n",
      "0.964480471629\n",
      "0.916681470954\n",
      "0.96629426245\n",
      "0.941896319137\n",
      "0.961002785515\n",
      "0.797359169324\n",
      "0.91280290021\n",
      "0.82854993013\n",
      "0.948515445366\n",
      "0.966253651657\n",
      "0.901552719291\n",
      "0.961865849506\n",
      "0.887956606492\n",
      "0.942302031204\n",
      "0.797975488675\n",
      "0.883143909076\n",
      "0.975128369705\n",
      "0.973642593569\n",
      "0.848843986788\n",
      "0.90441415125\n",
      "0.923542435424\n",
      "0.847457627119\n",
      "0.975513043478\n",
      "0.917602507182\n",
      "0.92389380531\n",
      "0.89431000654\n",
      "0.781778968695\n",
      "0.954180753898\n",
      "0.943607194944\n",
      "0.829096902924\n",
      "0.919977511244\n",
      "0.88850528026\n",
      "0.969821133086\n",
      "0.856101213937\n",
      "0.738235294118\n",
      "0.959107284892\n",
      "0.949779497795\n",
      "0.917726252805\n",
      "0.934649239797\n",
      "0.93289188845\n",
      "0.944347273016\n",
      "0.796111178837\n",
      "0.96580764696\n",
      "0.938300066735\n",
      "0.69156699777\n",
      "cost 19.06 min\n"
     ]
    }
   ],
   "source": [
    "# lr\n",
    "t1 = time.time()\n",
    "for mall in mall_list:\n",
    "    test_row_id, preshop = train(sample, sample_wifi, mall, LogisticRegression())\n",
    "    submission_row_id.extend(test_row_id)\n",
    "    submission_shop.extend(preshop)\n",
    "print('cost %.2f min'%((time.time()-t1)/60))"
   ]
  },
  {
   "cell_type": "code",
   "execution_count": 7,
   "metadata": {
    "collapsed": true
   },
   "outputs": [],
   "source": [
    "submission = pd.DataFrame({'row_id':submission_row_id, 'shop_id':submission_shop}, columns=['row_id','shop_id'])\n",
    "submission.to_csv('./submission.csv', index=None)"
   ]
  },
  {
   "cell_type": "code",
   "execution_count": 9,
   "metadata": {},
   "outputs": [
    {
     "data": {
      "text/plain": [
       "(483931, 2)"
      ]
     },
     "execution_count": 9,
     "metadata": {},
     "output_type": "execute_result"
    }
   ],
   "source": [
    "submission.shape"
   ]
  },
  {
   "cell_type": "code",
   "execution_count": 10,
   "metadata": {},
   "outputs": [
    {
     "data": {
      "text/plain": [
       "(483931, 9)"
      ]
     },
     "execution_count": 10,
     "metadata": {},
     "output_type": "execute_result"
    }
   ],
   "source": [
    "sample[-sample.row_id.isnull()].shape"
   ]
  },
  {
   "cell_type": "code",
   "execution_count": 17,
   "metadata": {},
   "outputs": [
    {
     "data": {
      "text/plain": [
       "361986.0"
      ]
     },
     "execution_count": 17,
     "metadata": {},
     "output_type": "execute_result"
    }
   ],
   "source": [
    "sample.row_id[1500000]"
   ]
  },
  {
   "cell_type": "code",
   "execution_count": 18,
   "metadata": {},
   "outputs": [
    {
     "data": {
      "text/plain": [
       "119068.0"
      ]
     },
     "execution_count": 18,
     "metadata": {},
     "output_type": "execute_result"
    }
   ],
   "source": [
    "submission.row_id[2]"
   ]
  },
  {
   "cell_type": "code",
   "execution_count": null,
   "metadata": {
    "collapsed": true
   },
   "outputs": [],
   "source": []
  }
 ],
 "metadata": {
  "kernelspec": {
   "display_name": "Python 3",
   "language": "python",
   "name": "python3"
  },
  "language_info": {
   "codemirror_mode": {
    "name": "ipython",
    "version": 3
   },
   "file_extension": ".py",
   "mimetype": "text/x-python",
   "name": "python",
   "nbconvert_exporter": "python",
   "pygments_lexer": "ipython3",
   "version": "3.6.1"
  }
 },
 "nbformat": 4,
 "nbformat_minor": 2
}
