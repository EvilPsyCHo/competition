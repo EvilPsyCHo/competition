{
 "cells": [
  {
   "cell_type": "code",
   "execution_count": 11,
   "metadata": {},
   "outputs": [],
   "source": [
    "import warnings\n",
    "import os\n",
    "import sys\n",
    "\n",
    "import numpy as np\n",
    "import pandas as pd\n",
    "\n",
    "from sklearn.metrics import accuracy_score\n",
    "import xgboost as xgb\n",
    "from sklearn.linear_model import LogisticRegression\n",
    "\n",
    "\n",
    "from tianchi.user_location_prediction.pycode.load_data import *"
   ]
  },
  {
   "cell_type": "code",
   "execution_count": 2,
   "metadata": {
    "collapsed": true
   },
   "outputs": [],
   "source": [
    "def load_preprosessing_data():\n",
    "    shop = pd.read_csv('./pre_processing_data/shop.csv')\n",
    "    user = pd.read_csv('./pre_processing_data/user.csv')\n",
    "    wifi = pd.read_csv('./pre_processing_data/wifi.csv')\n",
    "\n",
    "    shop = shop[shop.mall_id=='m_1409'].copy().reset_index(drop=True)\n",
    "    user = user[user.mall_id=='m_1409'].copy().reset_index(drop=True)\n",
    "    wifi = wifi[wifi.mall_id=='m_1409'].copy().reset_index(drop=True)\n",
    "\n",
    "    return shop, user, wifi"
   ]
  },
  {
   "cell_type": "code",
   "execution_count": 14,
   "metadata": {},
   "outputs": [],
   "source": [
    "abtest = load_original_abtest()"
   ]
  },
  {
   "cell_type": "code",
   "execution_count": 16,
   "metadata": {
    "collapsed": true
   },
   "outputs": [],
   "source": [
    "user = load_original_user()"
   ]
  },
  {
   "cell_type": "code",
   "execution_count": 4,
   "metadata": {
    "collapsed": true
   },
   "outputs": [],
   "source": [
    "shop, user, wifi = load_preprosessing_data()"
   ]
  },
  {
   "cell_type": "code",
   "execution_count": 5,
   "metadata": {},
   "outputs": [
    {
     "data": {
      "text/html": [
       "<div>\n",
       "<style>\n",
       "    .dataframe thead tr:only-child th {\n",
       "        text-align: right;\n",
       "    }\n",
       "\n",
       "    .dataframe thead th {\n",
       "        text-align: left;\n",
       "    }\n",
       "\n",
       "    .dataframe tbody tr th {\n",
       "        vertical-align: top;\n",
       "    }\n",
       "</style>\n",
       "<table border=\"1\" class=\"dataframe\">\n",
       "  <thead>\n",
       "    <tr style=\"text-align: right;\">\n",
       "      <th></th>\n",
       "      <th>row_id</th>\n",
       "      <th>user_id</th>\n",
       "      <th>mall_id</th>\n",
       "      <th>time_stamp</th>\n",
       "      <th>lgt</th>\n",
       "      <th>ltt</th>\n",
       "      <th>wifi_infos</th>\n",
       "    </tr>\n",
       "  </thead>\n",
       "  <tbody>\n",
       "    <tr>\n",
       "      <th>0</th>\n",
       "      <td>118742</td>\n",
       "      <td>u_30097142</td>\n",
       "      <td>m_3916</td>\n",
       "      <td>2017-09-05 13:00</td>\n",
       "      <td>122.141011</td>\n",
       "      <td>39.818847</td>\n",
       "      <td>b_34366982|-82|false;b_37756289|-53|false;b_41...</td>\n",
       "    </tr>\n",
       "    <tr>\n",
       "      <th>1</th>\n",
       "      <td>118743</td>\n",
       "      <td>u_30097803</td>\n",
       "      <td>m_5085</td>\n",
       "      <td>2017-09-06 13:10</td>\n",
       "      <td>118.191907</td>\n",
       "      <td>32.855858</td>\n",
       "      <td>b_36722251|-81|false;b_10537579|-75|false;b_43...</td>\n",
       "    </tr>\n",
       "    <tr>\n",
       "      <th>2</th>\n",
       "      <td>118744</td>\n",
       "      <td>u_30097889</td>\n",
       "      <td>m_4033</td>\n",
       "      <td>2017-09-06 17:40</td>\n",
       "      <td>119.192110</td>\n",
       "      <td>32.424667</td>\n",
       "      <td>b_30026291|-74|false;b_30026290|-74|false;b_36...</td>\n",
       "    </tr>\n",
       "  </tbody>\n",
       "</table>\n",
       "</div>"
      ],
      "text/plain": [
       "   row_id     user_id mall_id        time_stamp         lgt        ltt  \\\n",
       "0  118742  u_30097142  m_3916  2017-09-05 13:00  122.141011  39.818847   \n",
       "1  118743  u_30097803  m_5085  2017-09-06 13:10  118.191907  32.855858   \n",
       "2  118744  u_30097889  m_4033  2017-09-06 17:40  119.192110  32.424667   \n",
       "\n",
       "                                          wifi_infos  \n",
       "0  b_34366982|-82|false;b_37756289|-53|false;b_41...  \n",
       "1  b_36722251|-81|false;b_10537579|-75|false;b_43...  \n",
       "2  b_30026291|-74|false;b_30026290|-74|false;b_36...  "
      ]
     },
     "execution_count": 5,
     "metadata": {},
     "output_type": "execute_result"
    }
   ],
   "source": [
    "abtest.head(3)"
   ]
  },
  {
   "cell_type": "code",
   "execution_count": 17,
   "metadata": {},
   "outputs": [
    {
     "data": {
      "text/html": [
       "<div>\n",
       "<style>\n",
       "    .dataframe thead tr:only-child th {\n",
       "        text-align: right;\n",
       "    }\n",
       "\n",
       "    .dataframe thead th {\n",
       "        text-align: left;\n",
       "    }\n",
       "\n",
       "    .dataframe tbody tr th {\n",
       "        vertical-align: top;\n",
       "    }\n",
       "</style>\n",
       "<table border=\"1\" class=\"dataframe\">\n",
       "  <thead>\n",
       "    <tr style=\"text-align: right;\">\n",
       "      <th></th>\n",
       "      <th>user_id</th>\n",
       "      <th>shop_id</th>\n",
       "      <th>time_stamp</th>\n",
       "      <th>longitude</th>\n",
       "      <th>latitude</th>\n",
       "      <th>wifi_infos</th>\n",
       "    </tr>\n",
       "  </thead>\n",
       "  <tbody>\n",
       "    <tr>\n",
       "      <th>0</th>\n",
       "      <td>u_376</td>\n",
       "      <td>s_2871718</td>\n",
       "      <td>2017-08-06 21:20</td>\n",
       "      <td>122.308291</td>\n",
       "      <td>32.088040</td>\n",
       "      <td>b_6396480|-67|false;b_41124514|-86|false;b_287...</td>\n",
       "    </tr>\n",
       "    <tr>\n",
       "      <th>1</th>\n",
       "      <td>u_376</td>\n",
       "      <td>s_2871718</td>\n",
       "      <td>2017-08-06 21:20</td>\n",
       "      <td>122.308162</td>\n",
       "      <td>32.087970</td>\n",
       "      <td>b_6396480|-67|false;b_56328155|-73|false;b_411...</td>\n",
       "    </tr>\n",
       "    <tr>\n",
       "      <th>2</th>\n",
       "      <td>u_1041</td>\n",
       "      <td>s_181637</td>\n",
       "      <td>2017-08-02 13:10</td>\n",
       "      <td>117.365255</td>\n",
       "      <td>40.638214</td>\n",
       "      <td>b_8006367|-78|false;b_2485110|-52|false;b_3005...</td>\n",
       "    </tr>\n",
       "  </tbody>\n",
       "</table>\n",
       "</div>"
      ],
      "text/plain": [
       "  user_id    shop_id        time_stamp   longitude   latitude  \\\n",
       "0   u_376  s_2871718  2017-08-06 21:20  122.308291  32.088040   \n",
       "1   u_376  s_2871718  2017-08-06 21:20  122.308162  32.087970   \n",
       "2  u_1041   s_181637  2017-08-02 13:10  117.365255  40.638214   \n",
       "\n",
       "                                          wifi_infos  \n",
       "0  b_6396480|-67|false;b_41124514|-86|false;b_287...  \n",
       "1  b_6396480|-67|false;b_56328155|-73|false;b_411...  \n",
       "2  b_8006367|-78|false;b_2485110|-52|false;b_3005...  "
      ]
     },
     "execution_count": 17,
     "metadata": {},
     "output_type": "execute_result"
    }
   ],
   "source": [
    "user.head(3)"
   ]
  },
  {
   "cell_type": "markdown",
   "metadata": {},
   "source": [
    "### 空间距离最近"
   ]
  },
  {
   "cell_type": "code",
   "execution_count": 6,
   "metadata": {
    "collapsed": true
   },
   "outputs": [],
   "source": [
    "def space_distance_calc(lgt, ltt):\n",
    "    idx = np.argmin((shop.lgt-lgt)**2 + (shop.ltt-ltt)**2)\n",
    "    return shop.iloc[idx, 0]"
   ]
  },
  {
   "cell_type": "code",
   "execution_count": 7,
   "metadata": {
    "collapsed": true
   },
   "outputs": [],
   "source": [
    "pre = [space_distance_calc(i[0], i[1]) for i in zip(user.lgt, user.ltt)]"
   ]
  },
  {
   "cell_type": "code",
   "execution_count": 8,
   "metadata": {},
   "outputs": [
    {
     "data": {
      "text/plain": [
       "0.33680805176132278"
      ]
     },
     "execution_count": 8,
     "metadata": {},
     "output_type": "execute_result"
    }
   ],
   "source": [
    "accuracy_score(user.shop_id, pre)"
   ]
  },
  {
   "cell_type": "markdown",
   "metadata": {},
   "source": [
    "## 空间+wifi建模"
   ]
  },
  {
   "cell_type": "code",
   "execution_count": 9,
   "metadata": {},
   "outputs": [
    {
     "data": {
      "text/html": [
       "<div>\n",
       "<style>\n",
       "    .dataframe thead tr:only-child th {\n",
       "        text-align: right;\n",
       "    }\n",
       "\n",
       "    .dataframe thead th {\n",
       "        text-align: left;\n",
       "    }\n",
       "\n",
       "    .dataframe tbody tr th {\n",
       "        vertical-align: top;\n",
       "    }\n",
       "</style>\n",
       "<table border=\"1\" class=\"dataframe\">\n",
       "  <thead>\n",
       "    <tr style=\"text-align: right;\">\n",
       "      <th></th>\n",
       "      <th>user_id</th>\n",
       "      <th>wifi_id</th>\n",
       "      <th>shop_id</th>\n",
       "      <th>mall_id</th>\n",
       "      <th>lgt</th>\n",
       "      <th>ltt</th>\n",
       "      <th>time</th>\n",
       "      <th>signal_power</th>\n",
       "      <th>signal_flag</th>\n",
       "    </tr>\n",
       "  </thead>\n",
       "  <tbody>\n",
       "    <tr>\n",
       "      <th>0</th>\n",
       "      <td>u_376</td>\n",
       "      <td>b_6396480</td>\n",
       "      <td>s_2871718</td>\n",
       "      <td>m_1409</td>\n",
       "      <td>122.308291</td>\n",
       "      <td>32.08804</td>\n",
       "      <td>2017-08-06 21:20</td>\n",
       "      <td>-67.0</td>\n",
       "      <td>0</td>\n",
       "    </tr>\n",
       "    <tr>\n",
       "      <th>1</th>\n",
       "      <td>u_376</td>\n",
       "      <td>b_41124514</td>\n",
       "      <td>s_2871718</td>\n",
       "      <td>m_1409</td>\n",
       "      <td>122.308291</td>\n",
       "      <td>32.08804</td>\n",
       "      <td>2017-08-06 21:20</td>\n",
       "      <td>-86.0</td>\n",
       "      <td>0</td>\n",
       "    </tr>\n",
       "    <tr>\n",
       "      <th>2</th>\n",
       "      <td>u_376</td>\n",
       "      <td>b_28723327</td>\n",
       "      <td>s_2871718</td>\n",
       "      <td>m_1409</td>\n",
       "      <td>122.308291</td>\n",
       "      <td>32.08804</td>\n",
       "      <td>2017-08-06 21:20</td>\n",
       "      <td>-90.0</td>\n",
       "      <td>0</td>\n",
       "    </tr>\n",
       "    <tr>\n",
       "      <th>3</th>\n",
       "      <td>u_376</td>\n",
       "      <td>b_6396479</td>\n",
       "      <td>s_2871718</td>\n",
       "      <td>m_1409</td>\n",
       "      <td>122.308291</td>\n",
       "      <td>32.08804</td>\n",
       "      <td>2017-08-06 21:20</td>\n",
       "      <td>-55.0</td>\n",
       "      <td>0</td>\n",
       "    </tr>\n",
       "    <tr>\n",
       "      <th>4</th>\n",
       "      <td>u_376</td>\n",
       "      <td>b_8764723</td>\n",
       "      <td>s_2871718</td>\n",
       "      <td>m_1409</td>\n",
       "      <td>122.308291</td>\n",
       "      <td>32.08804</td>\n",
       "      <td>2017-08-06 21:20</td>\n",
       "      <td>-90.0</td>\n",
       "      <td>0</td>\n",
       "    </tr>\n",
       "  </tbody>\n",
       "</table>\n",
       "</div>"
      ],
      "text/plain": [
       "  user_id     wifi_id    shop_id mall_id         lgt       ltt  \\\n",
       "0   u_376   b_6396480  s_2871718  m_1409  122.308291  32.08804   \n",
       "1   u_376  b_41124514  s_2871718  m_1409  122.308291  32.08804   \n",
       "2   u_376  b_28723327  s_2871718  m_1409  122.308291  32.08804   \n",
       "3   u_376   b_6396479  s_2871718  m_1409  122.308291  32.08804   \n",
       "4   u_376   b_8764723  s_2871718  m_1409  122.308291  32.08804   \n",
       "\n",
       "               time  signal_power  signal_flag  \n",
       "0  2017-08-06 21:20         -67.0            0  \n",
       "1  2017-08-06 21:20         -86.0            0  \n",
       "2  2017-08-06 21:20         -90.0            0  \n",
       "3  2017-08-06 21:20         -55.0            0  \n",
       "4  2017-08-06 21:20         -90.0            0  "
      ]
     },
     "execution_count": 9,
     "metadata": {},
     "output_type": "execute_result"
    }
   ],
   "source": [
    "wifi.head()"
   ]
  },
  {
   "cell_type": "code",
   "execution_count": 10,
   "metadata": {
    "collapsed": true
   },
   "outputs": [],
   "source": [
    "def construct_train(wifi_df):\n",
    "    signal_min = wifi_df.signal_power.min()\n",
    "    wifi_power = pd.pivot_table(wifi[['user_id','wifi_id','shop_id','signal_power','time','lgt','ltt']], \n",
    "                                index=['user_id','shop_id','time','lgt','ltt'], \n",
    "                                columns='wifi_id', values='signal_power').reset_index().fillna(signal_min - 1)\n",
    "    wifi_flag = pd.pivot_table(wifi[['user_id','wifi_id','shop_id','signal_flag','time','lgt','ltt']], \n",
    "                                index=['user_id','shop_id','time','lgt','ltt'], \n",
    "                                columns='wifi_id', values='signal_flag').reset_index().fillna(0)\n",
    "    wifi_t = pd.concat([wifi_power, wifi_flag.drop(['user_id','shop_id','time','lgt','ltt'], axis=1)], axis=1)\n",
    "    return wifi_t"
   ]
  },
  {
   "cell_type": "code",
   "execution_count": 11,
   "metadata": {
    "collapsed": true
   },
   "outputs": [],
   "source": [
    "wifi_t = construct_train(wifi)"
   ]
  },
  {
   "cell_type": "code",
   "execution_count": 12,
   "metadata": {},
   "outputs": [
    {
     "data": {
      "text/html": [
       "<div>\n",
       "<style>\n",
       "    .dataframe thead tr:only-child th {\n",
       "        text-align: right;\n",
       "    }\n",
       "\n",
       "    .dataframe thead th {\n",
       "        text-align: left;\n",
       "    }\n",
       "\n",
       "    .dataframe tbody tr th {\n",
       "        vertical-align: top;\n",
       "    }\n",
       "</style>\n",
       "<table border=\"1\" class=\"dataframe\">\n",
       "  <thead>\n",
       "    <tr style=\"text-align: right;\">\n",
       "      <th>wifi_id</th>\n",
       "      <th>user_id</th>\n",
       "      <th>shop_id</th>\n",
       "      <th>time</th>\n",
       "      <th>lgt</th>\n",
       "      <th>ltt</th>\n",
       "      <th>b_10004588</th>\n",
       "      <th>b_10063227</th>\n",
       "      <th>b_10066720</th>\n",
       "      <th>b_10071970</th>\n",
       "      <th>b_10083821</th>\n",
       "      <th>...</th>\n",
       "      <th>b_9726478</th>\n",
       "      <th>b_9739374</th>\n",
       "      <th>b_9761636</th>\n",
       "      <th>b_9809138</th>\n",
       "      <th>b_9837892</th>\n",
       "      <th>b_9893403</th>\n",
       "      <th>b_9926786</th>\n",
       "      <th>b_9935522</th>\n",
       "      <th>b_9964950</th>\n",
       "      <th>b_9983657</th>\n",
       "    </tr>\n",
       "  </thead>\n",
       "  <tbody>\n",
       "    <tr>\n",
       "      <th>0</th>\n",
       "      <td>u_10001808</td>\n",
       "      <td>s_9554</td>\n",
       "      <td>2017-08-13 14:00</td>\n",
       "      <td>122.306404</td>\n",
       "      <td>32.086921</td>\n",
       "      <td>-108.0</td>\n",
       "      <td>-108.0</td>\n",
       "      <td>-108.0</td>\n",
       "      <td>-108.0</td>\n",
       "      <td>-108.0</td>\n",
       "      <td>...</td>\n",
       "      <td>0.0</td>\n",
       "      <td>0.0</td>\n",
       "      <td>0.0</td>\n",
       "      <td>0.0</td>\n",
       "      <td>0.0</td>\n",
       "      <td>0.0</td>\n",
       "      <td>0.0</td>\n",
       "      <td>0.0</td>\n",
       "      <td>0.0</td>\n",
       "      <td>0.0</td>\n",
       "    </tr>\n",
       "    <tr>\n",
       "      <th>1</th>\n",
       "      <td>u_10022915</td>\n",
       "      <td>s_1426013</td>\n",
       "      <td>2017-08-02 21:10</td>\n",
       "      <td>122.308300</td>\n",
       "      <td>32.088127</td>\n",
       "      <td>-108.0</td>\n",
       "      <td>-108.0</td>\n",
       "      <td>-108.0</td>\n",
       "      <td>-108.0</td>\n",
       "      <td>-108.0</td>\n",
       "      <td>...</td>\n",
       "      <td>0.0</td>\n",
       "      <td>0.0</td>\n",
       "      <td>0.0</td>\n",
       "      <td>0.0</td>\n",
       "      <td>0.0</td>\n",
       "      <td>0.0</td>\n",
       "      <td>0.0</td>\n",
       "      <td>0.0</td>\n",
       "      <td>0.0</td>\n",
       "      <td>0.0</td>\n",
       "    </tr>\n",
       "    <tr>\n",
       "      <th>2</th>\n",
       "      <td>u_10028547</td>\n",
       "      <td>s_1465966</td>\n",
       "      <td>2017-08-27 14:20</td>\n",
       "      <td>122.308005</td>\n",
       "      <td>32.087519</td>\n",
       "      <td>-108.0</td>\n",
       "      <td>-108.0</td>\n",
       "      <td>-108.0</td>\n",
       "      <td>-108.0</td>\n",
       "      <td>-108.0</td>\n",
       "      <td>...</td>\n",
       "      <td>0.0</td>\n",
       "      <td>0.0</td>\n",
       "      <td>0.0</td>\n",
       "      <td>0.0</td>\n",
       "      <td>0.0</td>\n",
       "      <td>0.0</td>\n",
       "      <td>0.0</td>\n",
       "      <td>0.0</td>\n",
       "      <td>0.0</td>\n",
       "      <td>0.0</td>\n",
       "    </tr>\n",
       "    <tr>\n",
       "      <th>3</th>\n",
       "      <td>u_10032014</td>\n",
       "      <td>s_43525</td>\n",
       "      <td>2017-08-26 21:00</td>\n",
       "      <td>122.307549</td>\n",
       "      <td>32.087632</td>\n",
       "      <td>-108.0</td>\n",
       "      <td>-108.0</td>\n",
       "      <td>-108.0</td>\n",
       "      <td>-108.0</td>\n",
       "      <td>-108.0</td>\n",
       "      <td>...</td>\n",
       "      <td>0.0</td>\n",
       "      <td>0.0</td>\n",
       "      <td>0.0</td>\n",
       "      <td>0.0</td>\n",
       "      <td>0.0</td>\n",
       "      <td>0.0</td>\n",
       "      <td>0.0</td>\n",
       "      <td>0.0</td>\n",
       "      <td>0.0</td>\n",
       "      <td>0.0</td>\n",
       "    </tr>\n",
       "    <tr>\n",
       "      <th>4</th>\n",
       "      <td>u_10034935</td>\n",
       "      <td>s_580441</td>\n",
       "      <td>2017-08-22 20:50</td>\n",
       "      <td>122.308200</td>\n",
       "      <td>32.088059</td>\n",
       "      <td>-108.0</td>\n",
       "      <td>-108.0</td>\n",
       "      <td>-108.0</td>\n",
       "      <td>-108.0</td>\n",
       "      <td>-108.0</td>\n",
       "      <td>...</td>\n",
       "      <td>0.0</td>\n",
       "      <td>0.0</td>\n",
       "      <td>0.0</td>\n",
       "      <td>0.0</td>\n",
       "      <td>0.0</td>\n",
       "      <td>0.0</td>\n",
       "      <td>0.0</td>\n",
       "      <td>0.0</td>\n",
       "      <td>0.0</td>\n",
       "      <td>0.0</td>\n",
       "    </tr>\n",
       "  </tbody>\n",
       "</table>\n",
       "<p>5 rows × 11421 columns</p>\n",
       "</div>"
      ],
      "text/plain": [
       "wifi_id     user_id    shop_id              time         lgt        ltt  \\\n",
       "0        u_10001808     s_9554  2017-08-13 14:00  122.306404  32.086921   \n",
       "1        u_10022915  s_1426013  2017-08-02 21:10  122.308300  32.088127   \n",
       "2        u_10028547  s_1465966  2017-08-27 14:20  122.308005  32.087519   \n",
       "3        u_10032014    s_43525  2017-08-26 21:00  122.307549  32.087632   \n",
       "4        u_10034935   s_580441  2017-08-22 20:50  122.308200  32.088059   \n",
       "\n",
       "wifi_id  b_10004588  b_10063227  b_10066720  b_10071970  b_10083821  \\\n",
       "0            -108.0      -108.0      -108.0      -108.0      -108.0   \n",
       "1            -108.0      -108.0      -108.0      -108.0      -108.0   \n",
       "2            -108.0      -108.0      -108.0      -108.0      -108.0   \n",
       "3            -108.0      -108.0      -108.0      -108.0      -108.0   \n",
       "4            -108.0      -108.0      -108.0      -108.0      -108.0   \n",
       "\n",
       "wifi_id    ...      b_9726478  b_9739374  b_9761636  b_9809138  b_9837892  \\\n",
       "0          ...            0.0        0.0        0.0        0.0        0.0   \n",
       "1          ...            0.0        0.0        0.0        0.0        0.0   \n",
       "2          ...            0.0        0.0        0.0        0.0        0.0   \n",
       "3          ...            0.0        0.0        0.0        0.0        0.0   \n",
       "4          ...            0.0        0.0        0.0        0.0        0.0   \n",
       "\n",
       "wifi_id  b_9893403  b_9926786  b_9935522  b_9964950  b_9983657  \n",
       "0              0.0        0.0        0.0        0.0        0.0  \n",
       "1              0.0        0.0        0.0        0.0        0.0  \n",
       "2              0.0        0.0        0.0        0.0        0.0  \n",
       "3              0.0        0.0        0.0        0.0        0.0  \n",
       "4              0.0        0.0        0.0        0.0        0.0  \n",
       "\n",
       "[5 rows x 11421 columns]"
      ]
     },
     "execution_count": 12,
     "metadata": {},
     "output_type": "execute_result"
    }
   ],
   "source": [
    "wifi_t.head()"
   ]
  },
  {
   "cell_type": "code",
   "execution_count": 14,
   "metadata": {
    "collapsed": true
   },
   "outputs": [],
   "source": [
    "x = wifi_t.iloc[:,3:].values\n",
    "y = wifi_t.iloc[:,1].values"
   ]
  },
  {
   "cell_type": "code",
   "execution_count": 21,
   "metadata": {
    "collapsed": true
   },
   "outputs": [],
   "source": [
    "from sklearn.preprocessing import MinMaxScaler\n",
    "from sklearn.cross_validation import KFold\n",
    "from sklearn.linear_model import LogisticRegressionCV"
   ]
  },
  {
   "cell_type": "code",
   "execution_count": 18,
   "metadata": {
    "collapsed": true
   },
   "outputs": [],
   "source": [
    "sclaer = MinMaxScaler()\n",
    "x = sclaer.fit_transform(x)"
   ]
  },
  {
   "cell_type": "code",
   "execution_count": 24,
   "metadata": {
    "collapsed": true
   },
   "outputs": [],
   "source": [
    "lrcv = LogisticRegression()"
   ]
  },
  {
   "cell_type": "code",
   "execution_count": 25,
   "metadata": {},
   "outputs": [
    {
     "data": {
      "text/plain": [
       "LogisticRegression(C=1.0, class_weight=None, dual=False, fit_intercept=True,\n",
       "          intercept_scaling=1, max_iter=100, multi_class='ovr', n_jobs=1,\n",
       "          penalty='l2', random_state=None, solver='liblinear', tol=0.0001,\n",
       "          verbose=0, warm_start=False)"
      ]
     },
     "execution_count": 25,
     "metadata": {},
     "output_type": "execute_result"
    }
   ],
   "source": [
    "lrcv.fit(x[:1000], y)"
   ]
  },
  {
   "cell_type": "code",
   "execution_count": 28,
   "metadata": {},
   "outputs": [
    {
     "data": {
      "text/plain": [
       "0.968325519894218"
      ]
     },
     "execution_count": 28,
     "metadata": {},
     "output_type": "execute_result"
    }
   ],
   "source": [
    "lrcv.score(x,y)"
   ]
  },
  {
   "cell_type": "code",
   "execution_count": 31,
   "metadata": {},
   "outputs": [
    {
     "data": {
      "text/plain": [
       "(16638, 11418)"
      ]
     },
     "execution_count": 31,
     "metadata": {},
     "output_type": "execute_result"
    }
   ],
   "source": [
    "x.shape"
   ]
  },
  {
   "cell_type": "code",
   "execution_count": 35,
   "metadata": {
    "collapsed": true
   },
   "outputs": [],
   "source": [
    "from sklearn import cross_validation"
   ]
  },
  {
   "cell_type": "code",
   "execution_count": 36,
   "metadata": {
    "collapsed": true
   },
   "outputs": [],
   "source": [
    "model = LogisticRegression()"
   ]
  },
  {
   "cell_type": "code",
   "execution_count": 38,
   "metadata": {
    "collapsed": true
   },
   "outputs": [],
   "source": [
    "scores = cross_validation.cross_val_score(model, x, y, cv=5, scoring='accuracy', n_jobs=-1)"
   ]
  },
  {
   "cell_type": "code",
   "execution_count": 39,
   "metadata": {},
   "outputs": [
    {
     "data": {
      "text/plain": [
       "array([ 0.93933988,  0.94022714,  0.92844257,  0.93297101,  0.92038894])"
      ]
     },
     "execution_count": 39,
     "metadata": {},
     "output_type": "execute_result"
    }
   ],
   "source": [
    "scores"
   ]
  },
  {
   "cell_type": "code",
   "execution_count": null,
   "metadata": {
    "collapsed": true
   },
   "outputs": [],
   "source": []
  },
  {
   "cell_type": "code",
   "execution_count": null,
   "metadata": {
    "collapsed": true
   },
   "outputs": [],
   "source": []
  }
 ],
 "metadata": {
  "kernelspec": {
   "display_name": "Python 3",
   "language": "python",
   "name": "python3"
  },
  "language_info": {
   "codemirror_mode": {
    "name": "ipython",
    "version": 3
   },
   "file_extension": ".py",
   "mimetype": "text/x-python",
   "name": "python",
   "nbconvert_exporter": "python",
   "pygments_lexer": "ipython3",
   "version": "3.6.1"
  }
 },
 "nbformat": 4,
 "nbformat_minor": 2
}
