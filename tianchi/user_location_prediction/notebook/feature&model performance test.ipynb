{
 "cells": [
  {
   "cell_type": "code",
   "execution_count": 1,
   "metadata": {
    "collapsed": true
   },
   "outputs": [],
   "source": [
    "import time\n",
    "import numpy as np\n",
    "import pandas as pd\n",
    "\n",
    "from sklearn.naive_bayes import MultinomialNB\n",
    "from sklearn.linear_model import LogisticRegression\n",
    "from sklearn.svm import SVC\n",
    "from sklearn.model_selection import cross_val_score\n",
    "from xgboost.sklearn import XGBClassifier\n",
    "\n",
    "from tianchi.user_location_prediction.pysrc.feature import *\n",
    "from tianchi.user_location_prediction.pysrc.load import *"
   ]
  },
  {
   "cell_type": "code",
   "execution_count": 8,
   "metadata": {
    "collapsed": true
   },
   "outputs": [],
   "source": [
    "sample_i = load_sample_test()\n",
    "sample_wifi_i = load_sample_wifi_test()\n",
    "shop_i = load_shop_test()"
   ]
  },
  {
   "cell_type": "code",
   "execution_count": null,
   "metadata": {
    "collapsed": true
   },
   "outputs": [],
   "source": [
    "def construct_batch(sample_df, sample_wifi_df, shop_df):\n",
    "    feat_list = []\n",
    "\n",
    "    weekday_feat = weekday_featext(sample_df, sample_wifi_df, shop_df)\n",
    "    feat_list.append(weekday_feat)\n",
    "\n",
    "    hour_feat = hour_featext(sample_df, sample_wifi_df, shop_df)\n",
    "    feat_list.append(hour_feat)\n",
    "\n",
    "    spaceloc_feat = spaceloc_featext(sample_df, sample_wifi_df, shop_df)\n",
    "    feat_list.append(spaceloc_feat)\n",
    "\n",
    "    spaceloc_dist_feat = spaceloc_dist_featext(sample_df, sample_wifi_df, shop_df)\n",
    "    feat_list.append(spaceloc_dist_feat)\n",
    "\n",
    "    wifi_power_feat = wifi_power_featext(sample_df, sample_wifi_df, shop_df)\n",
    "    feat_list.append(wifi_power_feat)\n",
    "\n",
    "    wifi_powerloc_dist_feat = wifi_powerloc_dist_featext(sample_df, sample_wifi_df, shop_df, wifi_power_feat)\n",
    "    feat_list.append(wifi_powerloc_dist_feat)\n",
    "\n",
    "    wifi_flag_feat = wifi_flag_featext(sample_df, sample_wifi_df, shop_df)\n",
    "    feat_list.append(wifi_flag_feat)\n",
    "\n",
    "    wifi_flagloc_dist_feat = wifi_flagloc_dist_featext(sample_df, sample_wifi_df, shop_df, wifi_flag_feat)\n",
    "    feat_list.append(wifi_flagloc_dist_feat)\n",
    "\n",
    "    feat = np.concatenate(feat_list, axis=1)\n",
    "    train_idx = sample_df[sample_df.row_id.isnull()].index.tolist()[-1] + 1\n",
    "\n",
    "    train_x = feat[:train_idx]\n",
    "    train_y = sample_df[sample_df.row_id.isnull()]['shop_id'].values\n",
    "    test_x = feat[train_idx:]\n",
    "    test_row_id = list(sample_df[-sample_df.row_id.isnull()]['row_id'].values)\n",
    "\n",
    "    return train_x, train_y, test_x, test_row_id"
   ]
  }
 ],
 "metadata": {
  "kernelspec": {
   "display_name": "Python 3",
   "language": "python",
   "name": "python3"
  },
  "language_info": {
   "codemirror_mode": {
    "name": "ipython",
    "version": 3
   },
   "file_extension": ".py",
   "mimetype": "text/x-python",
   "name": "python",
   "nbconvert_exporter": "python",
   "pygments_lexer": "ipython3",
   "version": "3.6.1"
  }
 },
 "nbformat": 4,
 "nbformat_minor": 2
}
