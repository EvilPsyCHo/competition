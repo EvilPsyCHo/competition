{
 "cells": [
  {
   "cell_type": "code",
   "execution_count": 6,
   "metadata": {},
   "outputs": [],
   "source": [
    "import os\n",
    "import sys\n",
    "import gc\n",
    "import random\n",
    "import datetime\n",
    "import time\n",
    "\n",
    "import random\n",
    "import pandas as pd\n",
    "import numpy as np\n",
    "import xgboost as xgb\n",
    "import lightgbm as lgb\n",
    "from sklearn.preprocessing import LabelEncoder\n",
    "from sklearn.preprocessing import MinMaxScaler\n",
    "from sklearn.preprocessing import OneHotEncoder\n",
    "from sklearn.ensemble import RandomForestClassifier\n",
    "from sklearn.linear_model import LogisticRegression, LogisticRegressionCV\n",
    "from sklearn.metrics import accuracy_score\n",
    "import seaborn as sns\n",
    "import matplotlib.pyplot as plt\n",
    "%matplotlib inline\n",
    "\n",
    "seed = 3\n",
    "random.seed(seed)\n",
    "np.random.seed(seed)"
   ]
  },
  {
   "cell_type": "markdown",
   "metadata": {},
   "source": [
    "### Outlier filter\n",
    "\n",
    "### Extract features\n",
    "\n",
    "1. Wifi\n",
    "  * Wifi Signal Power Matrix ### param: drop_num, drop_rate\n",
    "  * Wifi Signal Connect Wifi-Id ### fill NA with 'Null'\n",
    "2. Time\n",
    "  * Weekday & Hourmap ### Param: one_hot\n",
    "3. Location\n",
    "  * longditude\n",
    "  * latitude\n",
    "4. Time & Category\n",
    "  * Weekday-Category shopping_num rate\n",
    "  * hourmap-Category shopping_num rate\n",
    "5. Time & Price\n",
    "  * Weekday-Hourmap shopping 0% price\n",
    "  * Weekday-Hourmap shopping 25% price\n",
    "  * Weekday-Hourmap shopping 50% price\n",
    "  * Weekday-Hourmap shopping 75% price\n",
    "  * Weekday-Hourmap shopping 100% price\n",
    "  * Weekday-Hourmap shopping price std\n",
    "6. User & Shop\n",
    "  * User last shopping shop_id ### before sample time\n",
    "  * User most likely shopping shop_id ### before sample time\n",
    "7. User & Category\n",
    "  * User last shopping category ### before sample time\n",
    "  * User most shopping category ### before sample time\n",
    "8. User & Price\n",
    "  * User shopping mean price ### before sample time\n",
    "  * User shopping price std ### before sample time"
   ]
  },
  {
   "cell_type": "code",
   "execution_count": 4,
   "metadata": {},
   "outputs": [
    {
     "ename": "FileNotFoundError",
     "evalue": "[Errno 2] No such file or directory: '/home/zhouzr/data/user-location-forcast/'",
     "output_type": "error",
     "traceback": [
      "\u001b[0;31m---------------------------------------------------------------------------\u001b[0m",
      "\u001b[0;31mFileNotFoundError\u001b[0m                         Traceback (most recent call last)",
      "\u001b[0;32m<ipython-input-4-18202d918856>\u001b[0m in \u001b[0;36m<module>\u001b[0;34m()\u001b[0m\n\u001b[1;32m      1\u001b[0m \u001b[0mpath\u001b[0m \u001b[0;34m=\u001b[0m \u001b[0;34m'/home/zhouzr/data/user-location-forcast/'\u001b[0m\u001b[0;34m\u001b[0m\u001b[0m\n\u001b[0;32m----> 2\u001b[0;31m \u001b[0mos\u001b[0m\u001b[0;34m.\u001b[0m\u001b[0mchdir\u001b[0m\u001b[0;34m(\u001b[0m\u001b[0mpath\u001b[0m\u001b[0;34m)\u001b[0m\u001b[0;34m\u001b[0m\u001b[0m\n\u001b[0m\u001b[1;32m      3\u001b[0m \u001b[0mtrain\u001b[0m \u001b[0;34m=\u001b[0m \u001b[0mpd\u001b[0m\u001b[0;34m.\u001b[0m\u001b[0mread_csv\u001b[0m\u001b[0;34m(\u001b[0m\u001b[0;34m'./data/train_local.csv'\u001b[0m\u001b[0;34m)\u001b[0m\u001b[0;34m\u001b[0m\u001b[0m\n\u001b[1;32m      4\u001b[0m \u001b[0mtest\u001b[0m \u001b[0;34m=\u001b[0m \u001b[0mpd\u001b[0m\u001b[0;34m.\u001b[0m\u001b[0mread_csv\u001b[0m\u001b[0;34m(\u001b[0m\u001b[0;34m'./data/test_local.csv'\u001b[0m\u001b[0;34m)\u001b[0m\u001b[0;34m\u001b[0m\u001b[0m\n\u001b[1;32m      5\u001b[0m \u001b[0mshop\u001b[0m \u001b[0;34m=\u001b[0m \u001b[0mpd\u001b[0m\u001b[0;34m.\u001b[0m\u001b[0mread_csv\u001b[0m\u001b[0;34m(\u001b[0m\u001b[0;34m'./original_data/训练数据-ccf_first_round_shop_info.csv'\u001b[0m\u001b[0;34m)\u001b[0m\u001b[0;34m\u001b[0m\u001b[0m\n",
      "\u001b[0;31mFileNotFoundError\u001b[0m: [Errno 2] No such file or directory: '/home/zhouzr/data/user-location-forcast/'"
     ]
    }
   ],
   "source": [
    "path = '/home/zhouzr/data/user-location-forcast/'\n",
    "os.chdir(path)\n",
    "train = pd.read_csv('./data/train_local.csv')\n",
    "test = pd.read_csv('./data/test_local.csv')\n",
    "shop = pd.read_csv('./original_data/训练数据-ccf_first_round_shop_info.csv')"
   ]
  },
  {
   "cell_type": "code",
   "execution_count": null,
   "metadata": {
    "collapsed": true
   },
   "outputs": [],
   "source": [
    "mall = shop.mall[5]\n",
    "train = train.merge"
   ]
  },
  {
   "cell_type": "markdown",
   "metadata": {},
   "source": [
    "### outlier filter"
   ]
  },
  {
   "cell_type": "code",
   "execution_count": 2,
   "metadata": {
    "collapsed": true
   },
   "outputs": [],
   "source": [
    "def location_outlier_filter(df, filter_rate=0.005):\n",
    "    def outlier_filter(df, col, min_filter, max_filter):\n",
    "            min_outlier = np.percentile(df[col], min_filter*100)\n",
    "            max_outlier = np.percentile(df[col], max_filter*100)\n",
    "            outlier_index = df[(df[col] > max_outlier) | (df[col] < min_outlier)].index.tolist()\n",
    "            return outlier_index\n",
    "    idx1 = outlier_filter(df, 'latitude', filter_rate, filter_rate)\n",
    "    idx2 = outlier_filter(df, 'longitude', filter_rate, filter_rate)\n",
    "    drop_idx = list(set(idx1 + idx2))\n",
    "    return df.drop(drop_idx, axis=0).reset_index(drop=True)\n",
    "\n",
    "def user_behavior_outlier_filter(df, filter_num=40):\n",
    "    user_behavior = df.groupby('user_id')['sample_id'].count()\n",
    "    drop_idx = user_behavior[user_behavior>40].index.tolist()\n",
    "    return df.drop(drop_idx, axis=0).reset_index(drop=True)"
   ]
  },
  {
   "cell_type": "markdown",
   "metadata": {},
   "source": [
    "### wifi feat"
   ]
  },
  {
   "cell_type": "code",
   "execution_count": 7,
   "metadata": {
    "collapsed": true
   },
   "outputs": [],
   "source": [
    "def wifi_connect(df_train, df_test, drop_num):\n",
    "    wifi_connect_list = {}\n",
    "    wifi_count = {}\n",
    "    wifi_infos = df_train['wifi_infos']\n",
    "    for wifi_infos_i in wifi_infos:\n",
    "        wifi_infos_i = [wifi.split('|') for wifi in wifi_infos_i.split(';')]\n",
    "        for wifi in wifi_infos_i:\n",
    "            if wifi[2] != 'false':\n",
    "                if wifi[0] in wifi_count:\n",
    "                    wifi_count[wifi[0]] += 1\n",
    "                else:\n",
    "                    wifi_count[wifi[0]] = 1\n",
    "    for k, v in wifi_count.items():\n",
    "        if v > drop_num:\n",
    "            wifi_connect_list[k] = 0\n",
    "    def extract_wifi_connect(df, wifi_connect_list):\n",
    "        result = []\n",
    "        wifi_infos = df['wifi_infos']\n",
    "        for wifi_infos_i in wifi_infos:\n",
    "            wifi_infos_i = [wifi.split('|') for wifi in wifi_infos_i.split(';')]\n",
    "            result_i = wifi_connect_list.copy()\n",
    "            for wifi in wifi_infos_i:\n",
    "                if wifi[2] != 'false':\n",
    "                    if wifi[0] in wifi_connect_list:\n",
    "                        result_i[wifi[0]] = 1\n",
    "            result.append(result_i)\n",
    "        result = pd.DataFrame(result)\n",
    "        return result\n",
    "    train_wifi_connect = extract_wifi_connect(df_train, wifi_connect_list)\n",
    "    test_wifi_connect = extract_wifi_connect(df_test, wifi_connect_list)\n",
    "    feat_cols = ['wifi_connect'] * train_wifi_connect.shape[1]\n",
    "    return train_wifi_connect, test_wifi_connect, feat_cols\n",
    "\n",
    "def wifi_power(df_train, df_test, drop_num):\n",
    "    wifi_power_list = {}\n",
    "    wifi_infos = df_train['wifi_infos']\n",
    "    wifi_count = {}\n",
    "    for wifi_infos_i in wifi_infos:\n",
    "        wifi_infos_i = [wifi.split('|') for wifi in wifi_infos_i.split(';')]\n",
    "        for wifi in wifi_infos_i:\n",
    "            if wifi[0] in wifi_count:\n",
    "                wifi_count[wifi[0]] += 1\n",
    "            else:\n",
    "                wifi_count[wifi[0]] = 1\n",
    "    for k, v in wifi_count.items():\n",
    "        if v > drop_num:\n",
    "            wifi_power_list[k] = 0\n",
    "    def extract_wifi_power(df, wifi_power_list):\n",
    "        wifi_infos = df.wifi_infos\n",
    "        result = []\n",
    "        for wifi_infos_i in wifi_infos:\n",
    "            wifi_infos_i = [wifi.split('|') for wifi in wifi_infos_i.split(';')]\n",
    "            result_i = wifi_power_list.copy()\n",
    "            for wifi in wifi_infos_i:\n",
    "                if wifi[0] in wifi_power_list:\n",
    "                    result_i[wifi[0]] = float(wifi[1]) + 120\n",
    "            result.append(result_i)\n",
    "        result = pd.DataFrame(result)\n",
    "        return result\n",
    "    train_wifi_power = extract_wifi_power(df_train, wifi_power_list)\n",
    "    test_wifi_power = extract_wifi_power(df_test, wifi_connect_list)\n",
    "    feat_cols = ['wifi_power'] * train_wifi_power.shape[1]\n",
    "    return train_wifi_power, test_wifi_power, feat_cols"
   ]
  },
  {
   "cell_type": "markdown",
   "metadata": {},
   "source": [
    "### time"
   ]
  },
  {
   "cell_type": "code",
   "execution_count": 78,
   "metadata": {
    "collapsed": true
   },
   "outputs": [],
   "source": [
    "def hourmap(t):\n",
    "    if (t >= datetime.time(22,0)) or (t < datetime.time(8,0)):\n",
    "        return 0\n",
    "    if (t >= datetime.time(8,0)) and (t < datetime.time(9,30)):\n",
    "        return 1\n",
    "    if (t >= datetime.time(9,30)) and (t < datetime.time(11,30)):\n",
    "        return 2\n",
    "    if (t >= datetime.time(11,30)) and (t < datetime.time(14,0)):\n",
    "        return 3\n",
    "    if (t >= datetime.time(14,0)) and (t < datetime.time(17,0)):\n",
    "        return 4\n",
    "    if (t >= datetime.time(17,0)) and (t < datetime.time(20,0)):\n",
    "        return 5\n",
    "    if (t >= datetime.time(20,0)) and (t < datetime.time(22,0)):\n",
    "        return 6\n",
    "\n",
    "def weekday(df_train, df_test):\n",
    "    onehot = OneHotEncoder()\n",
    "    train_weekday = pd.to_datetime(df_train.time_stamp).dt.weekday.values.reshape(-1, 1)\n",
    "    test_weekday = pd.to_datetime(df_test.time_stamp).dt.weekday.values.reshape(-1, 1)\n",
    "    train_weekday = onehot.fit_transform(train_weekday)\n",
    "    test_weekday = onehot.transform(test_weekday)\n",
    "    return train_weekday, test_weekday"
   ]
  },
  {
   "cell_type": "code",
   "execution_count": null,
   "metadata": {
    "collapsed": true
   },
   "outputs": [],
   "source": [
    "\n",
    "        class UserFeatExt(object):\n",
    "        \n",
    "    def extract_user_id(self, df_):\n",
    "        df = df_.copy()\n",
    "        user_cnt = df.groupby('user_id')['user_id'].count()\n",
    "        user_set = set(df[df.shop_id.isnull()].user_id.values) |\\\n",
    "        set(df[df.shop_id.notnull()].user_id.values) |\\\n",
    "        set(user_cnt[user_cnt>5].index.tolist())\n",
    "        \n",
    "        df.loc[-df.user_id.isin(user_set),'user_id'] = 'Null'\n",
    "        le = LabelEncoder()\n",
    "        result = le.fit_transform(df.user_id.values).reshape(-1,1)\n",
    "        return result\n",
    "\n",
    "    \n",
    "class SpaceFeat(object):\n",
    "    \n",
    "    def fit(self, df):\n",
    "        self.scaler = MinMaxScaler()\n",
    "        self.scaler.fit(df[['latitude','longitude']])\n",
    "        \n",
    "    def extract_space(self, df):\n",
    "        result = self.scaler.transform(df[['latitude','longitude']])\n",
    "        return result\n",
    "    \n",
    "    def extract_space_dist(self, df, shop):\n",
    "        def squaer_dist(loc1, loc2_list):\n",
    "            dist = np.power(np.sum(np.power(loc2_list-loc1,2),1),0.5)\n",
    "            return dist\n",
    "        df_space = df[['latitude','longitude']].values\n",
    "        shop_loc = shop[['latitude','longitude']].values\n",
    "        feat = np.apply_along_axis(squaer_dist, 1, df_space, **{'loc2_list':shop_loc})\n",
    "        return feat\n",
    "\n",
    "\n",
    "class TimeFeat(object):\n",
    "    \n",
    "    def extract_weekday(self, df, onehot=True):\n",
    "        result = df.time_stamp.dt.weekday.values.reshape(df.shape[0], 1)\n",
    "        if onehot:\n",
    "            result = pd.get_dummies(pd.Series(result.reshape(-1))).values\n",
    "        return result\n",
    "    \n",
    "    def extract_hour(self, df, onehot=True):\n",
    "        result = df.time_stamp.dt.hour.values.reshape(df.shape[0], 1)\n",
    "        if onehot:\n",
    "            result = pd.get_dummies(pd.Series(result.reshape(-1))).values\n",
    "        return result\n",
    "    \n",
    "    def extract_hour_map(self, df, onehot=True):\n",
    "        \n",
    "        result = df.time_stamp.dt.time.apply(time_map).values.reshape(df.shape[0], 1)\n",
    "        if onehot:\n",
    "            result = pd.get_dummies(pd.Series(result.reshape(-1))).values\n",
    "        return result\n",
    "    \n",
    "    def extract_weekday_hour_map(self, df, onehot=True):\n",
    "        weekday = self.extract_weekday(df, onehot=False)\n",
    "        hour_map = self.extract_hour_map(df, onehot=False)\n",
    "        result = weekday * 100 + hour_map\n",
    "        if onehot:\n",
    "            result = pd.get_dummies(pd.Series(result.reshape(-1))).values\n",
    "        return result"
   ]
  },
  {
   "cell_type": "code",
   "execution_count": 87,
   "metadata": {
    "collapsed": true
   },
   "outputs": [],
   "source": []
  },
  {
   "cell_type": "code",
   "execution_count": null,
   "metadata": {
    "collapsed": true
   },
   "outputs": [],
   "source": []
  }
 ],
 "metadata": {
  "kernelspec": {
   "display_name": "Python 3",
   "language": "python",
   "name": "python3"
  },
  "language_info": {
   "codemirror_mode": {
    "name": "ipython",
    "version": 3
   },
   "file_extension": ".py",
   "mimetype": "text/x-python",
   "name": "python",
   "nbconvert_exporter": "python",
   "pygments_lexer": "ipython3",
   "version": "3.6.1"
  }
 },
 "nbformat": 4,
 "nbformat_minor": 2
}
