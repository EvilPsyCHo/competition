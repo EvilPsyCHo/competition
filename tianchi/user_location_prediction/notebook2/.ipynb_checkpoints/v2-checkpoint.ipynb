{
 "cells": [
  {
   "cell_type": "code",
   "execution_count": 1,
   "metadata": {},
   "outputs": [
    {
     "name": "stderr",
     "output_type": "stream",
     "text": [
      "/home/zhouzr/anaconda3/lib/python3.6/site-packages/sklearn/cross_validation.py:44: DeprecationWarning: This module was deprecated in version 0.18 in favor of the model_selection module into which all the refactored classes and functions are moved. Also note that the interface of the new CV iterators are different from that of this module. This module will be removed in 0.20.\n",
      "  \"This module will be removed in 0.20.\", DeprecationWarning)\n"
     ]
    }
   ],
   "source": [
    "import os\n",
    "import sys\n",
    "import gc\n",
    "\n",
    "import random\n",
    "import pandas as pd\n",
    "import numpy as np\n",
    "import xgboost as xgb\n",
    "import lightgbm as lgb\n",
    "from sklearn.preprocessing import LabelEncoder\n",
    "from sklearn.preprocessing import MinMaxScaler\n",
    "\n",
    "import seaborn as sns\n",
    "import matplotlib.pyplot as plt\n",
    "%matplotlib inline"
   ]
  },
  {
   "cell_type": "code",
   "execution_count": 28,
   "metadata": {
    "collapsed": true
   },
   "outputs": [],
   "source": [
    "path = '/home/zhouzr/data/user-location-forcast/'\n",
    "os.chdir(path)\n",
    "train = pd.read_csv('./original_data/训练数据-ccf_first_round_user_shop_behavior.csv')\n",
    "shop = pd.read_csv('./original_data/训练数据-ccf_first_round_shop_info.csv')\n",
    "test = pd.read_csv('./original_data/AB榜测试集-evaluation_public.csv')"
   ]
  },
  {
   "cell_type": "code",
   "execution_count": 29,
   "metadata": {},
   "outputs": [
    {
     "data": {
      "text/plain": [
       "77"
      ]
     },
     "execution_count": 29,
     "metadata": {},
     "output_type": "execute_result"
    }
   ],
   "source": [
    "train = pd.merge(train, shop.drop(['longitude','latitude'],axis=1), on='shop_id', how='left')\n",
    "sample = pd.concat([train, test],ignore_index=True)\n",
    "sample['time_stamp'] = pd.to_datetime(sample.time_stamp)\n",
    "sample.insert(0,'sample_id',range(sample.shape[0]))\n",
    "mall_id_list = shop.mall_id.unique()\n",
    "del train, test; gc.collect()"
   ]
  },
  {
   "cell_type": "code",
   "execution_count": 4,
   "metadata": {
    "collapsed": true
   },
   "outputs": [],
   "source": [
    "def gen_train_test(df, mall_id, test=True):\n",
    "    df_mall = df[df.mall_id == mall_id].reset_index(drop=True)\n",
    "    if test:\n",
    "        train = df_mall[df_mall.time_stamp<='2017-8-24']\n",
    "        test = df_mall[(df_mall.time_stamp>='2017-8-25')&(df_mall.time_stamp<='2017-8-31')]\n",
    "    else:\n",
    "        train = df_mall[df_mall.time_stamp<='2017-8-31']\n",
    "        test = df_mall[df_mall.time_stamp>='2017-9-1']\n",
    "    return train, test"
   ]
  },
  {
   "cell_type": "code",
   "execution_count": 5,
   "metadata": {
    "collapsed": true
   },
   "outputs": [],
   "source": [
    "train, test = gen_train_test(sample, mall_id_list[-3])"
   ]
  },
  {
   "cell_type": "code",
   "execution_count": 6,
   "metadata": {},
   "outputs": [
    {
     "data": {
      "text/plain": [
       "(4233, 11)"
      ]
     },
     "execution_count": 6,
     "metadata": {},
     "output_type": "execute_result"
    }
   ],
   "source": [
    "train.shape"
   ]
  },
  {
   "cell_type": "code",
   "execution_count": 10,
   "metadata": {},
   "outputs": [],
   "source": [
    "outlierFilter = OutlierFilter()\n",
    "train = outlierFilter.run(train)"
   ]
  },
  {
   "cell_type": "code",
   "execution_count": 12,
   "metadata": {},
   "outputs": [
    {
     "data": {
      "text/plain": [
       "(4159, 11)"
      ]
     },
     "execution_count": 12,
     "metadata": {},
     "output_type": "execute_result"
    }
   ],
   "source": [
    "train.shape"
   ]
  },
  {
   "cell_type": "code",
   "execution_count": 7,
   "metadata": {
    "collapsed": true
   },
   "outputs": [],
   "source": [
    "class OutlierFilter(object):\n",
    "    \n",
    "    def __init__(self):\n",
    "        pass\n",
    "    \n",
    "    def run(self, df):\n",
    "        outlier_idx1 = self.space_outlier_detect(df)\n",
    "        outlier_idx2 = self.user_outlier_detect(df)\n",
    "        outlier_idx = list(set(outlier_idx1 + outlier_idx2))\n",
    "        result = df.drop(outlier_idx, axis=0).reset_index(drop=True)\n",
    "        return result\n",
    "    \n",
    "    def space_outlier_detect(self, df):\n",
    "        def outlier_filter(df, col, min_filter=0.005, max_filter=0.995):\n",
    "            min_outlier = np.percentile(df[col], min_filter*100)\n",
    "            max_outlier = np.percentile(df[col], max_filter*100)\n",
    "            outlier_index = df[(df[col] > max_outlier) | (df[col] < min_outlier)].index.tolist()\n",
    "            return outlier_index\n",
    "        idx1 = outlier_filter(df, 'latitude')\n",
    "        idx2 = outlier_filter(df, 'longitude')\n",
    "        return idx1 + idx2\n",
    "    \n",
    "    def user_outlier_detect(self, df):\n",
    "        user_behavior = df.groupby('user_id')['sample_id'].count()\n",
    "        idx = user_behavior[user_behavior>100].index.tolist()\n",
    "        return idx"
   ]
  },
  {
   "cell_type": "code",
   "execution_count": 14,
   "metadata": {
    "collapsed": true
   },
   "outputs": [],
   "source": [
    "class WifiPowerFeat(object):\n",
    "    \n",
    "    def __init__(self):\n",
    "        pass\n",
    "    \n",
    "    def fit(df, drop_rate=None, drop_num=None):\n",
    "        self.wifi_dict = self.get_wifi_dict(df, drop_rate, drop_num)\n",
    "    \n",
    "    def extract_wifi_power(df):\n",
    "        wifi_infos = df.wifi_infos\n",
    "        result = []\n",
    "        for wifi_infos_i in wifi_infos:\n",
    "            wifi_infos_i = [wifi.split('|') for wifi in wifi_infos_i.split(';')]\n",
    "            result_i = self.wifi_dict.copy()\n",
    "            for wifi in wifi_infos_i:\n",
    "                if wifi[0] in wifi_dict:\n",
    "                    result_i[wifi[0]] = float(wifi[1]) + 120\n",
    "            result.append(result_i)\n",
    "        result = pd.DataFrame(result)\n",
    "        return result\n",
    "    \n",
    "    def extract_wifi_connect(df):\n",
    "        wifi_connect = []\n",
    "        wifi_infos = df['wifi_infos']\n",
    "        for wifi_infos_i in wifi_infos:\n",
    "            wifi_infos_i = [wifi.split('|') for wifi in wifi_infos_i.split(';')]\n",
    "            flag = True\n",
    "            for wifi in wifi_infos_i:\n",
    "                if wifi[2]:\n",
    "                    wifi_connect.append(wifi[0])\n",
    "                    flag = False\n",
    "                    break\n",
    "            if flag:\n",
    "                wifi_connect.append('Null')\n",
    "            \n",
    "        \n",
    "    def get_wifi_dict(df, drop_rate=None, drop_num=None):\n",
    "        wifi_infos = df['wifi_infos']\n",
    "        wifi_count = {}\n",
    "        wifi_connect = []\n",
    "        for wifi_infos_i in wifi_infos:\n",
    "            wifi_infos_i = [wifi.split('|') for wifi in wifi_infos_i.split(';')]\n",
    "            for wifi in wifi_infos_i:\n",
    "                if wifi[0] in wifi_count:\n",
    "                    wifi_count[wifi[0]] += 1\n",
    "                else:\n",
    "                    wifi_count[wifi[0]] = 1\n",
    "        if drop_rate:\n",
    "            n = np.percentile(pd.Series(wifi_count).values, drop_rate*100)\n",
    "        if drop_num:\n",
    "            n = drop_num\n",
    "        wifi_dict = {}\n",
    "        for k, v in wifi_count.items():\n",
    "            if v > n:\n",
    "                wifi_dict[k] = 0\n",
    "        return wifi_dict"
   ]
  },
  {
   "cell_type": "code",
   "execution_count": 22,
   "metadata": {},
   "outputs": [
    {
     "data": {
      "text/plain": [
       "<matplotlib.axes._subplots.AxesSubplot at 0x7fd323e25860>"
      ]
     },
     "execution_count": 22,
     "metadata": {},
     "output_type": "execute_result"
    },
    {
     "data": {
      "image/png": "[encoded data removed]",
      "text/plain": [
       "<matplotlib.figure.Figure at 0x7fd31afde358>"
      ]
     },
     "metadata": {},
     "output_type": "display_data"
    }
   ],
   "source": [
    "f = plt.figure(figsize=(16,8))\n",
    "sample.groupby(sample.time_stamp.dt.time)['sample_id'].count().plot()"
   ]
  },
  {
   "cell_type": "code",
   "execution_count": 50,
   "metadata": {
    "collapsed": true
   },
   "outputs": [],
   "source": [
    "sample['time_map'] = sample.time_stamp.dt.time.apply(time_map)"
   ]
  },
  {
   "cell_type": "code",
   "execution_count": 46,
   "metadata": {
    "collapsed": true
   },
   "outputs": [],
   "source": [
    "def time_map(t):\n",
    "    if (t >= datetime.time(22,0)) or (t < datetime.time(8,0)):\n",
    "        return 0\n",
    "    if (t >= datetime.time(8,0)) and (t < datetime.time(9,30)):\n",
    "        return 1\n",
    "    if (t >= datetime.time(9,30)) and (t < datetime.time(11,30)):\n",
    "        return 2\n",
    "    if (t >= datetime.time(11,30)) and (t < datetime.time(14,0)):\n",
    "        return 3\n",
    "    if (t >= datetime.time(14,0)) and (t < datetime.time(17,0)):\n",
    "        return 4\n",
    "    if (t >= datetime.time(17,0)) and (t < datetime.time(20,0)):\n",
    "        return 5\n",
    "    if (t >= datetime.time(20,0)) and (t < datetime.time(22,0)):\n",
    "        return 6"
   ]
  },
  {
   "cell_type": "code",
   "execution_count": null,
   "metadata": {
    "collapsed": true
   },
   "outputs": [],
   "source": [
    "class TimeFeat(object):\n",
    "    \n",
    "    def __init__(self):\n",
    "        pass\n",
    "    \n",
    "    def extract_weekday(self, df):\n",
    "        result = df.time_stamp.dt.weekday.values.reshape(df.shape[0], 1)\n",
    "        return result\n",
    "    \n",
    "    def extract_hour(self, df):\n",
    "        result = df.time_stamp.dt.hour.values.reshape(df.shape[0], 1)\n",
    "        return result\n",
    "    \n",
    "    "
   ]
  }
 ],
 "metadata": {
  "kernelspec": {
   "display_name": "Python 3",
   "language": "python",
   "name": "python3"
  },
  "language_info": {
   "codemirror_mode": {
    "name": "ipython",
    "version": 3
   },
   "file_extension": ".py",
   "mimetype": "text/x-python",
   "name": "python",
   "nbconvert_exporter": "python",
   "pygments_lexer": "ipython3",
   "version": "3.6.1"
  }
 },
 "nbformat": 4,
 "nbformat_minor": 2
}
