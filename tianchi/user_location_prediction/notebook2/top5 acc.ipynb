{
 "cells": [
  {
   "cell_type": "code",
   "execution_count": 1,
   "metadata": {
    "scrolled": true
   },
   "outputs": [
    {
     "name": "stderr",
     "output_type": "stream",
     "text": [
      "/home/zhouzr/anaconda3/lib/python3.6/site-packages/sklearn/cross_validation.py:44: DeprecationWarning: This module was deprecated in version 0.18 in favor of the model_selection module into which all the refactored classes and functions are moved. Also note that the interface of the new CV iterators are different from that of this module. This module will be removed in 0.20.\n",
      "  \"This module will be removed in 0.20.\", DeprecationWarning)\n"
     ]
    }
   ],
   "source": [
    "import os\n",
    "import sys\n",
    "import gc\n",
    "\n",
    "import random\n",
    "import pandas as pd\n",
    "import numpy as np\n",
    "import xgboost as xgb\n",
    "from sklearn.preprocessing import LabelEncoder\n",
    "from sklearn.preprocessing import MinMaxScaler\n",
    "from sklearn.neighbors import KNeighborsClassifier\n",
    "from sklearn.cross_validation import train_test_split\n",
    "from sklearn.metrics import accuracy_score\n",
    "path = '/home/zhouzr/data/tianchi/user_location_predict/original_data/'\n",
    "os.chdir(path)\n",
    "\n",
    "train = pd.read_csv('./训练数据-ccf_first_round_user_shop_behavior.csv')\n",
    "shop = pd.read_csv('./训练数据-ccf_first_round_shop_info.csv')\n",
    "test = pd.read_csv('./AB榜测试集-evaluation_public.csv')\n",
    "train = pd.merge(train, shop[['shop_id','mall_id']], on='shop_id', how='left')\n",
    "\n",
    "mall_id_list = shop.mall_id.unique()\n",
    "mall = mall_id_list[0]\n",
    "train_mall = train[train.mall_id==mall]"
   ]
  },
  {
   "cell_type": "code",
   "execution_count": null,
   "metadata": {
    "collapsed": true
   },
   "outputs": [],
   "source": []
  },
  {
   "cell_type": "code",
   "execution_count": 77,
   "metadata": {},
   "outputs": [
    {
     "name": "stdout",
     "output_type": "stream",
     "text": [
      "0.80638424821\n"
     ]
    }
   ],
   "source": [
    "# latitude longitude knn top5 acc\n",
    "knn = KNeighborsClassifier(n_neighbors=5)\n",
    "train_x, test_x, train_y, test_y = train_test_split(train_mall[['longitude', 'latitude']], train_mall.shop_id)\n",
    "knn.fit(train_x, train_y)\n",
    "\n",
    "forcast = knn.predict_proba(test_x)\n",
    "label_list = knn.classes_\n",
    "top5forcast = []\n",
    "\n",
    "for f in forcast:\n",
    "    min_prob = max(np.sort(f)[-5], f[f>0].min())\n",
    "    top_forcast_f = label_list[f>=min_prob]\n",
    "    if len(top_forcast_f) < 5:\n",
    "        top_forcast_f = np.append(top_forcast_f, ['None'] * (5-len(top_forcast_f)))\n",
    "    top5forcast.append(list(top_forcast_f))\n",
    "\n",
    "forcast_acc = np.array([])\n",
    "for k, y in enumerate(test_y):\n",
    "    if y in top5forcast[k]:\n",
    "        forcast_acc = np.append(forcast_acc, 1)\n",
    "    else:\n",
    "        forcast_acc = np.append(forcast_acc, 0)\n",
    "\n",
    "print(forcast_acc.mean())"
   ]
  },
  {
   "cell_type": "code",
   "execution_count": 7,
   "metadata": {},
   "outputs": [
    {
     "name": "stdout",
     "output_type": "stream",
     "text": [
      "0.797881861575\n"
     ]
    }
   ],
   "source": [
    "# latitude longitude knn top3 acc\n",
    "knn = KNeighborsClassifier(n_neighbors=5)\n",
    "train_x, test_x, train_y, test_y = train_test_split(train_mall[['longitude', 'latitude']], train_mall.shop_id)\n",
    "knn.fit(train_x, train_y)\n",
    "\n",
    "forcast = knn.predict_proba(test_x)\n",
    "label_list = knn.classes_\n",
    "top3forcast = []\n",
    "\n",
    "for f in forcast:\n",
    "    min_prob = max(np.sort(f)[-3], f[f>0].min())\n",
    "    top_forcast_f = label_list[f>=min_prob]\n",
    "    if len(top_forcast_f) < 3:\n",
    "        top_forcast_f = np.append(top_forcast_f, ['None'] * (3-len(top_forcast_f)))\n",
    "    top3forcast.append(list(top_forcast_f))\n",
    "\n",
    "forcast_acc = np.array([])\n",
    "for k, y in enumerate(test_y):\n",
    "    if y in top3forcast[k]:\n",
    "        forcast_acc = np.append(forcast_acc, 1)\n",
    "    else:\n",
    "        forcast_acc = np.append(forcast_acc, 0)\n",
    "\n",
    "print(forcast_acc.mean())"
   ]
  },
  {
   "cell_type": "code",
   "execution_count": 11,
   "metadata": {},
   "outputs": [
    {
     "data": {
      "text/plain": [
       "0.59531622911694515"
      ]
     },
     "execution_count": 11,
     "metadata": {},
     "output_type": "execute_result"
    }
   ],
   "source": [
    "# latitude longitude knn top1 acc\n",
    "knn = KNeighborsClassifier(n_neighbors=5)\n",
    "train_x, test_x, train_y, test_y = train_test_split(train_mall[['longitude', 'latitude']], train_mall.shop_id)\n",
    "knn.fit(train_x, train_y)\n",
    "\n",
    "forcast = knn.predict(test_x)\n",
    "accuracy_score(test_y, forcast)"
   ]
  },
  {
   "cell_type": "code",
   "execution_count": null,
   "metadata": {
    "collapsed": true
   },
   "outputs": [],
   "source": []
  }
 ],
 "metadata": {
  "kernelspec": {
   "display_name": "Python 3",
   "language": "python",
   "name": "python3"
  },
  "language_info": {
   "codemirror_mode": {
    "name": "ipython",
    "version": 3
   },
   "file_extension": ".py",
   "mimetype": "text/x-python",
   "name": "python",
   "nbconvert_exporter": "python",
   "pygments_lexer": "ipython3",
   "version": "3.6.1"
  }
 },
 "nbformat": 4,
 "nbformat_minor": 2
}
