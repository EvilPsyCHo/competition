{
 "cells": [
  {
   "cell_type": "code",
   "execution_count": 4,
   "metadata": {
    "collapsed": true
   },
   "outputs": [],
   "source": [
    "import sys\n",
    "import os\n",
    "\n",
    "import pandas as pd\n",
    "import numpy as np\n",
    "import matplotlib.pyplot as plt\n",
    "import seaborn as sns\n",
    "%matplotlib inline"
   ]
  },
  {
   "cell_type": "code",
   "execution_count": 5,
   "metadata": {},
   "outputs": [
    {
     "data": {
      "text/plain": [
       "['jdata_user_action.csv',\n",
       " 'jdata_user_basic_info.csv',\n",
       " 'jdata_sku_basic_info.csv',\n",
       " 'jdata_user_order.csv',\n",
       " 'jdata_user_comment_score.csv']"
      ]
     },
     "execution_count": 5,
     "metadata": {},
     "output_type": "execute_result"
    }
   ],
   "source": [
    "os.chdir(os.getcwd())\n",
    "data_path = \"data/origin/\"\n",
    "os.listdir(data_path)"
   ]
  },
  {
   "cell_type": "code",
   "execution_count": 7,
   "metadata": {
    "collapsed": true
   },
   "outputs": [],
   "source": [
    "user_info = pd.read_csv(os.path.join(data_path, \"jdata_user_basic_info.csv\"))\n",
    "user_action = pd.read_csv(os.path.join(data_path, \"jdata_user_action.csv\"))\n",
    "sku_info = pd.read_csv(os.path.join(data_path, \"jdata_sku_basic_info.csv\"))\n",
    "user_order = pd.read_csv(os.path.join(data_path, \"jdata_user_order.csv\"))\n",
    "user_order.drop(\"o_id\", axis=1, inplace=True)\n",
    "user_order = user_order.groupby([\"user_id\", \"sku_id\", \"o_date\", \"o_area\"])[\"o_sku_num\"].sum().reset_index()\n",
    "user_comment = pd.read_csv(os.path.join(data_path, \"jdata_user_comment_score.csv\"))"
   ]
  },
  {
   "cell_type": "markdown",
   "metadata": {},
   "source": [
    "### 用户基本信息"
   ]
  },
  {
   "cell_type": "code",
   "execution_count": 62,
   "metadata": {},
   "outputs": [
    {
     "name": "stdout",
     "output_type": "stream",
     "text": [
      "<class 'pandas.core.frame.DataFrame'>\n",
      "RangeIndex: 98924 entries, 0 to 98923\n",
      "Data columns (total 4 columns):\n",
      "user_id       98924 non-null int64\n",
      "age           98924 non-null int64\n",
      "sex           98924 non-null int64\n",
      "user_lv_cd    98924 non-null int64\n",
      "dtypes: int64(4)\n",
      "memory usage: 3.0 MB\n"
     ]
    }
   ],
   "source": [
    "user_info.info()"
   ]
  },
  {
   "cell_type": "code",
   "execution_count": 63,
   "metadata": {},
   "outputs": [
    {
     "data": {
      "text/html": [
       "<div>\n",
       "<style>\n",
       "    .dataframe thead tr:only-child th {\n",
       "        text-align: right;\n",
       "    }\n",
       "\n",
       "    .dataframe thead th {\n",
       "        text-align: left;\n",
       "    }\n",
       "\n",
       "    .dataframe tbody tr th {\n",
       "        vertical-align: top;\n",
       "    }\n",
       "</style>\n",
       "<table border=\"1\" class=\"dataframe\">\n",
       "  <thead>\n",
       "    <tr style=\"text-align: right;\">\n",
       "      <th></th>\n",
       "      <th>user_id</th>\n",
       "      <th>age</th>\n",
       "      <th>sex</th>\n",
       "      <th>user_lv_cd</th>\n",
       "    </tr>\n",
       "  </thead>\n",
       "  <tbody>\n",
       "    <tr>\n",
       "      <th>count</th>\n",
       "      <td>98924.000000</td>\n",
       "      <td>98924.000000</td>\n",
       "      <td>98924.000000</td>\n",
       "      <td>98924.000000</td>\n",
       "    </tr>\n",
       "    <tr>\n",
       "      <th>mean</th>\n",
       "      <td>49462.500000</td>\n",
       "      <td>2.190459</td>\n",
       "      <td>1.489022</td>\n",
       "      <td>3.243288</td>\n",
       "    </tr>\n",
       "    <tr>\n",
       "      <th>std</th>\n",
       "      <td>28557.043352</td>\n",
       "      <td>1.937132</td>\n",
       "      <td>0.811357</td>\n",
       "      <td>1.067706</td>\n",
       "    </tr>\n",
       "    <tr>\n",
       "      <th>min</th>\n",
       "      <td>1.000000</td>\n",
       "      <td>-1.000000</td>\n",
       "      <td>0.000000</td>\n",
       "      <td>1.000000</td>\n",
       "    </tr>\n",
       "    <tr>\n",
       "      <th>25%</th>\n",
       "      <td>24731.750000</td>\n",
       "      <td>2.000000</td>\n",
       "      <td>1.000000</td>\n",
       "      <td>2.000000</td>\n",
       "    </tr>\n",
       "    <tr>\n",
       "      <th>50%</th>\n",
       "      <td>49462.500000</td>\n",
       "      <td>3.000000</td>\n",
       "      <td>2.000000</td>\n",
       "      <td>3.000000</td>\n",
       "    </tr>\n",
       "    <tr>\n",
       "      <th>75%</th>\n",
       "      <td>74193.250000</td>\n",
       "      <td>3.000000</td>\n",
       "      <td>2.000000</td>\n",
       "      <td>4.000000</td>\n",
       "    </tr>\n",
       "    <tr>\n",
       "      <th>max</th>\n",
       "      <td>98924.000000</td>\n",
       "      <td>6.000000</td>\n",
       "      <td>2.000000</td>\n",
       "      <td>5.000000</td>\n",
       "    </tr>\n",
       "  </tbody>\n",
       "</table>\n",
       "</div>"
      ],
      "text/plain": [
       "            user_id           age           sex    user_lv_cd\n",
       "count  98924.000000  98924.000000  98924.000000  98924.000000\n",
       "mean   49462.500000      2.190459      1.489022      3.243288\n",
       "std    28557.043352      1.937132      0.811357      1.067706\n",
       "min        1.000000     -1.000000      0.000000      1.000000\n",
       "25%    24731.750000      2.000000      1.000000      2.000000\n",
       "50%    49462.500000      3.000000      2.000000      3.000000\n",
       "75%    74193.250000      3.000000      2.000000      4.000000\n",
       "max    98924.000000      6.000000      2.000000      5.000000"
      ]
     },
     "execution_count": 63,
     "metadata": {},
     "output_type": "execute_result"
    }
   ],
   "source": [
    "user_info.describe()"
   ]
  },
  {
   "cell_type": "code",
   "execution_count": 4,
   "metadata": {},
   "outputs": [
    {
     "data": {
      "text/plain": [
       "Text(0.5,1,'user age')"
      ]
     },
     "execution_count": 4,
     "metadata": {},
     "output_type": "execute_result"
    },
    {
     "data": {
      "image/png": "[encoded data removed]",
      "text/plain": [
       "<matplotlib.figure.Figure at 0x7f985bebf128>"
      ]
     },
     "metadata": {},
     "output_type": "display_data"
    }
   ],
   "source": [
    "f = plt.figure(figsize=(10,8))\n",
    "ax3 = plt.subplot(211)\n",
    "sns.countplot(data=user_info, x=\"age\")\n",
    "ax1 = plt.subplot(223)\n",
    "sns.countplot(data=user_info, x=\"age\", hue=\"sex\", ax=ax1)\n",
    "ax2 = plt.subplot(224)\n",
    "sns.countplot(data=user_info, x=\"age\", hue=\"user_lv_cd\", ax=ax2)\n",
    "ax3.set_title(\"user age\")"
   ]
  },
  {
   "cell_type": "code",
   "execution_count": 9,
   "metadata": {},
   "outputs": [],
   "source": [
    "ui_uo = pd.merge(left=user_order, right=user_info, on=\"user_id\")"
   ]
  },
  {
   "cell_type": "code",
   "execution_count": 10,
   "metadata": {},
   "outputs": [
    {
     "data": {
      "text/html": [
       "<div>\n",
       "<style>\n",
       "    .dataframe thead tr:only-child th {\n",
       "        text-align: right;\n",
       "    }\n",
       "\n",
       "    .dataframe thead th {\n",
       "        text-align: left;\n",
       "    }\n",
       "\n",
       "    .dataframe tbody tr th {\n",
       "        vertical-align: top;\n",
       "    }\n",
       "</style>\n",
       "<table border=\"1\" class=\"dataframe\">\n",
       "  <thead>\n",
       "    <tr style=\"text-align: right;\">\n",
       "      <th></th>\n",
       "      <th>user_id</th>\n",
       "      <th>sku_id</th>\n",
       "      <th>o_date</th>\n",
       "      <th>o_area</th>\n",
       "      <th>o_sku_num</th>\n",
       "      <th>age</th>\n",
       "      <th>sex</th>\n",
       "      <th>user_lv_cd</th>\n",
       "    </tr>\n",
       "  </thead>\n",
       "  <tbody>\n",
       "    <tr>\n",
       "      <th>0</th>\n",
       "      <td>1</td>\n",
       "      <td>16607</td>\n",
       "      <td>2017-01-12</td>\n",
       "      <td>14</td>\n",
       "      <td>1</td>\n",
       "      <td>3</td>\n",
       "      <td>2</td>\n",
       "      <td>3</td>\n",
       "    </tr>\n",
       "    <tr>\n",
       "      <th>1</th>\n",
       "      <td>1</td>\n",
       "      <td>16607</td>\n",
       "      <td>2017-02-12</td>\n",
       "      <td>14</td>\n",
       "      <td>1</td>\n",
       "      <td>3</td>\n",
       "      <td>2</td>\n",
       "      <td>3</td>\n",
       "    </tr>\n",
       "    <tr>\n",
       "      <th>2</th>\n",
       "      <td>1</td>\n",
       "      <td>80036</td>\n",
       "      <td>2017-03-09</td>\n",
       "      <td>14</td>\n",
       "      <td>1</td>\n",
       "      <td>3</td>\n",
       "      <td>2</td>\n",
       "      <td>3</td>\n",
       "    </tr>\n",
       "    <tr>\n",
       "      <th>3</th>\n",
       "      <td>1</td>\n",
       "      <td>80036</td>\n",
       "      <td>2017-03-22</td>\n",
       "      <td>14</td>\n",
       "      <td>2</td>\n",
       "      <td>3</td>\n",
       "      <td>2</td>\n",
       "      <td>3</td>\n",
       "    </tr>\n",
       "    <tr>\n",
       "      <th>4</th>\n",
       "      <td>1</td>\n",
       "      <td>80036</td>\n",
       "      <td>2017-04-14</td>\n",
       "      <td>14</td>\n",
       "      <td>1</td>\n",
       "      <td>3</td>\n",
       "      <td>2</td>\n",
       "      <td>3</td>\n",
       "    </tr>\n",
       "    <tr>\n",
       "      <th>5</th>\n",
       "      <td>1</td>\n",
       "      <td>80036</td>\n",
       "      <td>2017-04-30</td>\n",
       "      <td>14</td>\n",
       "      <td>1</td>\n",
       "      <td>3</td>\n",
       "      <td>2</td>\n",
       "      <td>3</td>\n",
       "    </tr>\n",
       "    <tr>\n",
       "      <th>6</th>\n",
       "      <td>2</td>\n",
       "      <td>44666</td>\n",
       "      <td>2017-04-24</td>\n",
       "      <td>27</td>\n",
       "      <td>2</td>\n",
       "      <td>3</td>\n",
       "      <td>2</td>\n",
       "      <td>3</td>\n",
       "    </tr>\n",
       "    <tr>\n",
       "      <th>7</th>\n",
       "      <td>3</td>\n",
       "      <td>2816</td>\n",
       "      <td>2017-03-03</td>\n",
       "      <td>26</td>\n",
       "      <td>1</td>\n",
       "      <td>3</td>\n",
       "      <td>0</td>\n",
       "      <td>5</td>\n",
       "    </tr>\n",
       "    <tr>\n",
       "      <th>8</th>\n",
       "      <td>3</td>\n",
       "      <td>9833</td>\n",
       "      <td>2017-03-03</td>\n",
       "      <td>26</td>\n",
       "      <td>1</td>\n",
       "      <td>3</td>\n",
       "      <td>0</td>\n",
       "      <td>5</td>\n",
       "    </tr>\n",
       "    <tr>\n",
       "      <th>9</th>\n",
       "      <td>3</td>\n",
       "      <td>16080</td>\n",
       "      <td>2016-06-18</td>\n",
       "      <td>26</td>\n",
       "      <td>2</td>\n",
       "      <td>3</td>\n",
       "      <td>0</td>\n",
       "      <td>5</td>\n",
       "    </tr>\n",
       "    <tr>\n",
       "      <th>10</th>\n",
       "      <td>3</td>\n",
       "      <td>16586</td>\n",
       "      <td>2016-11-10</td>\n",
       "      <td>26</td>\n",
       "      <td>1</td>\n",
       "      <td>3</td>\n",
       "      <td>0</td>\n",
       "      <td>5</td>\n",
       "    </tr>\n",
       "    <tr>\n",
       "      <th>11</th>\n",
       "      <td>3</td>\n",
       "      <td>18217</td>\n",
       "      <td>2016-11-10</td>\n",
       "      <td>26</td>\n",
       "      <td>1</td>\n",
       "      <td>3</td>\n",
       "      <td>0</td>\n",
       "      <td>5</td>\n",
       "    </tr>\n",
       "    <tr>\n",
       "      <th>12</th>\n",
       "      <td>3</td>\n",
       "      <td>18217</td>\n",
       "      <td>2017-03-03</td>\n",
       "      <td>26</td>\n",
       "      <td>2</td>\n",
       "      <td>3</td>\n",
       "      <td>0</td>\n",
       "      <td>5</td>\n",
       "    </tr>\n",
       "    <tr>\n",
       "      <th>13</th>\n",
       "      <td>3</td>\n",
       "      <td>28001</td>\n",
       "      <td>2016-07-25</td>\n",
       "      <td>26</td>\n",
       "      <td>2</td>\n",
       "      <td>3</td>\n",
       "      <td>0</td>\n",
       "      <td>5</td>\n",
       "    </tr>\n",
       "    <tr>\n",
       "      <th>14</th>\n",
       "      <td>3</td>\n",
       "      <td>28001</td>\n",
       "      <td>2016-09-26</td>\n",
       "      <td>26</td>\n",
       "      <td>1</td>\n",
       "      <td>3</td>\n",
       "      <td>0</td>\n",
       "      <td>5</td>\n",
       "    </tr>\n",
       "    <tr>\n",
       "      <th>15</th>\n",
       "      <td>3</td>\n",
       "      <td>28001</td>\n",
       "      <td>2016-10-14</td>\n",
       "      <td>26</td>\n",
       "      <td>2</td>\n",
       "      <td>3</td>\n",
       "      <td>0</td>\n",
       "      <td>5</td>\n",
       "    </tr>\n",
       "    <tr>\n",
       "      <th>16</th>\n",
       "      <td>3</td>\n",
       "      <td>28001</td>\n",
       "      <td>2017-01-16</td>\n",
       "      <td>26</td>\n",
       "      <td>4</td>\n",
       "      <td>3</td>\n",
       "      <td>0</td>\n",
       "      <td>5</td>\n",
       "    </tr>\n",
       "    <tr>\n",
       "      <th>17</th>\n",
       "      <td>3</td>\n",
       "      <td>28001</td>\n",
       "      <td>2017-04-26</td>\n",
       "      <td>26</td>\n",
       "      <td>2</td>\n",
       "      <td>3</td>\n",
       "      <td>0</td>\n",
       "      <td>5</td>\n",
       "    </tr>\n",
       "    <tr>\n",
       "      <th>18</th>\n",
       "      <td>3</td>\n",
       "      <td>35919</td>\n",
       "      <td>2016-11-10</td>\n",
       "      <td>26</td>\n",
       "      <td>1</td>\n",
       "      <td>3</td>\n",
       "      <td>0</td>\n",
       "      <td>5</td>\n",
       "    </tr>\n",
       "    <tr>\n",
       "      <th>19</th>\n",
       "      <td>3</td>\n",
       "      <td>38635</td>\n",
       "      <td>2016-11-10</td>\n",
       "      <td>26</td>\n",
       "      <td>1</td>\n",
       "      <td>3</td>\n",
       "      <td>0</td>\n",
       "      <td>5</td>\n",
       "    </tr>\n",
       "    <tr>\n",
       "      <th>20</th>\n",
       "      <td>3</td>\n",
       "      <td>71817</td>\n",
       "      <td>2016-11-10</td>\n",
       "      <td>26</td>\n",
       "      <td>2</td>\n",
       "      <td>3</td>\n",
       "      <td>0</td>\n",
       "      <td>5</td>\n",
       "    </tr>\n",
       "    <tr>\n",
       "      <th>21</th>\n",
       "      <td>3</td>\n",
       "      <td>71817</td>\n",
       "      <td>2017-03-03</td>\n",
       "      <td>26</td>\n",
       "      <td>2</td>\n",
       "      <td>3</td>\n",
       "      <td>0</td>\n",
       "      <td>5</td>\n",
       "    </tr>\n",
       "    <tr>\n",
       "      <th>22</th>\n",
       "      <td>3</td>\n",
       "      <td>80409</td>\n",
       "      <td>2017-01-01</td>\n",
       "      <td>26</td>\n",
       "      <td>2</td>\n",
       "      <td>3</td>\n",
       "      <td>0</td>\n",
       "      <td>5</td>\n",
       "    </tr>\n",
       "    <tr>\n",
       "      <th>23</th>\n",
       "      <td>3</td>\n",
       "      <td>82091</td>\n",
       "      <td>2016-11-10</td>\n",
       "      <td>26</td>\n",
       "      <td>1</td>\n",
       "      <td>3</td>\n",
       "      <td>0</td>\n",
       "      <td>5</td>\n",
       "    </tr>\n",
       "    <tr>\n",
       "      <th>24</th>\n",
       "      <td>3</td>\n",
       "      <td>91286</td>\n",
       "      <td>2016-05-20</td>\n",
       "      <td>26</td>\n",
       "      <td>2</td>\n",
       "      <td>3</td>\n",
       "      <td>0</td>\n",
       "      <td>5</td>\n",
       "    </tr>\n",
       "    <tr>\n",
       "      <th>25</th>\n",
       "      <td>4</td>\n",
       "      <td>75542</td>\n",
       "      <td>2017-04-22</td>\n",
       "      <td>8</td>\n",
       "      <td>1</td>\n",
       "      <td>3</td>\n",
       "      <td>2</td>\n",
       "      <td>3</td>\n",
       "    </tr>\n",
       "    <tr>\n",
       "      <th>26</th>\n",
       "      <td>5</td>\n",
       "      <td>11071</td>\n",
       "      <td>2017-04-11</td>\n",
       "      <td>8</td>\n",
       "      <td>1</td>\n",
       "      <td>4</td>\n",
       "      <td>2</td>\n",
       "      <td>2</td>\n",
       "    </tr>\n",
       "    <tr>\n",
       "      <th>27</th>\n",
       "      <td>6</td>\n",
       "      <td>24052</td>\n",
       "      <td>2016-12-28</td>\n",
       "      <td>13</td>\n",
       "      <td>1</td>\n",
       "      <td>-1</td>\n",
       "      <td>2</td>\n",
       "      <td>2</td>\n",
       "    </tr>\n",
       "    <tr>\n",
       "      <th>28</th>\n",
       "      <td>6</td>\n",
       "      <td>69985</td>\n",
       "      <td>2016-12-28</td>\n",
       "      <td>13</td>\n",
       "      <td>1</td>\n",
       "      <td>-1</td>\n",
       "      <td>2</td>\n",
       "      <td>2</td>\n",
       "    </tr>\n",
       "    <tr>\n",
       "      <th>29</th>\n",
       "      <td>6</td>\n",
       "      <td>69985</td>\n",
       "      <td>2017-04-12</td>\n",
       "      <td>13</td>\n",
       "      <td>2</td>\n",
       "      <td>-1</td>\n",
       "      <td>2</td>\n",
       "      <td>2</td>\n",
       "    </tr>\n",
       "    <tr>\n",
       "      <th>...</th>\n",
       "      <td>...</td>\n",
       "      <td>...</td>\n",
       "      <td>...</td>\n",
       "      <td>...</td>\n",
       "      <td>...</td>\n",
       "      <td>...</td>\n",
       "      <td>...</td>\n",
       "      <td>...</td>\n",
       "    </tr>\n",
       "    <tr>\n",
       "      <th>776848</th>\n",
       "      <td>98922</td>\n",
       "      <td>53758</td>\n",
       "      <td>2017-04-25</td>\n",
       "      <td>10</td>\n",
       "      <td>1</td>\n",
       "      <td>3</td>\n",
       "      <td>0</td>\n",
       "      <td>5</td>\n",
       "    </tr>\n",
       "    <tr>\n",
       "      <th>776849</th>\n",
       "      <td>98922</td>\n",
       "      <td>54477</td>\n",
       "      <td>2017-04-25</td>\n",
       "      <td>10</td>\n",
       "      <td>1</td>\n",
       "      <td>3</td>\n",
       "      <td>0</td>\n",
       "      <td>5</td>\n",
       "    </tr>\n",
       "    <tr>\n",
       "      <th>776850</th>\n",
       "      <td>98922</td>\n",
       "      <td>57711</td>\n",
       "      <td>2017-02-15</td>\n",
       "      <td>10</td>\n",
       "      <td>1</td>\n",
       "      <td>3</td>\n",
       "      <td>0</td>\n",
       "      <td>5</td>\n",
       "    </tr>\n",
       "    <tr>\n",
       "      <th>776851</th>\n",
       "      <td>98922</td>\n",
       "      <td>57711</td>\n",
       "      <td>2017-03-13</td>\n",
       "      <td>10</td>\n",
       "      <td>4</td>\n",
       "      <td>3</td>\n",
       "      <td>0</td>\n",
       "      <td>5</td>\n",
       "    </tr>\n",
       "    <tr>\n",
       "      <th>776852</th>\n",
       "      <td>98922</td>\n",
       "      <td>65997</td>\n",
       "      <td>2016-12-05</td>\n",
       "      <td>10</td>\n",
       "      <td>1</td>\n",
       "      <td>3</td>\n",
       "      <td>0</td>\n",
       "      <td>5</td>\n",
       "    </tr>\n",
       "    <tr>\n",
       "      <th>776853</th>\n",
       "      <td>98922</td>\n",
       "      <td>65997</td>\n",
       "      <td>2016-12-08</td>\n",
       "      <td>10</td>\n",
       "      <td>1</td>\n",
       "      <td>3</td>\n",
       "      <td>0</td>\n",
       "      <td>5</td>\n",
       "    </tr>\n",
       "    <tr>\n",
       "      <th>776854</th>\n",
       "      <td>98922</td>\n",
       "      <td>65997</td>\n",
       "      <td>2016-12-12</td>\n",
       "      <td>10</td>\n",
       "      <td>1</td>\n",
       "      <td>3</td>\n",
       "      <td>0</td>\n",
       "      <td>5</td>\n",
       "    </tr>\n",
       "    <tr>\n",
       "      <th>776855</th>\n",
       "      <td>98922</td>\n",
       "      <td>78997</td>\n",
       "      <td>2017-02-20</td>\n",
       "      <td>10</td>\n",
       "      <td>1</td>\n",
       "      <td>3</td>\n",
       "      <td>0</td>\n",
       "      <td>5</td>\n",
       "    </tr>\n",
       "    <tr>\n",
       "      <th>776856</th>\n",
       "      <td>98922</td>\n",
       "      <td>78997</td>\n",
       "      <td>2017-03-08</td>\n",
       "      <td>10</td>\n",
       "      <td>1</td>\n",
       "      <td>3</td>\n",
       "      <td>0</td>\n",
       "      <td>5</td>\n",
       "    </tr>\n",
       "    <tr>\n",
       "      <th>776857</th>\n",
       "      <td>98922</td>\n",
       "      <td>78997</td>\n",
       "      <td>2017-04-11</td>\n",
       "      <td>10</td>\n",
       "      <td>1</td>\n",
       "      <td>3</td>\n",
       "      <td>0</td>\n",
       "      <td>5</td>\n",
       "    </tr>\n",
       "    <tr>\n",
       "      <th>776858</th>\n",
       "      <td>98922</td>\n",
       "      <td>88749</td>\n",
       "      <td>2017-01-09</td>\n",
       "      <td>10</td>\n",
       "      <td>2</td>\n",
       "      <td>3</td>\n",
       "      <td>0</td>\n",
       "      <td>5</td>\n",
       "    </tr>\n",
       "    <tr>\n",
       "      <th>776859</th>\n",
       "      <td>98922</td>\n",
       "      <td>91630</td>\n",
       "      <td>2017-02-15</td>\n",
       "      <td>10</td>\n",
       "      <td>1</td>\n",
       "      <td>3</td>\n",
       "      <td>0</td>\n",
       "      <td>5</td>\n",
       "    </tr>\n",
       "    <tr>\n",
       "      <th>776860</th>\n",
       "      <td>98922</td>\n",
       "      <td>93883</td>\n",
       "      <td>2017-01-23</td>\n",
       "      <td>10</td>\n",
       "      <td>1</td>\n",
       "      <td>3</td>\n",
       "      <td>0</td>\n",
       "      <td>5</td>\n",
       "    </tr>\n",
       "    <tr>\n",
       "      <th>776861</th>\n",
       "      <td>98923</td>\n",
       "      <td>42423</td>\n",
       "      <td>2016-06-08</td>\n",
       "      <td>21</td>\n",
       "      <td>2</td>\n",
       "      <td>4</td>\n",
       "      <td>2</td>\n",
       "      <td>3</td>\n",
       "    </tr>\n",
       "    <tr>\n",
       "      <th>776862</th>\n",
       "      <td>98923</td>\n",
       "      <td>42872</td>\n",
       "      <td>2017-04-20</td>\n",
       "      <td>21</td>\n",
       "      <td>1</td>\n",
       "      <td>4</td>\n",
       "      <td>2</td>\n",
       "      <td>3</td>\n",
       "    </tr>\n",
       "    <tr>\n",
       "      <th>776863</th>\n",
       "      <td>98923</td>\n",
       "      <td>62371</td>\n",
       "      <td>2016-11-11</td>\n",
       "      <td>21</td>\n",
       "      <td>2</td>\n",
       "      <td>4</td>\n",
       "      <td>2</td>\n",
       "      <td>3</td>\n",
       "    </tr>\n",
       "    <tr>\n",
       "      <th>776864</th>\n",
       "      <td>98923</td>\n",
       "      <td>64469</td>\n",
       "      <td>2016-10-08</td>\n",
       "      <td>21</td>\n",
       "      <td>1</td>\n",
       "      <td>4</td>\n",
       "      <td>2</td>\n",
       "      <td>3</td>\n",
       "    </tr>\n",
       "    <tr>\n",
       "      <th>776865</th>\n",
       "      <td>98923</td>\n",
       "      <td>83000</td>\n",
       "      <td>2016-11-08</td>\n",
       "      <td>21</td>\n",
       "      <td>1</td>\n",
       "      <td>4</td>\n",
       "      <td>2</td>\n",
       "      <td>3</td>\n",
       "    </tr>\n",
       "    <tr>\n",
       "      <th>776866</th>\n",
       "      <td>98924</td>\n",
       "      <td>1831</td>\n",
       "      <td>2017-03-01</td>\n",
       "      <td>17</td>\n",
       "      <td>1</td>\n",
       "      <td>3</td>\n",
       "      <td>2</td>\n",
       "      <td>3</td>\n",
       "    </tr>\n",
       "    <tr>\n",
       "      <th>776867</th>\n",
       "      <td>98924</td>\n",
       "      <td>14399</td>\n",
       "      <td>2017-03-01</td>\n",
       "      <td>17</td>\n",
       "      <td>1</td>\n",
       "      <td>3</td>\n",
       "      <td>2</td>\n",
       "      <td>3</td>\n",
       "    </tr>\n",
       "    <tr>\n",
       "      <th>776868</th>\n",
       "      <td>98924</td>\n",
       "      <td>29963</td>\n",
       "      <td>2017-04-10</td>\n",
       "      <td>21</td>\n",
       "      <td>1</td>\n",
       "      <td>3</td>\n",
       "      <td>2</td>\n",
       "      <td>3</td>\n",
       "    </tr>\n",
       "    <tr>\n",
       "      <th>776869</th>\n",
       "      <td>98924</td>\n",
       "      <td>31393</td>\n",
       "      <td>2017-03-01</td>\n",
       "      <td>17</td>\n",
       "      <td>1</td>\n",
       "      <td>3</td>\n",
       "      <td>2</td>\n",
       "      <td>3</td>\n",
       "    </tr>\n",
       "    <tr>\n",
       "      <th>776870</th>\n",
       "      <td>98924</td>\n",
       "      <td>33922</td>\n",
       "      <td>2017-03-01</td>\n",
       "      <td>17</td>\n",
       "      <td>1</td>\n",
       "      <td>3</td>\n",
       "      <td>2</td>\n",
       "      <td>3</td>\n",
       "    </tr>\n",
       "    <tr>\n",
       "      <th>776871</th>\n",
       "      <td>98924</td>\n",
       "      <td>45878</td>\n",
       "      <td>2017-03-01</td>\n",
       "      <td>17</td>\n",
       "      <td>1</td>\n",
       "      <td>3</td>\n",
       "      <td>2</td>\n",
       "      <td>3</td>\n",
       "    </tr>\n",
       "    <tr>\n",
       "      <th>776872</th>\n",
       "      <td>98924</td>\n",
       "      <td>45878</td>\n",
       "      <td>2017-03-02</td>\n",
       "      <td>17</td>\n",
       "      <td>1</td>\n",
       "      <td>3</td>\n",
       "      <td>2</td>\n",
       "      <td>3</td>\n",
       "    </tr>\n",
       "    <tr>\n",
       "      <th>776873</th>\n",
       "      <td>98924</td>\n",
       "      <td>60555</td>\n",
       "      <td>2017-03-01</td>\n",
       "      <td>17</td>\n",
       "      <td>1</td>\n",
       "      <td>3</td>\n",
       "      <td>2</td>\n",
       "      <td>3</td>\n",
       "    </tr>\n",
       "    <tr>\n",
       "      <th>776874</th>\n",
       "      <td>98924</td>\n",
       "      <td>71891</td>\n",
       "      <td>2017-01-15</td>\n",
       "      <td>21</td>\n",
       "      <td>1</td>\n",
       "      <td>3</td>\n",
       "      <td>2</td>\n",
       "      <td>3</td>\n",
       "    </tr>\n",
       "    <tr>\n",
       "      <th>776875</th>\n",
       "      <td>98924</td>\n",
       "      <td>71891</td>\n",
       "      <td>2017-02-08</td>\n",
       "      <td>21</td>\n",
       "      <td>1</td>\n",
       "      <td>3</td>\n",
       "      <td>2</td>\n",
       "      <td>3</td>\n",
       "    </tr>\n",
       "    <tr>\n",
       "      <th>776876</th>\n",
       "      <td>98924</td>\n",
       "      <td>71891</td>\n",
       "      <td>2017-03-14</td>\n",
       "      <td>21</td>\n",
       "      <td>1</td>\n",
       "      <td>3</td>\n",
       "      <td>2</td>\n",
       "      <td>3</td>\n",
       "    </tr>\n",
       "    <tr>\n",
       "      <th>776877</th>\n",
       "      <td>98924</td>\n",
       "      <td>80843</td>\n",
       "      <td>2017-03-02</td>\n",
       "      <td>17</td>\n",
       "      <td>1</td>\n",
       "      <td>3</td>\n",
       "      <td>2</td>\n",
       "      <td>3</td>\n",
       "    </tr>\n",
       "  </tbody>\n",
       "</table>\n",
       "<p>776878 rows × 8 columns</p>\n",
       "</div>"
      ],
      "text/plain": [
       "        user_id  sku_id      o_date  o_area  o_sku_num  age  sex  user_lv_cd\n",
       "0             1   16607  2017-01-12      14          1    3    2           3\n",
       "1             1   16607  2017-02-12      14          1    3    2           3\n",
       "2             1   80036  2017-03-09      14          1    3    2           3\n",
       "3             1   80036  2017-03-22      14          2    3    2           3\n",
       "4             1   80036  2017-04-14      14          1    3    2           3\n",
       "5             1   80036  2017-04-30      14          1    3    2           3\n",
       "6             2   44666  2017-04-24      27          2    3    2           3\n",
       "7             3    2816  2017-03-03      26          1    3    0           5\n",
       "8             3    9833  2017-03-03      26          1    3    0           5\n",
       "9             3   16080  2016-06-18      26          2    3    0           5\n",
       "10            3   16586  2016-11-10      26          1    3    0           5\n",
       "11            3   18217  2016-11-10      26          1    3    0           5\n",
       "12            3   18217  2017-03-03      26          2    3    0           5\n",
       "13            3   28001  2016-07-25      26          2    3    0           5\n",
       "14            3   28001  2016-09-26      26          1    3    0           5\n",
       "15            3   28001  2016-10-14      26          2    3    0           5\n",
       "16            3   28001  2017-01-16      26          4    3    0           5\n",
       "17            3   28001  2017-04-26      26          2    3    0           5\n",
       "18            3   35919  2016-11-10      26          1    3    0           5\n",
       "19            3   38635  2016-11-10      26          1    3    0           5\n",
       "20            3   71817  2016-11-10      26          2    3    0           5\n",
       "21            3   71817  2017-03-03      26          2    3    0           5\n",
       "22            3   80409  2017-01-01      26          2    3    0           5\n",
       "23            3   82091  2016-11-10      26          1    3    0           5\n",
       "24            3   91286  2016-05-20      26          2    3    0           5\n",
       "25            4   75542  2017-04-22       8          1    3    2           3\n",
       "26            5   11071  2017-04-11       8          1    4    2           2\n",
       "27            6   24052  2016-12-28      13          1   -1    2           2\n",
       "28            6   69985  2016-12-28      13          1   -1    2           2\n",
       "29            6   69985  2017-04-12      13          2   -1    2           2\n",
       "...         ...     ...         ...     ...        ...  ...  ...         ...\n",
       "776848    98922   53758  2017-04-25      10          1    3    0           5\n",
       "776849    98922   54477  2017-04-25      10          1    3    0           5\n",
       "776850    98922   57711  2017-02-15      10          1    3    0           5\n",
       "776851    98922   57711  2017-03-13      10          4    3    0           5\n",
       "776852    98922   65997  2016-12-05      10          1    3    0           5\n",
       "776853    98922   65997  2016-12-08      10          1    3    0           5\n",
       "776854    98922   65997  2016-12-12      10          1    3    0           5\n",
       "776855    98922   78997  2017-02-20      10          1    3    0           5\n",
       "776856    98922   78997  2017-03-08      10          1    3    0           5\n",
       "776857    98922   78997  2017-04-11      10          1    3    0           5\n",
       "776858    98922   88749  2017-01-09      10          2    3    0           5\n",
       "776859    98922   91630  2017-02-15      10          1    3    0           5\n",
       "776860    98922   93883  2017-01-23      10          1    3    0           5\n",
       "776861    98923   42423  2016-06-08      21          2    4    2           3\n",
       "776862    98923   42872  2017-04-20      21          1    4    2           3\n",
       "776863    98923   62371  2016-11-11      21          2    4    2           3\n",
       "776864    98923   64469  2016-10-08      21          1    4    2           3\n",
       "776865    98923   83000  2016-11-08      21          1    4    2           3\n",
       "776866    98924    1831  2017-03-01      17          1    3    2           3\n",
       "776867    98924   14399  2017-03-01      17          1    3    2           3\n",
       "776868    98924   29963  2017-04-10      21          1    3    2           3\n",
       "776869    98924   31393  2017-03-01      17          1    3    2           3\n",
       "776870    98924   33922  2017-03-01      17          1    3    2           3\n",
       "776871    98924   45878  2017-03-01      17          1    3    2           3\n",
       "776872    98924   45878  2017-03-02      17          1    3    2           3\n",
       "776873    98924   60555  2017-03-01      17          1    3    2           3\n",
       "776874    98924   71891  2017-01-15      21          1    3    2           3\n",
       "776875    98924   71891  2017-02-08      21          1    3    2           3\n",
       "776876    98924   71891  2017-03-14      21          1    3    2           3\n",
       "776877    98924   80843  2017-03-02      17          1    3    2           3\n",
       "\n",
       "[776878 rows x 8 columns]"
      ]
     },
     "execution_count": 10,
     "metadata": {},
     "output_type": "execute_result"
    }
   ],
   "source": [
    "ui_uo"
   ]
  },
  {
   "cell_type": "markdown",
   "metadata": {},
   "source": [
    "### 用户行为"
   ]
  },
  {
   "cell_type": "code",
   "execution_count": 16,
   "metadata": {},
   "outputs": [
    {
     "data": {
      "text/plain": [
       "[<matplotlib.lines.Line2D at 0x7f9832821278>]"
      ]
     },
     "execution_count": 16,
     "metadata": {},
     "output_type": "execute_result"
    },
    {
     "data": {
      "image/png": "[encoded data removed]",
      "text/plain": [
       "<matplotlib.figure.Figure at 0x7f9832816a58>"
      ]
     },
     "metadata": {},
     "output_type": "display_data"
    }
   ],
   "source": [
    "plt.plot(user_action.groupby(\"user_id\")[\"user_id\"].count().sort_values().values)"
   ]
  },
  {
   "cell_type": "code",
   "execution_count": 12,
   "metadata": {},
   "outputs": [
    {
     "data": {
      "text/plain": [
       "a_type\n",
       "1    13890115\n",
       "2       70590\n",
       "Name: a_num, dtype: int64"
      ]
     },
     "execution_count": 12,
     "metadata": {},
     "output_type": "execute_result"
    }
   ],
   "source": [
    "user_action.groupby(\"a_type\")[\"a_num\"].sum()"
   ]
  },
  {
   "cell_type": "code",
   "execution_count": 17,
   "metadata": {},
   "outputs": [
    {
     "data": {
      "text/plain": [
       "<matplotlib.axes._subplots.AxesSubplot at 0x7f982b2ceba8>"
      ]
     },
     "execution_count": 17,
     "metadata": {},
     "output_type": "execute_result"
    },
    {
     "data": {
      "image/png": "[encoded data removed]",
      "text/plain": [
       "<matplotlib.figure.Figure at 0x7f982b5ec7f0>"
      ]
     },
     "metadata": {},
     "output_type": "display_data"
    }
   ],
   "source": [
    "sns.boxplot(x=\"a_type\", y=\"a_num\", data=user_action)"
   ]
  },
  {
   "cell_type": "code",
   "execution_count": 20,
   "metadata": {},
   "outputs": [
    {
     "data": {
      "text/plain": [
       "[<matplotlib.lines.Line2D at 0x7f982b814400>]"
      ]
     },
     "execution_count": 20,
     "metadata": {},
     "output_type": "execute_result"
    },
    {
     "data": {
      "image/png": "[encoded data removed]",
      "text/plain": [
       "<matplotlib.figure.Figure at 0x7f985baff0b8>"
      ]
     },
     "metadata": {},
     "output_type": "display_data"
    }
   ],
   "source": [
    "plt.plot(np.log10(user_action.groupby(\"sku_id\")[\"sku_id\"].count().sort_values().values))"
   ]
  },
  {
   "cell_type": "markdown",
   "metadata": {},
   "source": [
    "### 用户下单信息"
   ]
  },
  {
   "cell_type": "code",
   "execution_count": 60,
   "metadata": {},
   "outputs": [
    {
     "data": {
      "text/plain": [
       "<matplotlib.axes._subplots.AxesSubplot at 0x7f985b8c0320>"
      ]
     },
     "execution_count": 60,
     "metadata": {},
     "output_type": "execute_result"
    },
    {
     "data": {
      "image/png": "[encoded data removed]",
      "text/plain": [
       "<matplotlib.figure.Figure at 0x7f9832c6afd0>"
      ]
     },
     "metadata": {},
     "output_type": "display_data"
    }
   ],
   "source": [
    "user_order.groupby(\"o_date\")[\"user_id\"].count().plot(figsize=(12, 6))"
   ]
  },
  {
   "cell_type": "code",
   "execution_count": 96,
   "metadata": {},
   "outputs": [
    {
     "data": {
      "text/plain": [
       "0.815474505681129"
      ]
     },
     "execution_count": 96,
     "metadata": {},
     "output_type": "execute_result"
    }
   ],
   "source": [
    "user_order.groupby(\"user_id\")[\"user_id\"].count().apply(lambda x: 0 if x==1 else 1).mean()"
   ]
  },
  {
   "cell_type": "code",
   "execution_count": 77,
   "metadata": {},
   "outputs": [
    {
     "data": {
      "text/html": [
       "<div>\n",
       "<style>\n",
       "    .dataframe thead tr:only-child th {\n",
       "        text-align: right;\n",
       "    }\n",
       "\n",
       "    .dataframe thead th {\n",
       "        text-align: left;\n",
       "    }\n",
       "\n",
       "    .dataframe tbody tr th {\n",
       "        vertical-align: top;\n",
       "    }\n",
       "</style>\n",
       "<table border=\"1\" class=\"dataframe\">\n",
       "  <thead>\n",
       "    <tr style=\"text-align: right;\">\n",
       "      <th></th>\n",
       "      <th>user_id</th>\n",
       "      <th>sku_id</th>\n",
       "      <th>o_id</th>\n",
       "      <th>o_date</th>\n",
       "      <th>o_area</th>\n",
       "      <th>o_sku_num</th>\n",
       "    </tr>\n",
       "  </thead>\n",
       "  <tbody>\n",
       "    <tr>\n",
       "      <th>0</th>\n",
       "      <td>1</td>\n",
       "      <td>80036</td>\n",
       "      <td>480066</td>\n",
       "      <td>2017-03-09</td>\n",
       "      <td>14</td>\n",
       "      <td>1</td>\n",
       "    </tr>\n",
       "    <tr>\n",
       "      <th>1</th>\n",
       "      <td>1</td>\n",
       "      <td>16607</td>\n",
       "      <td>106933</td>\n",
       "      <td>2017-01-12</td>\n",
       "      <td>14</td>\n",
       "      <td>1</td>\n",
       "    </tr>\n",
       "    <tr>\n",
       "      <th>2</th>\n",
       "      <td>1</td>\n",
       "      <td>80036</td>\n",
       "      <td>542604</td>\n",
       "      <td>2017-04-14</td>\n",
       "      <td>14</td>\n",
       "      <td>1</td>\n",
       "    </tr>\n",
       "    <tr>\n",
       "      <th>3</th>\n",
       "      <td>1</td>\n",
       "      <td>80036</td>\n",
       "      <td>196335</td>\n",
       "      <td>2017-04-30</td>\n",
       "      <td>14</td>\n",
       "      <td>1</td>\n",
       "    </tr>\n",
       "    <tr>\n",
       "      <th>4</th>\n",
       "      <td>1</td>\n",
       "      <td>80036</td>\n",
       "      <td>42502</td>\n",
       "      <td>2017-03-22</td>\n",
       "      <td>14</td>\n",
       "      <td>2</td>\n",
       "    </tr>\n",
       "  </tbody>\n",
       "</table>\n",
       "</div>"
      ],
      "text/plain": [
       "   user_id  sku_id    o_id      o_date  o_area  o_sku_num\n",
       "0        1   80036  480066  2017-03-09      14          1\n",
       "1        1   16607  106933  2017-01-12      14          1\n",
       "2        1   80036  542604  2017-04-14      14          1\n",
       "3        1   80036  196335  2017-04-30      14          1\n",
       "4        1   80036   42502  2017-03-22      14          2"
      ]
     },
     "execution_count": 77,
     "metadata": {},
     "output_type": "execute_result"
    }
   ],
   "source": [
    "user_order.head()"
   ]
  },
  {
   "cell_type": "markdown",
   "metadata": {},
   "source": [
    "### 用户评论"
   ]
  },
  {
   "cell_type": "code",
   "execution_count": 33,
   "metadata": {},
   "outputs": [
    {
     "data": {
      "text/plain": [
       "<matplotlib.axes._subplots.AxesSubplot at 0x7f982b4706d8>"
      ]
     },
     "execution_count": 33,
     "metadata": {},
     "output_type": "execute_result"
    },
    {
     "data": {
      "image/png": "[encoded data removed]",
      "text/plain": [
       "<matplotlib.figure.Figure at 0x7f982b70d5c0>"
      ]
     },
     "metadata": {},
     "output_type": "display_data"
    }
   ],
   "source": [
    "user_comment.groupby(\"comment_create_tm\")[\"user_id\"].count().plot()"
   ]
  },
  {
   "cell_type": "code",
   "execution_count": 35,
   "metadata": {},
   "outputs": [
    {
     "data": {
      "text/plain": [
       "<matplotlib.axes._subplots.AxesSubplot at 0x7f982bbc5f60>"
      ]
     },
     "execution_count": 35,
     "metadata": {},
     "output_type": "execute_result"
    },
    {
     "data": {
      "image/png": "[encoded data removed]",
      "text/plain": [
       "<matplotlib.figure.Figure at 0x7f982bbc5780>"
      ]
     },
     "metadata": {},
     "output_type": "display_data"
    }
   ],
   "source": [
    "sns.boxplot(\"score_level\", data=user_comment)"
   ]
  },
  {
   "cell_type": "code",
   "execution_count": 43,
   "metadata": {},
   "outputs": [
    {
     "data": {
      "text/plain": [
       "<matplotlib.axes._subplots.AxesSubplot at 0x7f982b4abcf8>"
      ]
     },
     "execution_count": 43,
     "metadata": {},
     "output_type": "execute_result"
    },
    {
     "data": {
      "image/png": "[encoded data removed]",
      "text/plain": [
       "<matplotlib.figure.Figure at 0x7f98511d2b38>"
      ]
     },
     "metadata": {},
     "output_type": "display_data"
    }
   ],
   "source": [
    "user_comment[\"comment_create_tm\"] = pd.to_datetime(user_comment.comment_create_tm)\n",
    "user_comment.groupby(user_comment.comment_create_tm.dt.date)[\"user_id\"].count().plot()"
   ]
  },
  {
   "cell_type": "code",
   "execution_count": 58,
   "metadata": {},
   "outputs": [
    {
     "data": {
      "text/plain": [
       "'2016-05-01'"
      ]
     },
     "execution_count": 58,
     "metadata": {},
     "output_type": "execute_result"
    }
   ],
   "source": [
    "user_order.groupby(\"o_date\")[\"user_id\"].count().index[0]"
   ]
  },
  {
   "cell_type": "code",
   "execution_count": 57,
   "metadata": {},
   "outputs": [
    {
     "data": {
      "text/plain": [
       "datetime.date(2016, 5, 1)"
      ]
     },
     "execution_count": 57,
     "metadata": {},
     "output_type": "execute_result"
    }
   ],
   "source": [
    "user_comment.groupby(user_comment.comment_create_tm.dt.date)[\"user_id\"].count().index[0]"
   ]
  },
  {
   "cell_type": "code",
   "execution_count": 59,
   "metadata": {
    "scrolled": false
   },
   "outputs": [
    {
     "data": {
      "text/plain": [
       "[<matplotlib.lines.Line2D at 0x7f984aa6fef0>]"
      ]
     },
     "execution_count": 59,
     "metadata": {},
     "output_type": "execute_result"
    },
    {
     "data": {
      "image/png": "[encoded data removed]",
      "text/plain": [
       "<matplotlib.figure.Figure at 0x7f9832c6a748>"
      ]
     },
     "metadata": {},
     "output_type": "display_data"
    }
   ],
   "source": [
    "f = plt.figure(figsize=(12,6))\n",
    "plt.plot(user_order.groupby(\"o_date\")[\"user_id\"].count())\n",
    "plt.plot(user_comment.groupby(user_comment.comment_create_tm.dt.date)[\"user_id\"].count().values)"
   ]
  },
  {
   "cell_type": "markdown",
   "metadata": {},
   "source": [
    "### sku 基本信息"
   ]
  },
  {
   "cell_type": "code",
   "execution_count": 5,
   "metadata": {},
   "outputs": [
    {
     "name": "stdout",
     "output_type": "stream",
     "text": [
      "<class 'pandas.core.frame.DataFrame'>\n",
      "RangeIndex: 99412 entries, 0 to 99411\n",
      "Data columns (total 6 columns):\n",
      "sku_id    99412 non-null int64\n",
      "price     99412 non-null float64\n",
      "cate      99412 non-null int64\n",
      "para_1    99412 non-null float64\n",
      "para_2    99412 non-null int64\n",
      "para_3    99412 non-null int64\n",
      "dtypes: float64(2), int64(4)\n",
      "memory usage: 4.6 MB\n"
     ]
    }
   ],
   "source": [
    "sku_info.info()"
   ]
  },
  {
   "cell_type": "code",
   "execution_count": 6,
   "metadata": {},
   "outputs": [
    {
     "data": {
      "text/html": [
       "<div>\n",
       "<style>\n",
       "    .dataframe thead tr:only-child th {\n",
       "        text-align: right;\n",
       "    }\n",
       "\n",
       "    .dataframe thead th {\n",
       "        text-align: left;\n",
       "    }\n",
       "\n",
       "    .dataframe tbody tr th {\n",
       "        vertical-align: top;\n",
       "    }\n",
       "</style>\n",
       "<table border=\"1\" class=\"dataframe\">\n",
       "  <thead>\n",
       "    <tr style=\"text-align: right;\">\n",
       "      <th></th>\n",
       "      <th>sku_id</th>\n",
       "      <th>price</th>\n",
       "      <th>cate</th>\n",
       "      <th>para_1</th>\n",
       "      <th>para_2</th>\n",
       "      <th>para_3</th>\n",
       "    </tr>\n",
       "  </thead>\n",
       "  <tbody>\n",
       "    <tr>\n",
       "      <th>count</th>\n",
       "      <td>99412.000000</td>\n",
       "      <td>9.941200e+04</td>\n",
       "      <td>99412.000000</td>\n",
       "      <td>99412.000000</td>\n",
       "      <td>99412.000000</td>\n",
       "      <td>99412.000000</td>\n",
       "    </tr>\n",
       "    <tr>\n",
       "      <th>mean</th>\n",
       "      <td>49706.500000</td>\n",
       "      <td>1.404066e+03</td>\n",
       "      <td>71.675331</td>\n",
       "      <td>187.836283</td>\n",
       "      <td>-0.070595</td>\n",
       "      <td>-0.117119</td>\n",
       "    </tr>\n",
       "    <tr>\n",
       "      <th>std</th>\n",
       "      <td>28697.916818</td>\n",
       "      <td>2.480563e+04</td>\n",
       "      <td>28.310322</td>\n",
       "      <td>4139.406198</td>\n",
       "      <td>1.696164</td>\n",
       "      <td>1.878670</td>\n",
       "    </tr>\n",
       "    <tr>\n",
       "      <th>min</th>\n",
       "      <td>1.000000</td>\n",
       "      <td>4.300000e+00</td>\n",
       "      <td>1.000000</td>\n",
       "      <td>0.080000</td>\n",
       "      <td>-1.000000</td>\n",
       "      <td>-1.000000</td>\n",
       "    </tr>\n",
       "    <tr>\n",
       "      <th>25%</th>\n",
       "      <td>24853.750000</td>\n",
       "      <td>2.732000e+02</td>\n",
       "      <td>71.000000</td>\n",
       "      <td>40.580000</td>\n",
       "      <td>-1.000000</td>\n",
       "      <td>-1.000000</td>\n",
       "    </tr>\n",
       "    <tr>\n",
       "      <th>50%</th>\n",
       "      <td>49706.500000</td>\n",
       "      <td>5.956500e+02</td>\n",
       "      <td>71.000000</td>\n",
       "      <td>74.090000</td>\n",
       "      <td>-1.000000</td>\n",
       "      <td>-1.000000</td>\n",
       "    </tr>\n",
       "    <tr>\n",
       "      <th>75%</th>\n",
       "      <td>74559.250000</td>\n",
       "      <td>1.185000e+03</td>\n",
       "      <td>101.000000</td>\n",
       "      <td>104.872500</td>\n",
       "      <td>-1.000000</td>\n",
       "      <td>-1.000000</td>\n",
       "    </tr>\n",
       "    <tr>\n",
       "      <th>max</th>\n",
       "      <td>99412.000000</td>\n",
       "      <td>3.880033e+06</td>\n",
       "      <td>101.000000</td>\n",
       "      <td>475292.880000</td>\n",
       "      <td>6.000000</td>\n",
       "      <td>7.000000</td>\n",
       "    </tr>\n",
       "  </tbody>\n",
       "</table>\n",
       "</div>"
      ],
      "text/plain": [
       "             sku_id         price          cate         para_1        para_2  \\\n",
       "count  99412.000000  9.941200e+04  99412.000000   99412.000000  99412.000000   \n",
       "mean   49706.500000  1.404066e+03     71.675331     187.836283     -0.070595   \n",
       "std    28697.916818  2.480563e+04     28.310322    4139.406198      1.696164   \n",
       "min        1.000000  4.300000e+00      1.000000       0.080000     -1.000000   \n",
       "25%    24853.750000  2.732000e+02     71.000000      40.580000     -1.000000   \n",
       "50%    49706.500000  5.956500e+02     71.000000      74.090000     -1.000000   \n",
       "75%    74559.250000  1.185000e+03    101.000000     104.872500     -1.000000   \n",
       "max    99412.000000  3.880033e+06    101.000000  475292.880000      6.000000   \n",
       "\n",
       "             para_3  \n",
       "count  99412.000000  \n",
       "mean      -0.117119  \n",
       "std        1.878670  \n",
       "min       -1.000000  \n",
       "25%       -1.000000  \n",
       "50%       -1.000000  \n",
       "75%       -1.000000  \n",
       "max        7.000000  "
      ]
     },
     "execution_count": 6,
     "metadata": {},
     "output_type": "execute_result"
    }
   ],
   "source": [
    "sku_info.describe()"
   ]
  },
  {
   "cell_type": "code",
   "execution_count": null,
   "metadata": {
    "collapsed": true
   },
   "outputs": [],
   "source": []
  }
 ],
 "metadata": {
  "kernelspec": {
   "display_name": "Python 3",
   "language": "python",
   "name": "python3"
  },
  "language_info": {
   "codemirror_mode": {
    "name": "ipython",
    "version": 3
   },
   "file_extension": ".py",
   "mimetype": "text/x-python",
   "name": "python",
   "nbconvert_exporter": "python",
   "pygments_lexer": "ipython3",
   "version": "3.6.3"
  }
 },
 "nbformat": 4,
 "nbformat_minor": 2
}
