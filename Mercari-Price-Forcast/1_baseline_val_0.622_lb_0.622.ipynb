{
 "cells": [
  {
   "cell_type": "code",
   "execution_count": 8,
   "metadata": {
    "collapsed": true
   },
   "outputs": [],
   "source": [
    "import os\n",
    "import time\n",
    "import pandas as pd\n",
    "import numpy as np\n",
    "import xgboost as xgb\n",
    "from sklearn.model_selection import train_test_split\n",
    "from sklearn.model_selection import cross_val_score\n",
    "from sklearn.preprocessing import LabelEncoder\n",
    "\n",
    "%matplotlib inline\n",
    "seed = 2017\n",
    "path = '/Users/zhouzhirui/data/Mercari_Price_Forcast'\n",
    "os.chdir(path)\n",
    "\n",
    "train = pd.read_csv('./data/local_train.csv')\n",
    "val = pd.read_csv('./data/local_val.csv')\n",
    "\n",
    "le_brand_name = LabelEncoder()\n",
    "le_brand_name.fit(np.hstack([val.brand_name.values, train.brand_name.values]))\n",
    "train['brand_name'] = le_brand_name.transform(train['brand_name'])\n",
    "val['brand_name'] = le_brand_name.transform(val['brand_name'])\n",
    "\n",
    "le_category_name = LabelEncoder()\n",
    "le_category_name.fit(np.hstack([val.category_name.values, train.category_name.values]))\n",
    "train['category_name'] = le_category_name.transform(train['category_name'])\n",
    "val['category_name'] = le_category_name.transform(val['category_name'])"
   ]
  },
  {
   "cell_type": "code",
   "execution_count": 2,
   "metadata": {
    "collapsed": true
   },
   "outputs": [],
   "source": [
    "xgb_train = xgb.DMatrix(train.drop(['name','item_description','price'], axis=1).values, \n",
    "                        train['price'].values,\n",
    "                        feature_names=['item_condition_id','category_name','brand_name','shipping'])\n",
    "\n",
    "xgb_val = xgb.DMatrix(val.drop(['name','item_description','price'], axis=1).values, \n",
    "                      val['price'].values,\n",
    "                      feature_names=['item_condition_id','category_name','brand_name','shipping'])\n",
    "\n",
    "xgb_param = {\n",
    "    'eta':0.05,\n",
    "    'subsample':0.7,\n",
    "    'colsample_bytree':0.9,\n",
    "    'colsample_bytree':0.9\n",
    "}\n",
    "model = xgb.train(xgb_param, xgb_train, \n",
    "                  num_boost_round=500, \n",
    "                  evals=[(xgb_val,'validation')], \n",
    "                  early_stopping_rounds=10)"
   ]
  },
  {
   "cell_type": "code",
   "execution_count": 76,
   "metadata": {},
   "outputs": [
    {
     "data": {
      "text/plain": [
       "<matplotlib.axes._subplots.AxesSubplot at 0x1225b63c8>"
      ]
     },
     "execution_count": 76,
     "metadata": {},
     "output_type": "execute_result"
    },
    {
     "data": {
      "image/png": "[encoded data removed]",
      "text/plain": [
       "<matplotlib.figure.Figure at 0x120343d68>"
      ]
     },
     "metadata": {},
     "output_type": "display_data"
    }
   ],
   "source": [
    "xgb.plot_importance(model)"
   ]
  },
  {
   "cell_type": "code",
   "execution_count": 11,
   "metadata": {
    "collapsed": true
   },
   "outputs": [],
   "source": [
    "def rmsle(y, y_pred):\n",
    "    assert len(y) == len(y_pred)\n",
    "    y_pred[np.where(y_pred<0)] = 0\n",
    "    y_log = np.log(y+1)\n",
    "    y_pred_log = np.log(y_pred+1)\n",
    "    score = np.sqrt(np.mean(np.square(y_log-y_pred_log)))\n",
    "    return score"
   ]
  },
  {
   "cell_type": "code",
   "execution_count": 13,
   "metadata": {},
   "outputs": [
    {
     "data": {
      "text/plain": [
       "0.62259372024279258"
      ]
     },
     "execution_count": 13,
     "metadata": {},
     "output_type": "execute_result"
    }
   ],
   "source": [
    "rmsle(val.price.values, model.predict(xgb_val))"
   ]
  },
  {
   "cell_type": "code",
   "execution_count": null,
   "metadata": {
    "collapsed": true
   },
   "outputs": [],
   "source": []
  }
 ],
 "metadata": {
  "kernelspec": {
   "display_name": "Python 3",
   "language": "python",
   "name": "python3"
  },
  "language_info": {
   "codemirror_mode": {
    "name": "ipython",
    "version": 3
   },
   "file_extension": ".py",
   "mimetype": "text/x-python",
   "name": "python",
   "nbconvert_exporter": "python",
   "pygments_lexer": "ipython3",
   "version": "3.6.1"
  }
 },
 "nbformat": 4,
 "nbformat_minor": 2
}
