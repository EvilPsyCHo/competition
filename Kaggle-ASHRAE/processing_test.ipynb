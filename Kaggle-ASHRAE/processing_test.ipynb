{
 "cells": [
  {
   "cell_type": "code",
   "execution_count": 1,
   "metadata": {},
   "outputs": [],
   "source": [
    "\n",
    "import pandas as pd\n",
    "import numpy as np\n",
    "import matplotlib.pyplot as plt\n",
    "import lightgbm as lgb\n",
    "from sklearn.preprocessing import LabelEncoder\n",
    "from sklearn.model_selection import KFold\n",
    "import datetime as dt\n",
    "from pandas.api.types import is_datetime64_any_dtype as is_datetime\n",
    "from pandas.api.types import is_categorical_dtype\n",
    "from sklearn.metrics import mean_squared_error\n",
    "import gc\n",
    "from pathlib import Path\n",
    "\n",
    "# DATA_PATH = \"../input/ashrae-energy-prediction/\"\n",
    "DATA_PATH = Path(r\"C:\\Users\\evilp\\project\\competition\\Kaggle-ASHRAE\\data\")\n",
    "\n",
    "def compress(df, use_float16=False):\n",
    "    \"\"\"\n",
    "    Iterate through all the columns of a dataframe and modify the data type to reduce memory usage.\n",
    "    \"\"\"\n",
    "    start_mem = df.memory_usage().sum() / 1024 ** 2\n",
    "    print(\"Memory usage of dataframe is {:.2f} MB\".format(start_mem))\n",
    "\n",
    "    for col in df.columns:\n",
    "        if is_datetime(df[col]) or is_categorical_dtype(df[col]):\n",
    "            continue\n",
    "        col_type = df[col].dtype\n",
    "\n",
    "        if col_type != object:\n",
    "            c_min = df[col].min()\n",
    "            c_max = df[col].max()\n",
    "            if str(col_type)[:3] == \"int\":\n",
    "                if c_min > np.iinfo(np.int8).min and c_max < np.iinfo(np.int8).max:\n",
    "                    df[col] = df[col].astype(np.int8)\n",
    "                elif c_min > np.iinfo(np.int16).min and c_max < np.iinfo(np.int16).max:\n",
    "                    df[col] = df[col].astype(np.int16)\n",
    "                elif c_min > np.iinfo(np.int32).min and c_max < np.iinfo(np.int32).max:\n",
    "                    df[col] = df[col].astype(np.int32)\n",
    "                elif c_min > np.iinfo(np.int64).min and c_max < np.iinfo(np.int64).max:\n",
    "                    df[col] = df[col].astype(np.int64)\n",
    "            else:\n",
    "                if use_float16 and c_min > np.finfo(np.float16).min and c_max < np.finfo(np.float16).max:\n",
    "                    df[col] = df[col].astype(np.float16)\n",
    "                elif c_min > np.finfo(np.float32).min and c_max < np.finfo(np.float32).max:\n",
    "                    df[col] = df[col].astype(np.float32)\n",
    "                else:\n",
    "                    df[col] = df[col].astype(np.float64)\n",
    "        else:\n",
    "            df[col] = df[col].astype(\"category\")\n",
    "\n",
    "    end_mem = df.memory_usage().sum() / 1024 ** 2\n",
    "    print(\"Memory usage after optimization is: {:.2f} MB\".format(end_mem))\n",
    "    print(\"Decreased by {:.1f}%\".format(100 * (start_mem - end_mem) / start_mem))\n",
    "\n",
    "    return df\n",
    "\n",
    "\n",
    "def log_func(func):\n",
    "    def _wrapper(*args, **kwargs):\n",
    "        print(f\"start {func.__name__} ...\")\n",
    "        start = dt.datetime.now()\n",
    "        result = func(*args, **kwargs)\n",
    "        print(f\"finish  {func.__name__},  cost {dt.datetime.now() - start}\")\n",
    "        return result\n",
    "    return _wrapper\n",
    "\n",
    "# data\n",
    "@log_func\n",
    "def load_data(data_root_path):\n",
    "    train_df = pd.read_csv(data_root_path / \"train.csv\", parse_dates=['timestamp'])\n",
    "    test_df = pd.read_csv(data_root_path / 'test.csv', parse_dates=['timestamp'])\n",
    "    weather_train = pd.read_csv(data_root_path / \"weather_train.csv\", parse_dates=['timestamp'])\n",
    "    weather_test = pd.read_csv(data_root_path / \"weather_test.csv\", parse_dates=['timestamp'])\n",
    "    building_meta = pd.read_csv(data_root_path / \"building_metadata.csv\")\n",
    "    return train_df, test_df, weather_train, weather_test, building_meta\n",
    "\n",
    "\n",
    "def feature_engineering(x):\n",
    "    categorical_features = ['building_id', 'meter', 'site_id', 'primary_use', 'hour', 'weekend']\n",
    "    # sort values by building_id timestamp?\n",
    "    x[\"hour\"] = x[\"timestamp\"].dt.hour\n",
    "    x[\"weekend\"] = x[\"timestamp\"].dt.weekday\n",
    "\n",
    "    drop = [\"timestamp\", \"sea_level_pressure\", \"wind_direction\", \"wind_speed\", \"year_built\", \"floor_count\"]\n",
    "    x = x.drop(drop, axis=1)\n",
    "    gc.collect()\n",
    "    return x, categorical_features\n",
    "\n",
    "def kfold_train(model_params, features, target, n_splits, categorical_features, seed):\n",
    "    kf = KFold(n_splits=n_splits, random_state=seed, shuffle=True)\n",
    "    models = []\n",
    "    cv_scores = []\n",
    "    for train_index, test_index in kf.split(features):\n",
    "        train_features = features.loc[train_index]\n",
    "        train_target = target.loc[train_index]\n",
    "\n",
    "        test_features = features.loc[test_index]\n",
    "        test_target = target.loc[test_index]\n",
    "\n",
    "        d_training = lgb.Dataset(train_features, label=train_target, categorical_feature=categorical_features,\n",
    "                                 free_raw_data=False)\n",
    "        d_test = lgb.Dataset(test_features, label=test_target, categorical_feature=categorical_features,\n",
    "                             free_raw_data=False)\n",
    "\n",
    "        model = lgb.train(model_params, train_set=d_training, num_boost_round=1000, valid_sets=[d_training, d_test],\n",
    "                          verbose_eval=25, early_stopping_rounds=50)\n",
    "        score = np.sqrt(mean_squared_error(test_target, model.predict(test_features, num_iteration=model.best_iteration)))\n",
    "        models.append(model)\n",
    "        cv_scores.append(score)\n",
    "        # del train_features, train_target, test_features, test_target, d_training, d_test\n",
    "        # gc.collect()\n",
    "\n",
    "    print(f'cv score: {np.mean(cv_scores)}')\n",
    "    return models, cv_scores"
   ]
  },
  {
   "cell_type": "code",
   "execution_count": null,
   "metadata": {},
   "outputs": [
    {
     "name": "stdout",
     "output_type": "stream",
     "text": [
      "start load_data ...\n"
     ]
    }
   ],
   "source": [
    "train_df, test_df, weather_train, weather_test, building_meta = load_data(DATA_PATH)"
   ]
  },
  {
   "cell_type": "code",
   "execution_count": null,
   "metadata": {},
   "outputs": [],
   "source": [
    "weather = pd.concat([weather_train, weather_test]).reset_index(drop=True)"
   ]
  },
  {
   "cell_type": "code",
   "execution_count": null,
   "metadata": {},
   "outputs": [],
   "source": [
    "def process_meta(x):\n",
    "    le = LabelEncoder().fit(x.primary_use)\n",
    "    x['primary_use'] = le.transform(x['primary_use'])\n",
    "    \n",
    "    x['square_feet'] = np.log1p(x['square_feet'])\n",
    "    x['year_built'] = 2016 - x['year_built'] + 1\n",
    "    return x\n",
    "\n",
    "\n",
    "def process_weather(x):\n",
    "    return x"
   ]
  },
  {
   "cell_type": "code",
   "execution_count": null,
   "metadata": {},
   "outputs": [],
   "source": [
    "building_meta = process_meta(building_meta)"
   ]
  },
  {
   "cell_type": "code",
   "execution_count": null,
   "metadata": {},
   "outputs": [],
   "source": [
    "# train_target = np.log1p(train_df.meter_reading)\n",
    "# train_df.drop('meter_reading', axis=1, inplace=True)\n",
    "# row_id = test_df.row_id\n",
    "# test_df.drop('row_id', axis=1, inplace=True)"
   ]
  },
  {
   "cell_type": "code",
   "execution_count": null,
   "metadata": {},
   "outputs": [],
   "source": [
    "train_df = train_df.merge(building_meta, on='building_id').merge(weather, on=['site_id', 'timestamp'])"
   ]
  },
  {
   "cell_type": "code",
   "execution_count": null,
   "metadata": {},
   "outputs": [],
   "source": [
    "train_df = compress(train_df)"
   ]
  },
  {
   "cell_type": "code",
   "execution_count": null,
   "metadata": {},
   "outputs": [],
   "source": [
    "train_features, categorical_features = feature_engineering(train_df)"
   ]
  },
  {
   "cell_type": "code",
   "execution_count": null,
   "metadata": {},
   "outputs": [],
   "source": [
    "train_features"
   ]
  },
  {
   "cell_type": "code",
   "execution_count": null,
   "metadata": {},
   "outputs": [],
   "source": [
    "features = train_features.drop('meter_reading', axis=1)\n",
    "target = np.log1p(train_features.meter_reading)\n"
   ]
  },
  {
   "cell_type": "code",
   "execution_count": null,
   "metadata": {},
   "outputs": [],
   "source": [
    "params = {\n",
    "    \"objective\": \"regression\",\n",
    "    \"boosting\": \"gbdt\",\n",
    "    \"num_leaves\": 1280,\n",
    "    \"learning_rate\": 0.05,\n",
    "    \"feature_fraction\": 0.85,\n",
    "    \"reg_lambda\": 2,\n",
    "    \"metric\": \"rmse\",\n",
    "}"
   ]
  },
  {
   "cell_type": "code",
   "execution_count": null,
   "metadata": {},
   "outputs": [],
   "source": [
    "models = kfold_train(params,features,target, 3, categorical_features, 42)"
   ]
  },
  {
   "cell_type": "code",
   "execution_count": 83,
   "metadata": {},
   "outputs": [
    {
     "data": {
      "text/plain": [
       "[5.1143564396645065, 4.381525430131702, 4.3740558774956355]"
      ]
     },
     "execution_count": 83,
     "metadata": {},
     "output_type": "execute_result"
    }
   ],
   "source": [
    "models[1]"
   ]
  },
  {
   "cell_type": "code",
   "execution_count": 84,
   "metadata": {},
   "outputs": [
    {
     "data": {
      "text/plain": [
       "<function __main__.feature_engineering(x)>"
      ]
     },
     "execution_count": 84,
     "metadata": {},
     "output_type": "execute_result"
    }
   ],
   "source": [
    "feature_engineering"
   ]
  },
  {
   "cell_type": "code",
   "execution_count": 85,
   "metadata": {
    "scrolled": true
   },
   "outputs": [
    {
     "data": {
      "text/plain": [
       "0           0.000000\n",
       "1           0.000000\n",
       "2           0.000000\n",
       "3           0.000000\n",
       "4           0.000000\n",
       "              ...   \n",
       "20216095    2.277267\n",
       "20216096    1.762159\n",
       "20216097    0.000000\n",
       "20216098    5.078761\n",
       "20216099    1.348073\n",
       "Name: meter_reading, Length: 20216100, dtype: float64"
      ]
     },
     "execution_count": 85,
     "metadata": {},
     "output_type": "execute_result"
    }
   ],
   "source": [
    "train_target"
   ]
  },
  {
   "cell_type": "code",
   "execution_count": 88,
   "metadata": {},
   "outputs": [],
   "source": [
    "def plot_importance(models):\n",
    "    for model in models:\n",
    "        lgb.plot_importance(model)\n",
    "        plt.show()"
   ]
  },
  {
   "cell_type": "code",
   "execution_count": 90,
   "metadata": {},
   "outputs": [
    {
     "data": {
      "image/png": "[encoded data removed]",
      "text/plain": [
       "<Figure size 432x288 with 1 Axes>"
      ]
     },
     "metadata": {
      "needs_background": "light"
     },
     "output_type": "display_data"
    },
    {
     "data": {
      "image/png": "[encoded data removed]",
      "text/plain": [
       "<Figure size 432x288 with 1 Axes>"
      ]
     },
     "metadata": {
      "needs_background": "light"
     },
     "output_type": "display_data"
    },
    {
     "data": {
      "image/png": "[encoded data removed]",
      "text/plain": [
       "<Figure size 432x288 with 1 Axes>"
      ]
     },
     "metadata": {
      "needs_background": "light"
     },
     "output_type": "display_data"
    }
   ],
   "source": [
    "plot_importance(models[0])"
   ]
  },
  {
   "cell_type": "code",
   "execution_count": null,
   "metadata": {},
   "outputs": [],
   "source": []
  }
 ],
 "metadata": {
  "kernelspec": {
   "display_name": "Python [conda env:dl]",
   "language": "python",
   "name": "conda-env-dl-py"
  },
  "language_info": {
   "codemirror_mode": {
    "name": "ipython",
    "version": 3
   },
   "file_extension": ".py",
   "mimetype": "text/x-python",
   "name": "python",
   "nbconvert_exporter": "python",
   "pygments_lexer": "ipython3",
   "version": "3.6.9"
  }
 },
 "nbformat": 4,
 "nbformat_minor": 2
}
