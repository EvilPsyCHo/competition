{
 "cells": [
  {
   "cell_type": "code",
   "execution_count": 1,
   "metadata": {},
   "outputs": [
    {
     "name": "stderr",
     "output_type": "stream",
     "text": [
      "/home/zhouzr/anaconda3/lib/python3.6/site-packages/sklearn/cross_validation.py:44: DeprecationWarning: This module was deprecated in version 0.18 in favor of the model_selection module into which all the refactored classes and functions are moved. Also note that the interface of the new CV iterators are different from that of this module. This module will be removed in 0.20.\n",
      "  \"This module will be removed in 0.20.\", DeprecationWarning)\n"
     ]
    },
    {
     "data": {
      "text/plain": [
       "42"
      ]
     },
     "execution_count": 1,
     "metadata": {},
     "output_type": "execute_result"
    }
   ],
   "source": [
    "import os\n",
    "import sys\n",
    "import gc\n",
    "\n",
    "import random\n",
    "import pandas as pd\n",
    "import numpy as np\n",
    "import xgboost as xgb\n",
    "from sklearn.preprocessing import LabelEncoder\n",
    "from sklearn.preprocessing import MinMaxScaler\n",
    "path = '/home/zhouzr/data/tianchi/user_location_predict/original_data/'\n",
    "os.chdir(path)\n",
    "\n",
    "train = pd.read_csv('./训练数据-ccf_first_round_user_shop_behavior.csv')\n",
    "shop = pd.read_csv('./训练数据-ccf_first_round_shop_info.csv')\n",
    "test = pd.read_csv('./AB榜测试集-evaluation_public.csv')\n",
    "\n",
    "train = pd.merge(train, shop[['shop_id','mall_id']], on='shop_id', how='left')\n",
    "sample = pd.concat([train, test])\n",
    "sample['time_stamp'] = pd.to_datetime(sample.time_stamp)\n",
    "sample.insert(0,'sample_id',range(sample.shape[0]))\n",
    "mall_id_list = shop.mall_id.unique()\n",
    "del train, test; gc.collect()"
   ]
  }
 ],
 "metadata": {
  "kernelspec": {
   "display_name": "Python 3",
   "language": "python",
   "name": "python3"
  },
  "language_info": {
   "codemirror_mode": {
    "name": "ipython",
    "version": 3
   },
   "file_extension": ".py",
   "mimetype": "text/x-python",
   "name": "python",
   "nbconvert_exporter": "python",
   "pygments_lexer": "ipython3",
   "version": "3.6.1"
  }
 },
 "nbformat": 4,
 "nbformat_minor": 2
}
