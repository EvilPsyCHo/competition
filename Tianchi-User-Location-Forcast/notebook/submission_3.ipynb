{
 "cells": [
  {
   "cell_type": "code",
   "execution_count": 1,
   "metadata": {},
   "outputs": [
    {
     "name": "stderr",
     "output_type": "stream",
     "text": [
      "/home/zhouzr/anaconda3/lib/python3.6/site-packages/sklearn/cross_validation.py:44: DeprecationWarning: This module was deprecated in version 0.18 in favor of the model_selection module into which all the refactored classes and functions are moved. Also note that the interface of the new CV iterators are different from that of this module. This module will be removed in 0.20.\n",
      "  \"This module will be removed in 0.20.\", DeprecationWarning)\n"
     ]
    }
   ],
   "source": [
    "import time\n",
    "import numpy as np\n",
    "import pandas as pd\n",
    "\n",
    "from sklearn.naive_bayes import MultinomialNB\n",
    "from sklearn.linear_model import LogisticRegression\n",
    "from sklearn.svm import SVC\n",
    "from sklearn.model_selection import cross_val_score\n",
    "from xgboost.sklearn import XGBClassifier\n",
    "\n",
    "from tianchi.user_location_prediction.pysrc.construct_train_test_data import DataGenerator"
   ]
  },
  {
   "cell_type": "code",
   "execution_count": 2,
   "metadata": {},
   "outputs": [
    {
     "name": "stderr",
     "output_type": "stream",
     "text": [
      "/home/zhouzr/anaconda3/lib/python3.6/site-packages/IPython/core/interactiveshell.py:2881: DtypeWarning: Columns (8) have mixed types. Specify dtype option on import or set low_memory=False.\n",
      "  exec(code_obj, self.user_global_ns, self.user_ns)\n"
     ]
    }
   ],
   "source": [
    "data_generator = DataGenerator()"
   ]
  },
  {
   "cell_type": "code",
   "execution_count": 3,
   "metadata": {
    "collapsed": true
   },
   "outputs": [],
   "source": [
    "feat_submission_3 = ['weekday' ,'hour','holiday' , 'space_loc','wifi_power','wifi_flag','user_cate','user_price']"
   ]
  },
  {
   "cell_type": "code",
   "execution_count": 6,
   "metadata": {},
   "outputs": [
    {
     "name": "stdout",
     "output_type": "stream",
     "text": [
      "0.962410501193\n",
      "0.96489540755\n",
      "0.97027825796\n",
      "0.979814830261\n",
      "0.932077801791\n",
      "0.9605211212\n",
      "0.914901256732\n",
      "0.969927075667\n",
      "0.983054989817\n",
      "0.990243902439\n",
      "0.984702584105\n",
      "0.967014918564\n",
      "0.986891106808\n",
      "0.967802146524\n",
      "0.985829959514\n",
      "0.97615917782\n",
      "0.983535528596\n",
      "0.886658490931\n",
      "0.984100216815\n",
      "0.828895678743\n",
      "0.989705882353\n",
      "0.98636714396\n",
      "0.988113075617\n",
      "0.845683930943\n",
      "0.99212962963\n",
      "0.986767687547\n",
      "0.973485607427\n",
      "0.990143846564\n",
      "0.992171545269\n",
      "0.987479031872\n",
      "0.981997624052\n",
      "0.893573146981\n",
      "0.985916680722\n",
      "0.987215033888\n",
      "0.991114701131\n",
      "0.993811597525\n",
      "0.965383550263\n",
      "0.98385518591\n",
      "0.977186711522\n",
      "0.985738980121\n",
      "0.96687244056\n",
      "0.861515490855\n",
      "0.986399427344\n",
      "0.968434343434\n",
      "0.989626556017\n",
      "0.889638879514\n",
      "0.985275080906\n",
      "0.991384561831\n",
      "0.995843076124\n",
      "0.986824447969\n",
      "0.980383480826\n",
      "0.98442295887\n",
      "0.991599115696\n",
      "0.956297743827\n",
      "0.994319257716\n",
      "0.984293698208\n",
      "0.989857867295\n",
      "0.871882920448\n",
      "0.97376454875\n",
      "0.930882511018\n",
      "0.989603119064\n",
      "0.991739699809\n",
      "0.968701731567\n",
      "0.990466462377\n",
      "0.960420374608\n",
      "0.989402413895\n",
      "0.874146757679\n",
      "0.958860252921\n",
      "0.995346598203\n",
      "0.994333157617\n",
      "0.93782786089\n",
      "0.970626419994\n",
      "0.987011070111\n",
      "0.934334140436\n",
      "0.99172173913\n",
      "0.972577696527\n",
      "0.963456533056\n",
      "0.968476128188\n",
      "0.88667407359\n",
      "0.984659635666\n",
      "0.985901798736\n",
      "0.938058471415\n",
      "0.988943028486\n",
      "0.982534524777\n",
      "0.987865416437\n",
      "0.942889799779\n",
      "0.821428571429\n",
      "0.983062742713\n",
      "0.981819818198\n",
      "0.981301421092\n",
      "0.988797012537\n",
      "0.987902712339\n",
      "0.980760057243\n",
      "0.931732293064\n",
      "0.993094155297\n",
      "0.979918704119\n",
      "0.839397932293\n",
      "cost 38.19 min\n"
     ]
    }
   ],
   "source": [
    "import time\n",
    "t = time.time()\n",
    "mall_list = data_generator.shop.mall_id.unique()\n",
    "submission_row_id = []\n",
    "submission_shop = []\n",
    "acc_list = []\n",
    "\n",
    "for mall_i in mall_list:\n",
    "    model = LogisticRegression()\n",
    "\n",
    "    \n",
    "    train_x, train_y, test_x, test_row_id = data_generator.gen_sub_train_test_data(feat_submission_3, mall_i)\n",
    "    model.fit(train_x, train_y)\n",
    "    \n",
    "    acc = model.score(train_x, train_y)\n",
    "    print(acc)\n",
    "    shop_pre = model.predict(test_x)\n",
    "    \n",
    "    submission_row_id.extend(test_row_id)\n",
    "    submission_shop.extend(shop_pre)\n",
    "    acc_list.append(acc)\n",
    "print('cost %.2f min'%((time.time()-t)/60)) "
   ]
  },
  {
   "cell_type": "code",
   "execution_count": 7,
   "metadata": {},
   "outputs": [
    {
     "name": "stdout",
     "output_type": "stream",
     "text": [
      "0.821428571429\n",
      "0.964359466792\n",
      "0.995843076124\n"
     ]
    }
   ],
   "source": [
    "print(np.array(acc_list).min())\n",
    "print(np.array(acc_list).mean())\n",
    "print(np.array(acc_list).max())"
   ]
  },
  {
   "cell_type": "code",
   "execution_count": 8,
   "metadata": {
    "collapsed": true
   },
   "outputs": [],
   "source": [
    "import os\n",
    "path = '/home/zhouzr/data/tianchi/user_location_predict'\n",
    "os.chdir(path)\n",
    "submission = pd.DataFrame({'row_id':submission_row_id, 'shop_id':submission_shop}, \n",
    "                          columns=['row_id','shop_id'])\n",
    "submission['row_id'] = submission['row_id'].astype('int').astype('str')\n",
    "submission.to_csv('./submission/result_3.csv', index=None, sep=',')"
   ]
  },
  {
   "cell_type": "code",
   "execution_count": null,
   "metadata": {
    "collapsed": true
   },
   "outputs": [],
   "source": []
  }
 ],
 "metadata": {
  "kernelspec": {
   "display_name": "Python 3",
   "language": "python",
   "name": "python3"
  },
  "language_info": {
   "codemirror_mode": {
    "name": "ipython",
    "version": 3
   },
   "file_extension": ".py",
   "mimetype": "text/x-python",
   "name": "python",
   "nbconvert_exporter": "python",
   "pygments_lexer": "ipython3",
   "version": "3.6.1"
  }
 },
 "nbformat": 4,
 "nbformat_minor": 2
}
