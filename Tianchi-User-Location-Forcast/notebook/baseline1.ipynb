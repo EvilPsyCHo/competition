{
 "cells": [
  {
   "cell_type": "code",
   "execution_count": 11,
   "metadata": {
    "collapsed": true
   },
   "outputs": [],
   "source": [
    "import warnings\n",
    "import os\n",
    "import sys\n",
    "\n",
    "import numpy as np\n",
    "import pandas as pd\n",
    "\n",
    "from sklearn.metrics import accuracy_score\n",
    "import xgboost as xgb\n",
    "from sklearn.linear_model import LogisticRegression\n",
    "\n",
    "\n",
    "from tianchi.user_location_prediction.pycode.load_data import *"
   ]
  },
  {
   "cell_type": "code",
   "execution_count": 2,
   "metadata": {
    "collapsed": true
   },
   "outputs": [],
   "source": [
    "def load_preprosessing_data():\n",
    "    shop = pd.read_csv('./pre_processing_data/shop.csv')\n",
    "    user = pd.read_csv('./pre_processing_data/user.csv')\n",
    "    wifi = pd.read_csv('./pre_processing_data/wifi.csv')\n",
    "\n",
    "    shop = shop[shop.mall_id=='m_1409'].copy().reset_index(drop=True)\n",
    "    user = user[user.mall_id=='m_1409'].copy().reset_index(drop=True)\n",
    "    wifi = wifi[wifi.mall_id=='m_1409'].copy().reset_index(drop=True)\n",
    "\n",
    "    return shop, user, wifi"
   ]
  },
  {
   "cell_type": "code",
   "execution_count": 14,
   "metadata": {
    "collapsed": true
   },
   "outputs": [],
   "source": [
    "abtest = load_original_abtest()"
   ]
  },
  {
   "cell_type": "code",
   "execution_count": 16,
   "metadata": {
    "collapsed": true
   },
   "outputs": [],
   "source": [
    "user = load_original_user()"
   ]
  },
  {
   "cell_type": "code",
   "execution_count": 4,
   "metadata": {
    "collapsed": true
   },
   "outputs": [],
   "source": [
    "shop, user, wifi = load_preprosessing_data()"
   ]
  },
  {
   "cell_type": "markdown",
   "metadata": {},
   "source": [
    "### 空间距离最近"
   ]
  },
  {
   "cell_type": "code",
   "execution_count": 6,
   "metadata": {
    "collapsed": true
   },
   "outputs": [],
   "source": [
    "def space_distance_calc(lgt, ltt):\n",
    "    idx = np.argmin((shop.lgt-lgt)**2 + (shop.ltt-ltt)**2)\n",
    "    return shop.iloc[idx, 0]\n",
    "\n",
    "pre = [space_distance_calc(i[0], i[1]) for i in zip(user.lgt, user.ltt)]\n",
    "\n",
    "accuracy_score(user.shop_id, pre)"
   ]
  }
 ],
 "metadata": {
  "kernelspec": {
   "display_name": "Python 3",
   "language": "python",
   "name": "python3"
  },
  "language_info": {
   "codemirror_mode": {
    "name": "ipython",
    "version": 3
   },
   "file_extension": ".py",
   "mimetype": "text/x-python",
   "name": "python",
   "nbconvert_exporter": "python",
   "pygments_lexer": "ipython3",
   "version": "3.6.1"
  }
 },
 "nbformat": 4,
 "nbformat_minor": 2
}
