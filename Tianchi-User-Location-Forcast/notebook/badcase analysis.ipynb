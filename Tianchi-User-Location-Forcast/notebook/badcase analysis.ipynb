{
 "cells": [
  {
   "cell_type": "markdown",
   "metadata": {},
   "source": [
    "## Badcase Analysis"
   ]
  },
  {
   "cell_type": "code",
   "execution_count": 1,
   "metadata": {},
   "outputs": [
    {
     "name": "stderr",
     "output_type": "stream",
     "text": [
      "/home/zhouzr/anaconda3/lib/python3.6/site-packages/sklearn/cross_validation.py:44: DeprecationWarning: This module was deprecated in version 0.18 in favor of the model_selection module into which all the refactored classes and functions are moved. Also note that the interface of the new CV iterators are different from that of this module. This module will be removed in 0.20.\n",
      "  \"This module will be removed in 0.20.\", DeprecationWarning)\n"
     ]
    }
   ],
   "source": [
    "import time\n",
    "import numpy as np\n",
    "import pandas as pd\n",
    "\n",
    "from sklearn.naive_bayes import MultinomialNB\n",
    "from sklearn.linear_model import LogisticRegression\n",
    "from sklearn.svm import SVC\n",
    "from sklearn.model_selection import cross_val_score\n",
    "from xgboost.sklearn import XGBClassifier\n",
    "\n",
    "from tianchi.user_location_prediction.pysrc.feature import *\n",
    "from tianchi.user_location_prediction.pysrc.load import *"
   ]
  },
  {
   "cell_type": "code",
   "execution_count": 2,
   "metadata": {},
   "outputs": [
    {
     "name": "stderr",
     "output_type": "stream",
     "text": [
      "/home/zhouzr/anaconda3/lib/python3.6/site-packages/IPython/core/interactiveshell.py:2821: DtypeWarning: Columns (8) have mixed types. Specify dtype option on import or set low_memory=False.\n",
      "  if self.run_code(code, result):\n"
     ]
    }
   ],
   "source": [
    "sample = load_sample()\n",
    "shop = load_shop()\n",
    "sample_wifi = load_sample_wifi()"
   ]
  },
  {
   "cell_type": "code",
   "execution_count": 8,
   "metadata": {
    "collapsed": true
   },
   "outputs": [],
   "source": [
    "with open('/home/zhouzr/project/zhihu_public_code/tianchi/user_location_prediction/record/mall_score') as f:\n",
    "    record = f.readlines()\n",
    "record = np.array([float(i.rstrip('\\n')) for i in record])"
   ]
  },
  {
   "cell_type": "code",
   "execution_count": 12,
   "metadata": {
    "collapsed": true
   },
   "outputs": [],
   "source": [
    "analysis = pd.DataFrame({'mall_id':sample.mall_id.unique(), 'acc_cv0':record}, columns=['mall_id','acc_cv0'])"
   ]
  },
  {
   "cell_type": "code",
   "execution_count": 29,
   "metadata": {
    "scrolled": false
   },
   "outputs": [],
   "source": [
    "mall_classcnt = sample.groupby('mall_id')['shop_id'].nunique()\n",
    "mall_samplecnt = sample.groupby('mall_id')['shop_id'].count()\n",
    "\n",
    "mall_wificnt = {}\n",
    "for i,j in sample.groupby('mall_id')['sample_id']:\n",
    "    mall_wificnt[i] = sample_wifi[sample_wifi.sample_id.isin(j.values)]['wifi_id'].nunique()"
   ]
  },
  {
   "cell_type": "code",
   "execution_count": 35,
   "metadata": {},
   "outputs": [],
   "source": [
    "mall_wificnt = pd.Series(mall_wificnt)"
   ]
  },
  {
   "cell_type": "code",
   "execution_count": 42,
   "metadata": {
    "scrolled": false
   },
   "outputs": [],
   "source": [
    "mall_info=pd.DataFrame({'class_num':mall_classcnt, 'sample_num':mall_samplecnt, 'wifi_num':mall_wificnt}).reset_index()"
   ]
  },
  {
   "cell_type": "code",
   "execution_count": 46,
   "metadata": {},
   "outputs": [],
   "source": [
    "mall_info = mall_info.merge(analysis, on='mall_id')"
   ]
  },
  {
   "cell_type": "code",
   "execution_count": 48,
   "metadata": {},
   "outputs": [
    {
     "data": {
      "text/html": [
       "<div>\n",
       "<style>\n",
       "    .dataframe thead tr:only-child th {\n",
       "        text-align: right;\n",
       "    }\n",
       "\n",
       "    .dataframe thead th {\n",
       "        text-align: left;\n",
       "    }\n",
       "\n",
       "    .dataframe tbody tr th {\n",
       "        vertical-align: top;\n",
       "    }\n",
       "</style>\n",
       "<table border=\"1\" class=\"dataframe\">\n",
       "  <thead>\n",
       "    <tr style=\"text-align: right;\">\n",
       "      <th></th>\n",
       "      <th>class_num</th>\n",
       "      <th>sample_num</th>\n",
       "      <th>wifi_num</th>\n",
       "      <th>acc_cv0</th>\n",
       "    </tr>\n",
       "  </thead>\n",
       "  <tbody>\n",
       "    <tr>\n",
       "      <th>class_num</th>\n",
       "      <td>1.000000</td>\n",
       "      <td>0.455157</td>\n",
       "      <td>0.549861</td>\n",
       "      <td>-0.252622</td>\n",
       "    </tr>\n",
       "    <tr>\n",
       "      <th>sample_num</th>\n",
       "      <td>0.455157</td>\n",
       "      <td>1.000000</td>\n",
       "      <td>0.764483</td>\n",
       "      <td>-0.452816</td>\n",
       "    </tr>\n",
       "    <tr>\n",
       "      <th>wifi_num</th>\n",
       "      <td>0.549861</td>\n",
       "      <td>0.764483</td>\n",
       "      <td>1.000000</td>\n",
       "      <td>-0.215019</td>\n",
       "    </tr>\n",
       "    <tr>\n",
       "      <th>acc_cv0</th>\n",
       "      <td>-0.252622</td>\n",
       "      <td>-0.452816</td>\n",
       "      <td>-0.215019</td>\n",
       "      <td>1.000000</td>\n",
       "    </tr>\n",
       "  </tbody>\n",
       "</table>\n",
       "</div>"
      ],
      "text/plain": [
       "            class_num  sample_num  wifi_num   acc_cv0\n",
       "class_num    1.000000    0.455157  0.549861 -0.252622\n",
       "sample_num   0.455157    1.000000  0.764483 -0.452816\n",
       "wifi_num     0.549861    0.764483  1.000000 -0.215019\n",
       "acc_cv0     -0.252622   -0.452816 -0.215019  1.000000"
      ]
     },
     "execution_count": 48,
     "metadata": {},
     "output_type": "execute_result"
    }
   ],
   "source": [
    "mall_info.corr()"
   ]
  },
  {
   "cell_type": "code",
   "execution_count": 49,
   "metadata": {},
   "outputs": [
    {
     "data": {
      "text/html": [
       "<div>\n",
       "<style>\n",
       "    .dataframe thead tr:only-child th {\n",
       "        text-align: right;\n",
       "    }\n",
       "\n",
       "    .dataframe thead th {\n",
       "        text-align: left;\n",
       "    }\n",
       "\n",
       "    .dataframe tbody tr th {\n",
       "        vertical-align: top;\n",
       "    }\n",
       "</style>\n",
       "<table border=\"1\" class=\"dataframe\">\n",
       "  <thead>\n",
       "    <tr style=\"text-align: right;\">\n",
       "      <th></th>\n",
       "      <th>mall_id</th>\n",
       "      <th>class_num</th>\n",
       "      <th>sample_num</th>\n",
       "      <th>wifi_num</th>\n",
       "      <th>acc_cv0</th>\n",
       "    </tr>\n",
       "  </thead>\n",
       "  <tbody>\n",
       "    <tr>\n",
       "      <th>12</th>\n",
       "      <td>m_1920</td>\n",
       "      <td>69</td>\n",
       "      <td>15301</td>\n",
       "      <td>6640</td>\n",
       "      <td>0.787988</td>\n",
       "    </tr>\n",
       "    <tr>\n",
       "      <th>45</th>\n",
       "      <td>m_4079</td>\n",
       "      <td>91</td>\n",
       "      <td>20619</td>\n",
       "      <td>5811</td>\n",
       "      <td>0.770260</td>\n",
       "    </tr>\n",
       "    <tr>\n",
       "      <th>49</th>\n",
       "      <td>m_4187</td>\n",
       "      <td>89</td>\n",
       "      <td>9520</td>\n",
       "      <td>2754</td>\n",
       "      <td>0.755777</td>\n",
       "    </tr>\n",
       "    <tr>\n",
       "      <th>52</th>\n",
       "      <td>m_4422</td>\n",
       "      <td>94</td>\n",
       "      <td>20741</td>\n",
       "      <td>6491</td>\n",
       "      <td>0.752278</td>\n",
       "    </tr>\n",
       "    <tr>\n",
       "      <th>72</th>\n",
       "      <td>m_6167</td>\n",
       "      <td>124</td>\n",
       "      <td>5358</td>\n",
       "      <td>3914</td>\n",
       "      <td>0.799179</td>\n",
       "    </tr>\n",
       "    <tr>\n",
       "      <th>81</th>\n",
       "      <td>m_7168</td>\n",
       "      <td>99</td>\n",
       "      <td>26355</td>\n",
       "      <td>8739</td>\n",
       "      <td>0.728932</td>\n",
       "    </tr>\n",
       "    <tr>\n",
       "      <th>85</th>\n",
       "      <td>m_7800</td>\n",
       "      <td>89</td>\n",
       "      <td>19732</td>\n",
       "      <td>4489</td>\n",
       "      <td>0.700689</td>\n",
       "    </tr>\n",
       "  </tbody>\n",
       "</table>\n",
       "</div>"
      ],
      "text/plain": [
       "   mall_id  class_num  sample_num  wifi_num   acc_cv0\n",
       "12  m_1920         69       15301      6640  0.787988\n",
       "45  m_4079         91       20619      5811  0.770260\n",
       "49  m_4187         89        9520      2754  0.755777\n",
       "52  m_4422         94       20741      6491  0.752278\n",
       "72  m_6167        124        5358      3914  0.799179\n",
       "81  m_7168         99       26355      8739  0.728932\n",
       "85  m_7800         89       19732      4489  0.700689"
      ]
     },
     "execution_count": 49,
     "metadata": {},
     "output_type": "execute_result"
    }
   ],
   "source": [
    "mall_info[mall_info.acc_cv0<0.8]"
   ]
  },
  {
   "cell_type": "markdown",
   "metadata": {},
   "source": [
    "'m_7800'"
   ]
  },
  {
   "cell_type": "code",
   "execution_count": null,
   "metadata": {
    "collapsed": true
   },
   "outputs": [],
   "source": []
  }
 ],
 "metadata": {
  "kernelspec": {
   "display_name": "Python 3",
   "language": "python",
   "name": "python3"
  },
  "language_info": {
   "codemirror_mode": {
    "name": "ipython",
    "version": 3
   },
   "file_extension": ".py",
   "mimetype": "text/x-python",
   "name": "python",
   "nbconvert_exporter": "python",
   "pygments_lexer": "ipython3",
   "version": "3.6.1"
  }
 },
 "nbformat": 4,
 "nbformat_minor": 2
}
